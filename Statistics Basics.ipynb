{
 "cells": [
  {
   "cell_type": "markdown",
   "id": "ee89fd80-3e38-43cf-8c27-60bc7daeeea8",
   "metadata": {},
   "source": [
    "# Statistics Basics"
   ]
  },
  {
   "cell_type": "markdown",
   "id": "33b09299-971e-4cb7-8ccf-2e6206238ef7",
   "metadata": {},
   "source": [
    "#   Theory Questions"
   ]
  },
  {
   "cell_type": "markdown",
   "id": "eae363ae-479a-44f5-aa0f-4fca785593e7",
   "metadata": {},
   "source": [
    "**Q 1.  What is statistics, and why is it important?**"
   ]
  },
  {
   "cell_type": "markdown",
   "id": "a0e0a37e-19cd-415f-a37e-6764d2a461a5",
   "metadata": {},
   "source": [
    "**Ans.** tatistics is the branch of mathematics that deals with the collection, organization, analysis, interpretation, and presentation of data. It helps us understand and draw conclusions from data, whether it's numerical (quantitative) or categorical (qualitative)."
   ]
  },
  {
   "cell_type": "markdown",
   "id": "5cbc7c70-7d2f-4c46-a389-31b3eb684fcd",
   "metadata": {},
   "source": [
    "Statistics is Important: "
   ]
  },
  {
   "cell_type": "markdown",
   "id": "3ec11c9f-da60-4d60-aeda-a55ba93e83dd",
   "metadata": {},
   "source": []
  },
  {
   "cell_type": "markdown",
   "id": "b408338b-27d9-4f5f-94dc-6650bbc8f060",
   "metadata": {},
   "source": []
  },
  {
   "cell_type": "markdown",
   "id": "cc1fde67-73af-4852-8e70-cd3357f43333",
   "metadata": {},
   "source": []
  },
  {
   "cell_type": "markdown",
   "id": "d6c3ef60-dc68-4f06-883a-6d266033512f",
   "metadata": {},
   "source": []
  },
  {
   "cell_type": "markdown",
   "id": "bbb126c7-9ed6-48b7-8f08-fff028a5729a",
   "metadata": {},
   "source": []
  },
  {
   "cell_type": "markdown",
   "id": "52f8a2ae-d80a-45dc-ab3e-b5e4c4804061",
   "metadata": {},
   "source": []
  },
  {
   "cell_type": "markdown",
   "id": "2b22a955-9321-4ca6-be77-ddd3800e6131",
   "metadata": {},
   "source": [
    "**Ans.** "
   ]
  },
  {
   "cell_type": "markdown",
   "id": "867f9937-fe59-45d6-82a8-0fd46e78c1f0",
   "metadata": {},
   "source": [
    "**Ans.** "
   ]
  },
  {
   "cell_type": "markdown",
   "id": "08401a90-018d-439d-a02a-ab7bcfcde51d",
   "metadata": {},
   "source": [
    "**Ans.** "
   ]
  },
  {
   "cell_type": "code",
   "execution_count": null,
   "id": "c53c14bb-5936-4713-b743-0457ca3d0f16",
   "metadata": {},
   "outputs": [],
   "source": []
  }
 ],
 "metadata": {
  "kernelspec": {
   "display_name": "Python 3 (ipykernel)",
   "language": "python",
   "name": "python3"
  },
  "language_info": {
   "codemirror_mode": {
    "name": "ipython",
    "version": 3
   },
   "file_extension": ".py",
   "mimetype": "text/x-python",
   "name": "python",
   "nbconvert_exporter": "python",
   "pygments_lexer": "ipython3",
   "version": "3.13.3"
  }
 },
 "nbformat": 4,
 "nbformat_minor": 5
}
