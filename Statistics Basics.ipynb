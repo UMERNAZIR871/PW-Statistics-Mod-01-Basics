{
 "cells": [
  {
   "cell_type": "markdown",
   "id": "ee89fd80-3e38-43cf-8c27-60bc7daeeea8",
   "metadata": {},
   "source": [
    "# Statistics Basics"
   ]
  },
  {
   "cell_type": "markdown",
   "id": "33b09299-971e-4cb7-8ccf-2e6206238ef7",
   "metadata": {},
   "source": [
    "#   Theory Questions"
   ]
  },
  {
   "cell_type": "markdown",
   "id": "eae363ae-479a-44f5-aa0f-4fca785593e7",
   "metadata": {},
   "source": [
    "**Q 1.  What is statistics, and why is it important?**"
   ]
  },
  {
   "cell_type": "markdown",
   "id": "a0e0a37e-19cd-415f-a37e-6764d2a461a5",
   "metadata": {},
   "source": [
    "**Ans.** tatistics is the branch of mathematics that deals with the collection, organization, analysis, interpretation, and presentation of data. It helps us understand and draw conclusions from data, whether it's numerical (quantitative) or categorical (qualitative)."
   ]
  },
  {
   "cell_type": "markdown",
   "id": "5cbc7c70-7d2f-4c46-a389-31b3eb684fcd",
   "metadata": {},
   "source": [
    "Statistics is Important: "
   ]
  },
  {
   "cell_type": "markdown",
   "id": "3ec11c9f-da60-4d60-aeda-a55ba93e83dd",
   "metadata": {},
   "source": [
    "1. **Decision-Making:** Statistics provides tools to make informed decisions based on data — whether in business, medicine, government, or daily life.\n",
    "2. **Understanding Trends:** It helps us identify trends and patterns — for example, how sales are growing or how a disease is spreading.\n",
    "3. **Scientific Research:** In scientific studies, statistics is essential for designing experiments, analyzing results, and validating hypotheses.\n",
    "4. **Risk Management:** In finance, insurance, and engineering, statistics helps assess and manage risk.\n",
    "5. **Policy Making:** Governments rely on statistics to shape public policy based on population surveys, economic data, and health metrics.\n",
    "6. **Predictive Power:** Using probability and statistical models, we can predict future outcomes like weather forecasts, election results, or consumer behavior."
   ]
  },
  {
   "cell_type": "markdown",
   "id": "b408338b-27d9-4f5f-94dc-6650bbc8f060",
   "metadata": {},
   "source": [
    "**Q 2. What are the two main types of statistics?**"
   ]
  },
  {
   "cell_type": "markdown",
   "id": "cc1fde67-73af-4852-8e70-cd3357f43333",
   "metadata": {},
   "source": [
    "**Ans.** The two main types of statistics are:"
   ]
  },
  {
   "cell_type": "markdown",
   "id": "2c6350a1-5c6e-412e-9252-99d8046cd0de",
   "metadata": {},
   "source": [
    "1. **Descriptive Statistics:** Descriptive statistics summarize and organize data so it can be easily understood."
   ]
  },
  {
   "cell_type": "markdown",
   "id": "d6c3ef60-dc68-4f06-883a-6d266033512f",
   "metadata": {},
   "source": [
    "**Key features:**\n",
    "- Focuses on what the data shows.\n",
    "- Involves measures such as:\n",
    "    - Mean (average)\n",
    "    - Median (middle value)\n",
    "    - Mode (most frequent value)\n",
    "    - Standard deviation (spread of data)\n",
    "    - Graphs and charts (like bar charts, histograms, pie charts)."
   ]
  },
  {
   "cell_type": "markdown",
   "id": "52f8a2ae-d80a-45dc-ab3e-b5e4c4804061",
   "metadata": {},
   "source": [
    "Example: A teacher calculates the average test score of her class to summarize performance."
   ]
  },
  {
   "cell_type": "markdown",
   "id": "99b9b143-fe3b-4d61-bd97-c731225feaa4",
   "metadata": {},
   "source": [
    "2. **Inferential Statistics:** Inferential statistics use data from a sample to make predictions or generalizations about a larger population.\n",
    "\n",
    "**Key features:**\n",
    "- Focuses on drawing conclusions beyond the data.\n",
    "- Involves:\n",
    "    - Hypothesis testing\n",
    "    - Confidence intervals\n",
    "    - Regression analysis\n",
    "    - Probability models"
   ]
  },
  {
   "cell_type": "markdown",
   "id": "3717244a-cd99-4fa8-877b-e1caaa5a1ec9",
   "metadata": {},
   "source": [
    "Example: A researcher tests a new drug on 100 patients and uses the results to infer its effectiveness on the entire population."
   ]
  },
  {
   "cell_type": "markdown",
   "id": "0cf85aa9-7595-4dbb-88b4-cb86c2ef8b16",
   "metadata": {},
   "source": [
    "**Q 3.  What are descriptive statistics?**"
   ]
  },
  {
   "cell_type": "markdown",
   "id": "2b22a955-9321-4ca6-be77-ddd3800e6131",
   "metadata": {},
   "source": [
    "**Ans.** Descriptive statistics are methods used to summarize, organize, and present data in a meaningful way. They help you understand the main features of a dataset without drawing conclusions beyond the data itself."
   ]
  },
  {
   "cell_type": "markdown",
   "id": "867f9937-fe59-45d6-82a8-0fd46e78c1f0",
   "metadata": {},
   "source": [
    "**Key Features of Descriptive Statistics:**\n",
    "\n",
    "1. They describe the data — not interpret or predict.\n",
    "2. They apply to the actual data collected, not to a larger population.\n",
    "3. They simplify large amounts of information into understandable forms "
   ]
  },
  {
   "cell_type": "markdown",
   "id": "134a04b7-5327-46b1-803d-01994d43a72a",
   "metadata": {},
   "source": [
    "**Types of Descriptive Statistics:**"
   ]
  },
  {
   "cell_type": "markdown",
   "id": "08401a90-018d-439d-a02a-ab7bcfcde51d",
   "metadata": {},
   "source": [
    "1. **Measures of Central Tendency:**"
   ]
  },
  {
   "cell_type": "markdown",
   "id": "56b02ac0-3a7f-445a-91a4-16b9a8cd7a08",
   "metadata": {},
   "source": [
    "These indicate the center or average of a dataset:\n",
    "\n",
    "- Mean – the average value\n",
    "- Median – the middle value\n",
    "- Mode – the most frequent value"
   ]
  },
  {
   "cell_type": "markdown",
   "id": "67627449-7274-4d0a-bfb9-65e5cedbf9d8",
   "metadata": {},
   "source": [
    "2. **Measures of Dispersion (Spread):**"
   ]
  },
  {
   "cell_type": "markdown",
   "id": "60ce3c58-5a0d-4a1f-981b-ba5f9d141085",
   "metadata": {},
   "source": [
    "These show how spread out the data is:\n",
    "\n",
    "- Range – difference between highest and lowest values\n",
    "- Variance – average squared deviation from the mean\n",
    "- Standard Deviation – average distance from the mean"
   ]
  },
  {
   "cell_type": "markdown",
   "id": "36a1526a-1100-47ca-9c2e-c1df528199f8",
   "metadata": {},
   "source": [
    "3. **Measures of Position**"
   ]
  },
  {
   "cell_type": "markdown",
   "id": "12aacaba-fee7-4a04-94ba-0b8107d26867",
   "metadata": {},
   "source": [
    "These locate values within a dataset:\n",
    "\n",
    "- Percentiles – indicate relative standing (e.g., 90th percentile)\n",
    "- Quartiles – divide data into four equal parts"
   ]
  },
  {
   "cell_type": "markdown",
   "id": "eed48ae1-384a-4be7-bb0a-4bee038a4394",
   "metadata": {},
   "source": [
    "4. **Data Visualization Tools**"
   ]
  },
  {
   "cell_type": "markdown",
   "id": "c678f4c0-ade9-4d58-8b6b-9b8da46f0a9b",
   "metadata": {},
   "source": [
    "These help visually interpret data:\n",
    "\n",
    "- Bar charts\n",
    "- Histograms\n",
    "- Pie charts\n",
    "- Box plots\n",
    "- Frequency tables"
   ]
  },
  {
   "cell_type": "markdown",
   "id": "7d433f75-6aca-4990-a2ce-bff5eef59762",
   "metadata": {},
   "source": [
    "**Q 4. What is inferential statistics?** "
   ]
  },
  {
   "cell_type": "markdown",
   "id": "bf2c7bf6-c9c7-48e0-b67d-d25bc07d8b46",
   "metadata": {},
   "source": [
    "**Ans.** Inferential statistics is the branch of statistics that allows us to make predictions, generalizations, or decisions about a larger population based on data collected from a sample."
   ]
  },
  {
   "cell_type": "markdown",
   "id": "66bb49a4-8f92-4e29-9549-f77c9b16844f",
   "metadata": {},
   "source": [
    ">Key Idea: You study a small part (the sample) and use it to draw conclusions about the whole group (the population)."
   ]
  },
  {
   "cell_type": "markdown",
   "id": "a4476249-b0ca-4cdc-a1d9-87aa24788547",
   "metadata": {},
   "source": [
    "**Purpose of Inferential Statistics:**\n",
    "\n",
    "- To make inferences about populations.\n",
    "- To test hypotheses and determine relationships.\n",
    "- To estimate population parameters (like the true average or proportion)."
   ]
  },
  {
   "cell_type": "markdown",
   "id": "e6475214-8f54-45f0-ae16-916025b19044",
   "metadata": {},
   "source": [
    "**Key Techniques:**"
   ]
  },
  {
   "cell_type": "markdown",
   "id": "6a9bcc6b-037f-42e4-813c-418f6b1f390c",
   "metadata": {},
   "source": [
    "1. **ypothesis Testing**: Tests assumptions or claims about a population (e.g., \"Does this medicine work better than the old one?\").\n",
    "2. **Confidence Intervals**: Gives a range of values within which the true population parameter likely falls (e.g., \"We are 95% confident that the average height is between 165–170 cm\").\n",
    "3. **Regression Analysis**: Predicts the value of one variable based on another (e.g., income based on education level).\n",
    "4. **Chi-square tests and ANOVA**: Determine relationships or differences between groups or categories.\n",
    "5. **Probability** Used to measure the likelihood that an observed result happened by chance."
   ]
  },
  {
   "cell_type": "markdown",
   "id": "74ab3a41-3eb4-43a9-b608-76a4eec51b7f",
   "metadata": {},
   "source": [
    "Example:"
   ]
  },
  {
   "cell_type": "markdown",
   "id": "936dc72a-3cec-415d-bafb-66b5013eaaea",
   "metadata": {},
   "source": [
    "Suppose a researcher surveys 200 people about their favorite soda, and 60% say they prefer brand A."
   ]
  },
  {
   "cell_type": "markdown",
   "id": "03691839-6dc8-4fb6-ac1d-69bc800a7ee5",
   "metadata": {},
   "source": [
    "With inferential statistics, they might say:"
   ]
  },
  {
   "cell_type": "markdown",
   "id": "91dc34a0-f7b5-474a-98f9-2b4a8334aeb9",
   "metadata": {},
   "source": [
    "*\"We estimate that around 60% of all people in the city prefer brand A, with a 5% margin of error.\"*"
   ]
  },
  {
   "cell_type": "markdown",
   "id": "4a2f7e0e-cb48-4deb-b54d-16e1c07e549f",
   "metadata": {},
   "source": [
    "**Q 5. What is sampling in statistics?**"
   ]
  },
  {
   "cell_type": "markdown",
   "id": "7420f0c7-d636-4133-a72e-382ad9d4bbb3",
   "metadata": {},
   "source": [
    "**Ans.** Sampling in statistics is the process of selecting a subset (sample) from a larger group (population) to collect data and make inferences about the whole population."
   ]
  },
  {
   "cell_type": "markdown",
   "id": "08bc40eb-662d-4d40-9fb2-e93b110151b5",
   "metadata": {},
   "source": [
    "**Purpose of Sampling:** "
   ]
  },
  {
   "cell_type": "markdown",
   "id": "a9b5c527-f89d-4fef-9f88-099202a75dae",
   "metadata": {},
   "source": [
    "To gather data from a representative group so you can:\n",
    "\n",
    "1. Estimate population values\n",
    "2. Test hypotheses\n",
    "3. Make predictions"
   ]
  },
  {
   "cell_type": "markdown",
   "id": "3939ffca-a946-4138-9f96-4b49d5ac0ac5",
   "metadata": {},
   "source": [
    "**Types of Sampling:**"
   ]
  },
  {
   "cell_type": "markdown",
   "id": "68f199dc-e6ec-49a3-a13d-e6fecc008f0b",
   "metadata": {},
   "source": [
    "1. **Probability Sampling (random and unbiased):**\n",
    "    - Simple Random Sampling: Everyone has an equal chance of being selected.\n",
    "    - Stratified Sampling: Population is divided into groups (strata), and samples are taken from each.\n",
    "    - Systematic Sampling: Every nth item is chosen.\n",
    "    - Cluster Sampling: Population is divided into clusters, and some clusters are fully surveyed."
   ]
  },
  {
   "cell_type": "markdown",
   "id": "68339c34-eaee-4f70-816d-e66c112fce70",
   "metadata": {},
   "source": [
    "2. **Non-Probability Sampling (not random, may be biased)**\n",
    "    - Convenience Sampling: Easy-to-reach participants are selected.\n",
    "    - Judgmental Sampling: Based on expert judgment.\n",
    "    - Quota Sampling: Ensures certain characteristics are represented.\n",
    "    - Snowball Sampling: Participants refer others (useful for hard-to-reach groups)."
   ]
  },
  {
   "cell_type": "markdown",
   "id": "dc3af711-3aa2-47a0-a012-2eda777db716",
   "metadata": {},
   "source": [
    "**Q 6. What are the different types of sampling methods?**"
   ]
  },
  {
   "cell_type": "markdown",
   "id": "fc85b0af-0d64-43f3-a61c-2d9e55beeffe",
   "metadata": {},
   "source": [
    "**Ans.** In statistics, sampling methods are techniques used to select individuals or items from a larger group (the population) to form a sample. These methods are broadly divided into two categories:"
   ]
  },
  {
   "cell_type": "markdown",
   "id": "f9c98c8e-d504-427a-b3b7-8e07165e9ee0",
   "metadata": {},
   "source": [
    "1. **Probability Sampling Methods:** Every member of the population has a known, non-zero chance of being selected."
   ]
  },
  {
   "cell_type": "markdown",
   "id": "e1e27c5e-9cce-454b-b9a9-303b8e261965",
   "metadata": {},
   "source": [
    "- *Simple Random Sampling*\n",
    "    - Every individual has an equal chance of being chosen.\n",
    "    - Usually done using a random number generator or lottery system.\n",
    "    - 🔹 Example: Drawing 50 names out of a hat from a class of 200.\n",
    "\n",
    "- *Stratified Sampling*\n",
    "    - The population is divided into strata (subgroups) based on a characteristic (e.g., gender, age).\n",
    "    - A random sample is taken from each stratum.\n",
    "    - 🔹 Example: Surveying 100 people by selecting 50 men and 50 women from different age groups.\n",
    "\n",
    "- *Systematic Sampling*\n",
    "    - Select every kth individual from a list after a random starting point.\n",
    "    - 🔹 Example: Every 10th person on a company employee list.\n",
    "\n",
    "- *Cluster Sampling*\n",
    "    - Divide the population into clusters (often geographically), then randomly select entire clusters.\n",
    "    - 🔹 Example: Randomly selecting 5 schools and surveying all students in those schools."
   ]
  },
  {
   "cell_type": "markdown",
   "id": "99852450-e0e9-40c0-ac87-6e5430686469",
   "metadata": {},
   "source": [
    "2. **Non-Probability Sampling Methods:**  Not every member has a known or equal chance of being selected; often quicker and cheaper but more prone to bias."
   ]
  },
  {
   "cell_type": "markdown",
   "id": "4f699ecb-2cf6-4081-bffd-6c23e3659ba9",
   "metadata": {},
   "source": [
    "- **Convenience Sampling:**\n",
    "    - Select individuals who are easy to reach or access.\n",
    "    - 🔹 Example: Surveying people at a mall.\n",
    "\n",
    "- **Judgmental (Purposive) Sampling:**\n",
    "- The researcher selects individuals based on their knowledge or expertise.\n",
    "\n",
    "- 🔹 Example: Interviewing experts in a medical study.\n",
    "\n",
    "- **Quota Sampling:**\n",
    "    - Similar to stratified sampling but non-random; the researcher fills quotas for different groups.\n",
    "    - 🔹 Example: Interviewing 30 men and 30 women from different age groups until quotas are met.\n",
    "\n",
    "- **Snowball Sampling:**\n",
    "    - Existing participants refer others from their network; useful for hard-to-reach populations\n",
    "    - 🔹 Example: Studying people with rare diseases or underground communities.  "
   ]
  },
  {
   "cell_type": "markdown",
   "id": "3435e960-7460-42d4-86c5-f272adc86401",
   "metadata": {},
   "source": [
    "*Summary Table:*\n",
    "\n",
    "| Method Type     | Sampling Method | Key Feature                                     |\n",
    "| --------------- | --------------- | ----------------------------------------------- |\n",
    "| Probability     | Simple Random   | Equal chance for all                            |\n",
    "| Probability     | Stratified      | Sample from each subgroup                       |\n",
    "| Probability     | Systematic      | Every kth element selected                      |\n",
    "| Probability     | Cluster         | Randomly select entire groups                   |\n",
    "| Non-Probability | Convenience     | Based on accessibility                          |\n",
    "| Non-Probability | Judgmental      | Based on researcher judgment                    |\n",
    "| Non-Probability | Quota           | Target specific subgroups without randomization |\n",
    "| Non-Probability | Snowball        | Participants recruit other participants         |\n"
   ]
  },
  {
   "cell_type": "markdown",
   "id": "55f78e31-6936-4dfc-a501-d04d687cd12d",
   "metadata": {},
   "source": [
    "**Q 7.  What is the difference between random and non-random sampling?**"
   ]
  },
  {
   "cell_type": "markdown",
   "id": "e9ac614a-1077-4696-9c6e-49b14fcfd947",
   "metadata": {},
   "source": [
    "**Ans.** The main difference between random and non-random sampling lies in how participants are selected from the population — whether by chance or by choice."
   ]
  },
  {
   "cell_type": "markdown",
   "id": "dca44167-1e23-4325-b83b-82ea2a7590a0",
   "metadata": {},
   "source": [
    "*Random Sampling (also called probability sampling):* In random sampling, every individual in the population has a known and equal chance of being selected. It uses random methods like a lottery or random number generator."
   ]
  },
  {
   "cell_type": "markdown",
   "id": "959ab7d7-bee6-428e-91c4-1d1df6ba83eb",
   "metadata": {},
   "source": [
    "*Key Features:*\n",
    "- Unbiased: Reduces selection bias\n",
    "- Representative: Better reflects the entire population\n",
    "- Statistical inference: Results can be generalized to the population\n",
    "- Examples:\n",
    "    - Simple Random Sampling\n",
    "    - Stratified Sampling\n",
    "    - Systematic Sampling\n",
    "    - Cluster Sampling"
   ]
  },
  {
   "cell_type": "markdown",
   "id": "2578d335-d512-4a8d-890b-719ec3a5343f",
   "metadata": {},
   "source": [
    "*Non-Random Sampling (also called non-probability sampling):* In non-random sampling, not every individual has an equal or known chance of being selected. Selection is based on convenience, judgment, or accessibility, not randomness."
   ]
  },
  {
   "cell_type": "markdown",
   "id": "9ae8a3b9-90f6-4ad7-bca2-3bd65fa0f9ef",
   "metadata": {},
   "source": [
    "*Key Features:*\n",
    "- Biased: Higher risk of sampling bias\n",
    "- Less representative: May not reflect the population accurately\n",
    "- Limited generalization: Results apply mainly to the sample\n",
    "- Examples:\n",
    "    - Convenience Sampling\n",
    "    - Judgmental (Purposive) Sampling\n",
    "    - Quota Sampling\n",
    "    - Snowball Sampling"
   ]
  },
  {
   "cell_type": "code",
   "execution_count": null,
   "id": "7930720f-35cb-403d-b193-57336024b493",
   "metadata": {},
   "outputs": [],
   "source": [
    "Summary Table:\n",
    "\n",
    "| Feature             | Random Sampling                    | Non-Random Sampling                      |\n",
    "| ------------------- | ---------------------------------- | ---------------------------------------- |\n",
    "| Selection Method    | Based on chance                    | Based on convenience or judgment         |\n",
    "| Chance of Selection | Known and equal                    | Unknown or unequal                       |\n",
    "| Bias                | Low (if done properly)             | High                                     |\n",
    "| Representation      | Likely representative              | May not represent population well        |\n",
    "| Generalizability    | Results can be generalized         | Limited generalization                   |\n",
    "| Examples            | Simple random, stratified, cluster | Convenience, quota, snowball, judgmental |\n"
   ]
  },
  {
   "cell_type": "markdown",
   "id": "f2f30b4d-6734-4729-9f31-5981a3254443",
   "metadata": {},
   "source": [
    "**Q 8. Define and give examples of qualitative and quantitative data**"
   ]
  },
  {
   "cell_type": "code",
   "execution_count": null,
   "id": "89df326d-c21c-4911-8da2-c3778bebdec4",
   "metadata": {},
   "outputs": [],
   "source": []
  }
 ],
 "metadata": {
  "kernelspec": {
   "display_name": "Python 3 (ipykernel)",
   "language": "python",
   "name": "python3"
  },
  "language_info": {
   "codemirror_mode": {
    "name": "ipython",
    "version": 3
   },
   "file_extension": ".py",
   "mimetype": "text/x-python",
   "name": "python",
   "nbconvert_exporter": "python",
   "pygments_lexer": "ipython3",
   "version": "3.13.3"
  }
 },
 "nbformat": 4,
 "nbformat_minor": 5
}
