{
 "cells": [
  {
   "cell_type": "markdown",
   "id": "ee89fd80-3e38-43cf-8c27-60bc7daeeea8",
   "metadata": {},
   "source": [
    "# Statistics Basics"
   ]
  },
  {
   "cell_type": "markdown",
   "id": "33b09299-971e-4cb7-8ccf-2e6206238ef7",
   "metadata": {},
   "source": [
    "#   Theory Questions"
   ]
  },
  {
   "cell_type": "markdown",
   "id": "eae363ae-479a-44f5-aa0f-4fca785593e7",
   "metadata": {},
   "source": [
    "**Q 1.  What is statistics, and why is it important?**"
   ]
  },
  {
   "cell_type": "markdown",
   "id": "a0e0a37e-19cd-415f-a37e-6764d2a461a5",
   "metadata": {},
   "source": [
    "**Ans.** tatistics is the branch of mathematics that deals with the collection, organization, analysis, interpretation, and presentation of data. It helps us understand and draw conclusions from data, whether it's numerical (quantitative) or categorical (qualitative)."
   ]
  },
  {
   "cell_type": "markdown",
   "id": "5cbc7c70-7d2f-4c46-a389-31b3eb684fcd",
   "metadata": {},
   "source": [
    "Statistics is Important: "
   ]
  },
  {
   "cell_type": "markdown",
   "id": "3ec11c9f-da60-4d60-aeda-a55ba93e83dd",
   "metadata": {},
   "source": [
    "1. **Decision-Making:** Statistics provides tools to make informed decisions based on data — whether in business, medicine, government, or daily life.\n",
    "2. **Understanding Trends:** It helps us identify trends and patterns — for example, how sales are growing or how a disease is spreading.\n",
    "3. **Scientific Research:** In scientific studies, statistics is essential for designing experiments, analyzing results, and validating hypotheses.\n",
    "4. **Risk Management:** In finance, insurance, and engineering, statistics helps assess and manage risk.\n",
    "5. **Policy Making:** Governments rely on statistics to shape public policy based on population surveys, economic data, and health metrics.\n",
    "6. **Predictive Power:** Using probability and statistical models, we can predict future outcomes like weather forecasts, election results, or consumer behavior."
   ]
  },
  {
   "cell_type": "markdown",
   "id": "b408338b-27d9-4f5f-94dc-6650bbc8f060",
   "metadata": {},
   "source": [
    "**Q 2. What are the two main types of statistics?**"
   ]
  },
  {
   "cell_type": "markdown",
   "id": "cc1fde67-73af-4852-8e70-cd3357f43333",
   "metadata": {},
   "source": [
    "**Ans.** The two main types of statistics are:"
   ]
  },
  {
   "cell_type": "markdown",
   "id": "2c6350a1-5c6e-412e-9252-99d8046cd0de",
   "metadata": {},
   "source": [
    "1. **Descriptive Statistics:** Descriptive statistics summarize and organize data so it can be easily understood."
   ]
  },
  {
   "cell_type": "markdown",
   "id": "d6c3ef60-dc68-4f06-883a-6d266033512f",
   "metadata": {},
   "source": [
    "**Key features:**\n",
    "- Focuses on what the data shows.\n",
    "- Involves measures such as:\n",
    "    - Mean (average)\n",
    "    - Median (middle value)\n",
    "    - Mode (most frequent value)\n",
    "    - Standard deviation (spread of data)\n",
    "    - Graphs and charts (like bar charts, histograms, pie charts)."
   ]
  },
  {
   "cell_type": "markdown",
   "id": "52f8a2ae-d80a-45dc-ab3e-b5e4c4804061",
   "metadata": {},
   "source": [
    "Example: A teacher calculates the average test score of her class to summarize performance."
   ]
  },
  {
   "cell_type": "markdown",
   "id": "99b9b143-fe3b-4d61-bd97-c731225feaa4",
   "metadata": {},
   "source": [
    "2. **Inferential Statistics:** Inferential statistics use data from a sample to make predictions or generalizations about a larger population.\n",
    "\n",
    "**Key features:**\n",
    "- Focuses on drawing conclusions beyond the data.\n",
    "- Involves:\n",
    "    - Hypothesis testing\n",
    "    - Confidence intervals\n",
    "    - Regression analysis\n",
    "    - Probability models"
   ]
  },
  {
   "cell_type": "markdown",
   "id": "3717244a-cd99-4fa8-877b-e1caaa5a1ec9",
   "metadata": {},
   "source": [
    "Example: A researcher tests a new drug on 100 patients and uses the results to infer its effectiveness on the entire population."
   ]
  },
  {
   "cell_type": "markdown",
   "id": "0cf85aa9-7595-4dbb-88b4-cb86c2ef8b16",
   "metadata": {},
   "source": [
    "**Q 3.  What are descriptive statistics?**"
   ]
  },
  {
   "cell_type": "markdown",
   "id": "2b22a955-9321-4ca6-be77-ddd3800e6131",
   "metadata": {},
   "source": [
    "**Ans.** Descriptive statistics are methods used to summarize, organize, and present data in a meaningful way. They help you understand the main features of a dataset without drawing conclusions beyond the data itself."
   ]
  },
  {
   "cell_type": "markdown",
   "id": "867f9937-fe59-45d6-82a8-0fd46e78c1f0",
   "metadata": {},
   "source": [
    "**Key Features of Descriptive Statistics:**\n",
    "\n",
    "1. They describe the data — not interpret or predict.\n",
    "2. They apply to the actual data collected, not to a larger population.\n",
    "3. They simplify large amounts of information into understandable forms "
   ]
  },
  {
   "cell_type": "markdown",
   "id": "134a04b7-5327-46b1-803d-01994d43a72a",
   "metadata": {},
   "source": [
    "**Types of Descriptive Statistics:**"
   ]
  },
  {
   "cell_type": "markdown",
   "id": "08401a90-018d-439d-a02a-ab7bcfcde51d",
   "metadata": {},
   "source": [
    "1. **Measures of Central Tendency:**"
   ]
  },
  {
   "cell_type": "markdown",
   "id": "56b02ac0-3a7f-445a-91a4-16b9a8cd7a08",
   "metadata": {},
   "source": [
    "These indicate the center or average of a dataset:\n",
    "\n",
    "- Mean – the average value\n",
    "- Median – the middle value\n",
    "- Mode – the most frequent value"
   ]
  },
  {
   "cell_type": "markdown",
   "id": "67627449-7274-4d0a-bfb9-65e5cedbf9d8",
   "metadata": {},
   "source": [
    "2. **Measures of Dispersion (Spread):**"
   ]
  },
  {
   "cell_type": "markdown",
   "id": "60ce3c58-5a0d-4a1f-981b-ba5f9d141085",
   "metadata": {},
   "source": [
    "These show how spread out the data is:\n",
    "\n",
    "- Range – difference between highest and lowest values\n",
    "- Variance – average squared deviation from the mean\n",
    "- Standard Deviation – average distance from the mean"
   ]
  },
  {
   "cell_type": "markdown",
   "id": "36a1526a-1100-47ca-9c2e-c1df528199f8",
   "metadata": {},
   "source": [
    "3. **Measures of Position**"
   ]
  },
  {
   "cell_type": "markdown",
   "id": "12aacaba-fee7-4a04-94ba-0b8107d26867",
   "metadata": {},
   "source": [
    "These locate values within a dataset:\n",
    "\n",
    "- Percentiles – indicate relative standing (e.g., 90th percentile)\n",
    "- Quartiles – divide data into four equal parts"
   ]
  },
  {
   "cell_type": "markdown",
   "id": "eed48ae1-384a-4be7-bb0a-4bee038a4394",
   "metadata": {},
   "source": [
    "4. **Data Visualization Tools**"
   ]
  },
  {
   "cell_type": "markdown",
   "id": "c678f4c0-ade9-4d58-8b6b-9b8da46f0a9b",
   "metadata": {},
   "source": [
    "These help visually interpret data:\n",
    "\n",
    "- Bar charts\n",
    "- Histograms\n",
    "- Pie charts\n",
    "- Box plots\n",
    "- Frequency tables"
   ]
  },
  {
   "cell_type": "markdown",
   "id": "7d433f75-6aca-4990-a2ce-bff5eef59762",
   "metadata": {},
   "source": [
    "**Q 4. What is inferential statistics?** "
   ]
  },
  {
   "cell_type": "markdown",
   "id": "bf2c7bf6-c9c7-48e0-b67d-d25bc07d8b46",
   "metadata": {},
   "source": [
    "**Ans.** Inferential statistics is the branch of statistics that allows us to make predictions, generalizations, or decisions about a larger population based on data collected from a sample."
   ]
  },
  {
   "cell_type": "markdown",
   "id": "66bb49a4-8f92-4e29-9549-f77c9b16844f",
   "metadata": {},
   "source": [
    ">Key Idea: You study a small part (the sample) and use it to draw conclusions about the whole group (the population)."
   ]
  },
  {
   "cell_type": "markdown",
   "id": "a4476249-b0ca-4cdc-a1d9-87aa24788547",
   "metadata": {},
   "source": [
    "**Purpose of Inferential Statistics:**\n",
    "\n",
    "- To make inferences about populations.\n",
    "- To test hypotheses and determine relationships.\n",
    "- To estimate population parameters (like the true average or proportion)."
   ]
  },
  {
   "cell_type": "markdown",
   "id": "e6475214-8f54-45f0-ae16-916025b19044",
   "metadata": {},
   "source": [
    "**Key Techniques:**"
   ]
  },
  {
   "cell_type": "markdown",
   "id": "6a9bcc6b-037f-42e4-813c-418f6b1f390c",
   "metadata": {},
   "source": [
    "1. **Hypothesis Testing**: Tests assumptions or claims about a population (e.g., \"Does this medicine work better than the old one?\").\n",
    "2. **Confidence Intervals**: Gives a range of values within which the true population parameter likely falls (e.g., \"We are 95% confident that the average height is between 165–170 cm\").\n",
    "3. **Regression Analysis**: Predicts the value of one variable based on another (e.g., income based on education level).\n",
    "4. **Chi-square tests and ANOVA**: Determine relationships or differences between groups or categories.\n",
    "5. **Probability** Used to measure the likelihood that an observed result happened by chance."
   ]
  },
  {
   "cell_type": "markdown",
   "id": "74ab3a41-3eb4-43a9-b608-76a4eec51b7f",
   "metadata": {},
   "source": [
    "Example:"
   ]
  },
  {
   "cell_type": "markdown",
   "id": "936dc72a-3cec-415d-bafb-66b5013eaaea",
   "metadata": {},
   "source": [
    "Suppose a researcher surveys 200 people about their favorite soda, and 60% say they prefer brand A."
   ]
  },
  {
   "cell_type": "markdown",
   "id": "03691839-6dc8-4fb6-ac1d-69bc800a7ee5",
   "metadata": {},
   "source": [
    "With inferential statistics, they might say:"
   ]
  },
  {
   "cell_type": "markdown",
   "id": "91dc34a0-f7b5-474a-98f9-2b4a8334aeb9",
   "metadata": {},
   "source": [
    "*\"We estimate that around 60% of all people in the city prefer brand A, with a 5% margin of error.\"*"
   ]
  },
  {
   "cell_type": "markdown",
   "id": "4a2f7e0e-cb48-4deb-b54d-16e1c07e549f",
   "metadata": {},
   "source": [
    "**Q 5. What is sampling in statistics?**"
   ]
  },
  {
   "cell_type": "markdown",
   "id": "7420f0c7-d636-4133-a72e-382ad9d4bbb3",
   "metadata": {},
   "source": [
    "**Ans.** Sampling in statistics is the process of selecting a subset (sample) from a larger group (population) to collect data and make inferences about the whole population."
   ]
  },
  {
   "cell_type": "markdown",
   "id": "08bc40eb-662d-4d40-9fb2-e93b110151b5",
   "metadata": {},
   "source": [
    "**Purpose of Sampling:** "
   ]
  },
  {
   "cell_type": "markdown",
   "id": "a9b5c527-f89d-4fef-9f88-099202a75dae",
   "metadata": {},
   "source": [
    "To gather data from a representative group so you can:\n",
    "\n",
    "1. Estimate population values\n",
    "2. Test hypotheses\n",
    "3. Make predictions"
   ]
  },
  {
   "cell_type": "markdown",
   "id": "3939ffca-a946-4138-9f96-4b49d5ac0ac5",
   "metadata": {},
   "source": [
    "**Types of Sampling:**"
   ]
  },
  {
   "cell_type": "markdown",
   "id": "68f199dc-e6ec-49a3-a13d-e6fecc008f0b",
   "metadata": {},
   "source": [
    "1. **Probability Sampling (random and unbiased):**\n",
    "    - Simple Random Sampling: Everyone has an equal chance of being selected.\n",
    "    - Stratified Sampling: Population is divided into groups (strata), and samples are taken from each.\n",
    "    - Systematic Sampling: Every nth item is chosen.\n",
    "    - Cluster Sampling: Population is divided into clusters, and some clusters are fully surveyed."
   ]
  },
  {
   "cell_type": "markdown",
   "id": "68339c34-eaee-4f70-816d-e66c112fce70",
   "metadata": {},
   "source": [
    "2. **Non-Probability Sampling (not random, may be biased)**\n",
    "    - Convenience Sampling: Easy-to-reach participants are selected.\n",
    "    - Judgmental Sampling: Based on expert judgment.\n",
    "    - Quota Sampling: Ensures certain characteristics are represented.\n",
    "    - Snowball Sampling: Participants refer others (useful for hard-to-reach groups)."
   ]
  },
  {
   "cell_type": "markdown",
   "id": "dc3af711-3aa2-47a0-a012-2eda777db716",
   "metadata": {},
   "source": [
    "**Q 6. What are the different types of sampling methods?**"
   ]
  },
  {
   "cell_type": "markdown",
   "id": "fc85b0af-0d64-43f3-a61c-2d9e55beeffe",
   "metadata": {},
   "source": [
    "**Ans.** In statistics, sampling methods are techniques used to select individuals or items from a larger group (the population) to form a sample. These methods are broadly divided into two categories:"
   ]
  },
  {
   "cell_type": "markdown",
   "id": "f9c98c8e-d504-427a-b3b7-8e07165e9ee0",
   "metadata": {},
   "source": [
    "1. **Probability Sampling Methods:** Every member of the population has a known, non-zero chance of being selected."
   ]
  },
  {
   "cell_type": "markdown",
   "id": "e1e27c5e-9cce-454b-b9a9-303b8e261965",
   "metadata": {},
   "source": [
    "- *Simple Random Sampling*\n",
    "    - Every individual has an equal chance of being chosen.\n",
    "    - Usually done using a random number generator or lottery system.\n",
    "    - 🔹 Example: Drawing 50 names out of a hat from a class of 200.\n",
    "\n",
    "- *Stratified Sampling*\n",
    "    - The population is divided into strata (subgroups) based on a characteristic (e.g., gender, age).\n",
    "    - A random sample is taken from each stratum.\n",
    "    - 🔹 Example: Surveying 100 people by selecting 50 men and 50 women from different age groups.\n",
    "\n",
    "- *Systematic Sampling*\n",
    "    - Select every kth individual from a list after a random starting point.\n",
    "    - 🔹 Example: Every 10th person on a company employee list.\n",
    "\n",
    "- *Cluster Sampling*\n",
    "    - Divide the population into clusters (often geographically), then randomly select entire clusters.\n",
    "    - 🔹 Example: Randomly selecting 5 schools and surveying all students in those schools."
   ]
  },
  {
   "cell_type": "markdown",
   "id": "99852450-e0e9-40c0-ac87-6e5430686469",
   "metadata": {},
   "source": [
    "2. **Non-Probability Sampling Methods:**  Not every member has a known or equal chance of being selected; often quicker and cheaper but more prone to bias."
   ]
  },
  {
   "cell_type": "markdown",
   "id": "4f699ecb-2cf6-4081-bffd-6c23e3659ba9",
   "metadata": {},
   "source": [
    "- **Convenience Sampling:**\n",
    "    - Select individuals who are easy to reach or access.\n",
    "    - 🔹 Example: Surveying people at a mall.\n",
    "\n",
    "- **Judgmental (Purposive) Sampling:**\n",
    "- The researcher selects individuals based on their knowledge or expertise.\n",
    "\n",
    "- 🔹 Example: Interviewing experts in a medical study.\n",
    "\n",
    "- **Quota Sampling:**\n",
    "    - Similar to stratified sampling but non-random; the researcher fills quotas for different groups.\n",
    "    - 🔹 Example: Interviewing 30 men and 30 women from different age groups until quotas are met.\n",
    "\n",
    "- **Snowball Sampling:**\n",
    "    - Existing participants refer others from their network; useful for hard-to-reach populations\n",
    "    - 🔹 Example: Studying people with rare diseases or underground communities.  "
   ]
  },
  {
   "cell_type": "markdown",
   "id": "3435e960-7460-42d4-86c5-f272adc86401",
   "metadata": {},
   "source": [
    "*Summary Table:*\n",
    "\n",
    "| Method Type     | Sampling Method | Key Feature                                     |\n",
    "| --------------- | --------------- | ----------------------------------------------- |\n",
    "| Probability     | Simple Random   | Equal chance for all                            |\n",
    "| Probability     | Stratified      | Sample from each subgroup                       |\n",
    "| Probability     | Systematic      | Every kth element selected                      |\n",
    "| Probability     | Cluster         | Randomly select entire groups                   |\n",
    "| Non-Probability | Convenience     | Based on accessibility                          |\n",
    "| Non-Probability | Judgmental      | Based on researcher judgment                    |\n",
    "| Non-Probability | Quota           | Target specific subgroups without randomization |\n",
    "| Non-Probability | Snowball        | Participants recruit other participants         |\n"
   ]
  },
  {
   "cell_type": "markdown",
   "id": "55f78e31-6936-4dfc-a501-d04d687cd12d",
   "metadata": {},
   "source": [
    "**Q 7.  What is the difference between random and non-random sampling?**"
   ]
  },
  {
   "cell_type": "markdown",
   "id": "e9ac614a-1077-4696-9c6e-49b14fcfd947",
   "metadata": {},
   "source": [
    "**Ans.** The main difference between random and non-random sampling lies in how participants are selected from the population — whether by chance or by choice."
   ]
  },
  {
   "cell_type": "markdown",
   "id": "dca44167-1e23-4325-b83b-82ea2a7590a0",
   "metadata": {},
   "source": [
    "*Random Sampling (also called probability sampling):* In random sampling, every individual in the population has a known and equal chance of being selected. It uses random methods like a lottery or random number generator."
   ]
  },
  {
   "cell_type": "markdown",
   "id": "959ab7d7-bee6-428e-91c4-1d1df6ba83eb",
   "metadata": {},
   "source": [
    "*Key Features:*\n",
    "- Unbiased: Reduces selection bias\n",
    "- Representative: Better reflects the entire population\n",
    "- Statistical inference: Results can be generalized to the population\n",
    "- Examples:\n",
    "    - Simple Random Sampling\n",
    "    - Stratified Sampling\n",
    "    - Systematic Sampling\n",
    "    - Cluster Sampling"
   ]
  },
  {
   "cell_type": "markdown",
   "id": "2578d335-d512-4a8d-890b-719ec3a5343f",
   "metadata": {},
   "source": [
    "*Non-Random Sampling (also called non-probability sampling):* In non-random sampling, not every individual has an equal or known chance of being selected. Selection is based on convenience, judgment, or accessibility, not randomness."
   ]
  },
  {
   "cell_type": "markdown",
   "id": "9ae8a3b9-90f6-4ad7-bca2-3bd65fa0f9ef",
   "metadata": {},
   "source": [
    "*Key Features:*\n",
    "- Biased: Higher risk of sampling bias\n",
    "- Less representative: May not reflect the population accurately\n",
    "- Limited generalization: Results apply mainly to the sample\n",
    "- Examples:\n",
    "    - Convenience Sampling\n",
    "    - Judgmental (Purposive) Sampling\n",
    "    - Quota Sampling\n",
    "    - Snowball Sampling"
   ]
  },
  {
   "cell_type": "markdown",
   "id": "4b08f346-1a94-4ad8-aa0f-b8ccdc944af2",
   "metadata": {},
   "source": [
    "Summary Table:\n",
    "\n",
    "| Feature             | Random Sampling                    | Non-Random Sampling                      |\n",
    "| ------------------- | ---------------------------------- | ---------------------------------------- |\n",
    "| Selection Method    | Based on chance                    | Based on convenience or judgment         |\n",
    "| Chance of Selection | Known and equal                    | Unknown or unequal                       |\n",
    "| Bias                | Low (if done properly)             | High                                     |\n",
    "| Representation      | Likely representative              | May not represent population well        |\n",
    "| Generalizability    | Results can be generalized         | Limited generalization                   |\n",
    "| Examples            | Simple random, stratified, cluster | Convenience, quota, snowball, judgmental |\n"
   ]
  },
  {
   "cell_type": "markdown",
   "id": "f2f30b4d-6734-4729-9f31-5981a3254443",
   "metadata": {},
   "source": [
    "**Q 8. Define and give examples of qualitative and quantitative data**"
   ]
  },
  {
   "cell_type": "markdown",
   "id": "2bc42754-9a47-4a54-bf47-24afda8e65ea",
   "metadata": {},
   "source": [
    "**Ans.** "
   ]
  },
  {
   "cell_type": "markdown",
   "id": "377886be-35ee-4780-b584-0f5c954f83aa",
   "metadata": {},
   "source": [
    "1. *Qualitative Data (also called categorical data)*: Qualitative data describes qualities or characteristics. It is non-numerical and typically represents categories, labels, or attributes."
   ]
  },
  {
   "cell_type": "markdown",
   "id": "394830fc-6377-4913-b70f-dc1ac0db03d2",
   "metadata": {},
   "source": [
    "Examples:\n",
    "- Colors: Red, Blue, Green\n",
    "- Gender: Male, Female, Non-binary\n",
    "- Nationality: Indian, Canadian, Japanese\n",
    "- Customer satisfaction: Happy, Neutral, Unhappy\n",
    "- Types of cuisine: Italian, Chinese, Indian"
   ]
  },
  {
   "cell_type": "markdown",
   "id": "a01dd553-3c23-4aa1-be1e-2a7b2656763c",
   "metadata": {},
   "source": [
    "2. *Quantitative Data*: Quantitative data deals with numbers and represents measurable quantities. It can be counted or measured."
   ]
  },
  {
   "cell_type": "markdown",
   "id": "53eb0c97-ebfa-4af6-acd5-2bee257f1be6",
   "metadata": {},
   "source": [
    "**Types:**\n",
    "- Discrete Data: Countable values (e.g., number of children)\n",
    "- Continuous Data: Measurable and can take any value within a range (e.g., height, weight)"
   ]
  },
  {
   "cell_type": "markdown",
   "id": "6087745b-7588-4f3f-bed3-e404cc946e1f",
   "metadata": {},
   "source": [
    "*Examples:*\n",
    "- Age: 16, 21, 35 years\n",
    "- Height: 172.5 cm\n",
    "- Income: ₹45,000 per month\n",
    "- Temperature: 37.2°C\n",
    "- Test scores: 85%, 92%, 76%"
   ]
  },
  {
   "cell_type": "markdown",
   "id": "72c8983d-826e-4d16-982e-e356beefadf3",
   "metadata": {},
   "source": [
    "**Q 9. What are the different types of data in statistics?**"
   ]
  },
  {
   "cell_type": "markdown",
   "id": "67a70c52-a7b3-49dd-abb5-7b703ba5009d",
   "metadata": {},
   "source": [
    "**Ans.** In statistics, data is classified into different types based on its nature and how it can be measured or categorized. Understanding the types of data is essential because it determines the appropriate statistical methods to use."
   ]
  },
  {
   "cell_type": "markdown",
   "id": "5d1a991f-60d6-46b1-bd40-a3e22fc545c3",
   "metadata": {},
   "source": [
    "**Main Types of Data in Statistics**"
   ]
  },
  {
   "cell_type": "markdown",
   "id": "a8d9cf83-8690-4eee-924a-1597e2a93627",
   "metadata": {},
   "source": [
    "1. *Qualitative Data (Categorical)*: This type of data describes qualities, categories, or labels. It cannot be measured numerically, but it can be grouped or classified."
   ]
  },
  {
   "cell_type": "markdown",
   "id": "73fd98b4-b2b0-4490-88e8-1c60be68ebdd",
   "metadata": {},
   "source": [
    "1. **Nominal Data**\n",
    "    - Categories without any order.\n",
    "    - 🔹 Examples: Gender (Male, Female), Eye color (Blue, Brown), Religion\n",
    "\n",
    "2. **Ordinal Data**\n",
    "    - Categories with a meaningful order, but no fixed difference between values.\n",
    "    - 🔹 Examples: Education level (High school, Bachelor’s, Master’s), Satisfaction (Poor, Fair, Good)\n"
   ]
  },
  {
   "cell_type": "markdown",
   "id": "f69120f2-52d3-459e-9028-52a527dbb61e",
   "metadata": {},
   "source": [
    "2. *Quantitative Data (Numerical):* This type of data is measurable and expressed as numbers. It can be used in mathematical calculations."
   ]
  },
  {
   "cell_type": "markdown",
   "id": "c201d3bc-c8af-4545-9541-e7ca7a31e179",
   "metadata": {},
   "source": [
    "1. **Discrete Data:**\n",
    "    - Countable, with specific, separate values.\n",
    "    - 🔹 Examples: Number of children, Test scores, Number of cars\n",
    "\n",
    "2. **Continuous Data:**\n",
    "    - Measurable and can take any value within a range, often including decimals.\n",
    "    - 🔹 Examples: Height, Weight, Temperature, Time\n"
   ]
  },
  {
   "cell_type": "markdown",
   "id": "48894f89-90b6-4e98-af24-2df6eea5c318",
   "metadata": {},
   "source": [
    "**Q 10.  Explain nominal, ordinal, interval, and ratio levels of measurement.**"
   ]
  },
  {
   "cell_type": "markdown",
   "id": "cf956d37-46f4-4729-a2ee-de91bb28f84f",
   "metadata": {},
   "source": [
    "**Ans.** In statistics, data can be measured at four levels (also called scales of measurement). These levels help determine what kind of analysis or statistical method is appropriate."
   ]
  },
  {
   "cell_type": "markdown",
   "id": "ce4edc35-53d8-4037-99c0-91adc94dd495",
   "metadata": {},
   "source": [
    "1. *Nominal Level:*\n",
    "    - Definition: Data is categorized into distinct groups or names, with no order or ranking.\n",
    "    - Nature: Qualitative\n",
    "    - Mathematical Meaning: Cannot perform arithmetic\n",
    "    - Can calculate: Mode only\n",
    "    - Examples:\n",
    "        - Gender: Male, Female, Other\n",
    "        - Nationality: Indian, American, Japanese\n",
    "        - Blood type: A, B, AB, O\n",
    "        - "
   ]
  },
  {
   "cell_type": "markdown",
   "id": "fa66e43a-74a5-449e-bb57-4feda4db2719",
   "metadata": {},
   "source": [
    "2. *Ordinal Level:*\n",
    "    - Definition: Data is categorized and ranked, but the differences between values are not meaningful or uniform.\n",
    "    - Nature: Qualitative (but ordered)\n",
    "    - Mathematical Meaning: Cannot do meaningful math\n",
    "    - Can calculate: Median, Mode\n",
    "    - 🔹 Examples:\n",
    "        - Customer satisfaction: Poor, Fair, Good, Excellent\n",
    "        - Education level: High school, Bachelor’s, Master’s, PhD\n",
    "        - Class rank: 1st, 2nd, 3rd (without knowing actual scores)"
   ]
  },
  {
   "cell_type": "markdown",
   "id": "8026de20-c720-493a-9c1f-2ab175f05bb2",
   "metadata": {},
   "source": [
    "3. *Interval Level:*\n",
    "    - Definition: Data is numerical, ordered, and the differences between values are meaningful, but there is no true zero.\n",
    "    - Nature: Quantitative\n",
    "    - Mathematical Meaning: Can add and subtract, but ratios are not meaningful\n",
    "    - 🔹 Examples:\n",
    "        - Temperature in Celsius or Fahrenheit (0°C ≠ absence of temperature)\n",
    "        - Dates (e.g., 2000 vs 2020 → 20-year difference is meaningful, but \"twice as late\" isn't)"
   ]
  },
  {
   "cell_type": "markdown",
   "id": "e8d89edd-cbd6-4c22-a7e2-957ad6493653",
   "metadata": {},
   "source": [
    "4. *Ratio Level:*\n",
    "    - Definition: Like interval data, but with a true zero point, so ratios are meaningful.\n",
    "    - Nature: Quantitativ\n",
    "    - Mathematical Meaning: All arithmetic operations are valid\n",
    "    - 🔹 Examples:\n",
    "        - Height, Weight, Age\n",
    "        - Income (₹0 means no money)\n",
    "        - Distance, Time, Speed"
   ]
  },
  {
   "cell_type": "markdown",
   "id": "871be704-cbdd-4097-8781-363bece61417",
   "metadata": {},
   "source": [
    "**Q 11. What is the measure of central tendency?**"
   ]
  },
  {
   "cell_type": "markdown",
   "id": "343f71fb-4c69-4182-b279-ae0c6c5d5694",
   "metadata": {},
   "source": [
    "**Ans.** A measure of central tendency is a statistical value that identifies the center or typical value in a dataset. It shows where the \"middle\" of the data lies and gives a single value that summarizes a set of data."
   ]
  },
  {
   "cell_type": "markdown",
   "id": "987feeef-6e08-4e5b-861a-39e9b52fe026",
   "metadata": {},
   "source": [
    "*The Three Main Measures of Central Tendency:*"
   ]
  },
  {
   "cell_type": "markdown",
   "id": "9418f8a4-9f0f-4689-b1bf-9a00ab5ef6a8",
   "metadata": {},
   "source": [
    "1. **Mean (Arithmetic Average):** \n",
    "    - Definition: The sum of all values divided by the number of values.\n",
    "    - Formula: Mean  =  Sum of all values / Number of values\n",
    "    - Example:\n",
    "        - Data = 10, 20, 30\n",
    "        - Mean = (10 + 20 + 30) ÷ 3 = 20"
   ]
  },
  {
   "cell_type": "markdown",
   "id": "f2a935f4-6f6b-4be5-854a-8f2f446ae499",
   "metadata": {},
   "source": [
    "2. **Median (Middle Value):**\n",
    "    - Definition: The middle number when data is arranged in order.\n",
    "    - If the number of values is odd, the median is the middle value.\n",
    "    - If even, the median is the average of the two middle values.\n",
    "    - Example:\n",
    "        - Data = 5, 7, 10, 12, 15 → Median = 10\n",
    "        - Data = 4, 6, 8, 10 → Median = (6 + 8) ÷ 2 = 7"
   ]
  },
  {
   "cell_type": "markdown",
   "id": "75ec1705-964b-4642-a3ea-a399d13a6f08",
   "metadata": {},
   "source": [
    "3. **Mode (Most Frequent Value):**\n",
    "    - Definition: The value that occurs most often.\n",
    "    - A dataset can have:\n",
    "        - No mode\n",
    "        - One mode (unimodal)\n",
    "        - Two modes (bimodal)\n",
    "        - More than two modes (multimodal)\n",
    "    - Example:\n",
    "        - Data = 2, 3, 3, 4, 5 → Mode = 3\n"
   ]
  },
  {
   "cell_type": "markdown",
   "id": "5cc2fb7d-875d-4d38-998d-13fa34a68091",
   "metadata": {},
   "source": [
    "**Q 12.  Define mean, median, and mode.**"
   ]
  },
  {
   "cell_type": "markdown",
   "id": "d0b2307b-e509-4db4-aa1f-23aedaf65c54",
   "metadata": {},
   "source": [
    "**Ans.** Here are the definitions of mean, median, and mode, the three main measures of central tendency in statistics:"
   ]
  },
  {
   "cell_type": "markdown",
   "id": "99755c14-9ade-4957-b17b-b520c6ece06e",
   "metadata": {},
   "source": [
    "1. *Mean (Arithmetic Average)*: The mean is the sum of all values in a dataset divided by the total number of values."
   ]
  },
  {
   "cell_type": "markdown",
   "id": "95f0f04f-ee18-41ab-8941-a618322e5d3b",
   "metadata": {},
   "source": [
    "Formula:   Mean = Sum of all values / Number of Values"
   ]
  },
  {
   "cell_type": "markdown",
   "id": "5b4f66d7-8a8c-4c31-b912-6580c7181912",
   "metadata": {},
   "source": [
    "Example:"
   ]
  },
  {
   "cell_type": "markdown",
   "id": "2455fc1f-9880-442b-b26d-13c584da4a2c",
   "metadata": {},
   "source": [
    "Data: 5, 10, 15"
   ]
  },
  {
   "cell_type": "markdown",
   "id": "d4c1a459-ffb1-4a0b-9164-78e156e3140d",
   "metadata": {},
   "source": [
    "        Mean = (5 + 10 + 15 ) / 3"
   ]
  },
  {
   "cell_type": "markdown",
   "id": "b073b88f-9ee5-4172-bc11-5008f80ce638",
   "metadata": {},
   "source": [
    "        Mean = 30 / 3 = 10"
   ]
  },
  {
   "cell_type": "markdown",
   "id": "46afc985-148e-42a9-8753-8499340c633a",
   "metadata": {},
   "source": [
    "2. *Median* : The median is the middle value in a dataset when arranged in ascending (or descending) order.\n",
    "    - If the number of values is even, the median is the average of the two middle values."
   ]
  },
  {
   "cell_type": "markdown",
   "id": "4125e887-7618-4f63-9441-7323f645fdfa",
   "metadata": {},
   "source": [
    "- Example 1 (Odd count):\n",
    "    - Data: 3, 5, 7 → Median = 5"
   ]
  },
  {
   "cell_type": "markdown",
   "id": "21965ec5-902d-48b9-9c01-4a128245216b",
   "metadata": {},
   "source": [
    "- Example 2 (Even count):\n",
    "    - Data: 4, 6, 8, 10 →\n",
    "    - Median = (6 + 8) ÷ 2 = 7"
   ]
  },
  {
   "cell_type": "markdown",
   "id": "a1fb3530-f6fd-4c7f-bb8b-f93c0a566a1a",
   "metadata": {},
   "source": [
    "3. *Mode* : The mode is the value that occurs most frequently in a dataset.\n",
    "There can be:\n",
    "    - No mode (if all values are unique)\n",
    "    - One mode (unimodal)\n",
    "    - Two modes (bimodal)\n",
    "    - More than two modes (multimodal)"
   ]
  },
  {
   "cell_type": "markdown",
   "id": "a8af6421-e3ae-4a10-9535-e722602ccfec",
   "metadata": {},
   "source": [
    "- Example:\n",
    "    - Data: 2, 4, 4, 6, 8\n",
    "    - Mode = 4 (since it appears most often)"
   ]
  },
  {
   "cell_type": "markdown",
   "id": "e331575c-fb27-460d-a4ed-eee9a170e049",
   "metadata": {},
   "source": [
    "**Q 13. What is the significance of the measure of central tendency?**"
   ]
  },
  {
   "cell_type": "markdown",
   "id": "be9eb36e-6957-4f0b-841d-b8dd2d8fb88d",
   "metadata": {},
   "source": [
    "**Ans.** *(Significance of the Measure of Central Tendency*: The measure of central tendency is crucial in statistics because it provides a single value that summarizes an entire dataset, giving a clear picture of where the data is centered or concentrated."
   ]
  },
  {
   "cell_type": "markdown",
   "id": "3d1e288c-69cd-447b-9afc-9f0fac8202bb",
   "metadata": {},
   "source": [
    "**Why Is It Important?**"
   ]
  },
  {
   "cell_type": "markdown",
   "id": "4c8d2eb1-963e-4c59-ae27-996a2913789d",
   "metadata": {},
   "source": [
    "1. ✅ Simplifies Large Data Sets\n",
    "    - Reduces a large amount of data to a single representative value\n",
    "    - Makes data easier to understand and interpret\n",
    "\n",
    "2. 📈 Enables Comparison\n",
    "    - Helps compare different groups or time periods\n",
    "    - Example: Comparing average test scores between two schools\n",
    "\n",
    "3. 🧠 Supports Decision-Making\n",
    "    - Used in business, economics, healthcare, education, etc.\n",
    "    - Example: A company checks the average sales to guide marketing efforts\n",
    "\n",
    "4. 📊 Foundation for Further Analysis\n",
    "    - Essential for other statistical concepts like standard deviation, variance, and skewness\n",
    "    - Used in hypothesis testing and regression analysis\n",
    "\n",
    "5. 📚 Describes Typical or Normal Behavior\n",
    "    - Shows what is “typical” in a dataset\n",
    "    - Example: Knowing the median income tells us about a region’s standard of living"
   ]
  },
  {
   "cell_type": "markdown",
   "id": "1a934d7f-3cd7-497a-ba88-4943061f73ca",
   "metadata": {},
   "source": [
    "**Q 14. What is variance, and how is it calculated?**"
   ]
  },
  {
   "cell_type": "markdown",
   "id": "f6796385-c4bd-4493-aea6-2e75b137a93b",
   "metadata": {},
   "source": [
    "**Ans.** Variance is a measure of how spread out or dispersed the values in a dataset are from the mean (average). It tells you how much the data points differ from the mean on average."
   ]
  },
  {
   "cell_type": "markdown",
   "id": "53a876cb-8510-4ca8-b1c7-a91d40be9925",
   "metadata": {},
   "source": [
    "- *Why is Variance Important?*\n",
    "    - It helps understand data variability.\n",
    "    - A high variance means values are widely spread.\n",
    "    - A low variance means values are closer to the mean.\n",
    "    - It's the basis for other measures like standard deviation and plays a key role in statistical inference."
   ]
  },
  {
   "attachments": {
    "58f20156-5a56-44dc-900c-b96df770934d.png": {
     "image/png": "[encoded data removed]"
    }
   },
   "cell_type": "markdown",
   "id": "dd78b655-03ec-4a31-9f24-4249297dd00e",
   "metadata": {},
   "source": [
    "*Formula to Calculate Variance:*\n",
    "\n",
    "![image.png](attachment:58f20156-5a56-44dc-900c-b96df770934d.png)"
   ]
  },
  {
   "cell_type": "markdown",
   "id": "d44208f8-26df-4fe4-9423-877eac51f0c0",
   "metadata": {},
   "source": [
    "**Q 15. What is standard deviation, and why is it important?**"
   ]
  },
  {
   "cell_type": "markdown",
   "id": "aad5e872-66f3-4d3f-b868-680318f33a32",
   "metadata": {},
   "source": [
    "**Ans.** Standard deviation is a statistical measure that shows how much the values in a dataset deviate from the mean (average). It is the square root of the variance, and it tells you the average amount by which data points differ from the mean."
   ]
  },
  {
   "attachments": {
    "41eb0e1f-ddb8-4fc5-b829-78596f0c34e3.png": {
     "image/png": "[encoded data removed]"
    }
   },
   "cell_type": "markdown",
   "id": "cc238bef-c3f1-45d9-aa8a-2b2c86221aaf",
   "metadata": {},
   "source": [
    "![image.png](attachment:41eb0e1f-ddb8-4fc5-b829-78596f0c34e3.png)"
   ]
  },
  {
   "cell_type": "markdown",
   "id": "284762e1-b063-4b9b-bfaf-e146596271a9",
   "metadata": {},
   "source": [
    "*Why Is Standard Deviation Important?*\n",
    "1. Measures Spread of Data\n",
    "    - A small standard deviation means values are close to the mean.\n",
    "    - A large standard deviation means values are spread out over a wider range.\n",
    "\n",
    "2. Helps Understand Consistency\n",
    "    - Useful in comparing consistency across datasets.\n",
    "    - Example: Two machines produce bolts. Machine A has low standard deviation (more consistent), Machine B has high standard deviation (less consistent).\n",
    "\n",
    "3. Used in Probability and Normal Distribution\n",
    "    - In a normal distribution:\n",
    "        - ~68% of data falls within ±1 SD of the mean\n",
    "        - ~95% within ±2 SDs\n",
    "        - ~99.7% within ±3 SDs (the empirical rule)\n",
    "\n",
    "4. Essential in Risk and Quality Control\n",
    "    - In finance, it measures risk or volatility.\n",
    "    - In manufacturing, it monitors process stability."
   ]
  },
  {
   "cell_type": "markdown",
   "id": "28cc1e7a-aaf7-4b63-ba0f-1bbb80de1ee3",
   "metadata": {},
   "source": [
    "**Q 16. Define and explain the term range in statistics.**"
   ]
  },
  {
   "cell_type": "markdown",
   "id": "b8fe6d9a-dd9a-4a20-9173-9b1cc620c06f",
   "metadata": {},
   "source": [
    "**Ans.** In statistics, the range is a measure of dispersion that shows the difference between the highest and lowest values in a dataset."
   ]
  },
  {
   "cell_type": "markdown",
   "id": "3f7b850c-27a6-4ab0-9494-6e9390b1a341",
   "metadata": {},
   "source": [
    "**Formula:**"
   ]
  },
  {
   "cell_type": "markdown",
   "id": "77986b25-4982-4a9a-9851-71f6aaa38269",
   "metadata": {},
   "source": [
    "            Range    =    Maximum Value   −    Minimum Value"
   ]
  },
  {
   "cell_type": "markdown",
   "id": "28e77889-ea41-4dd7-9368-75e3e3834a7c",
   "metadata": {},
   "source": [
    "The range gives a quick sense of how spread out the data is — it tells you the span of values in your dataset."
   ]
  },
  {
   "cell_type": "markdown",
   "id": "9634dbec-1b86-4748-b466-8d5ccfb85d3c",
   "metadata": {},
   "source": [
    "Example:\n",
    "- Data: 5, 8, 12, 15, 20\n",
    "- Maximum = 20\n",
    "- Minimum = 5\n",
    "- Range  =  20  -  5 = 15\n",
    "- So, the range of the data is 15."
   ]
  },
  {
   "cell_type": "code",
   "execution_count": null,
   "id": "8b0547ac-06e8-43b7-bd9a-7fb25ce6f3ea",
   "metadata": {},
   "outputs": [],
   "source": []
  },
  {
   "cell_type": "code",
   "execution_count": null,
   "id": "91385a14-a98a-4a12-8ab3-97ae91645497",
   "metadata": {},
   "outputs": [],
   "source": []
  },
  {
   "cell_type": "code",
   "execution_count": null,
   "id": "eb191837-daee-4475-a069-695581cf52e0",
   "metadata": {},
   "outputs": [],
   "source": []
  },
  {
   "cell_type": "code",
   "execution_count": null,
   "id": "dcd8ab72-d63a-4917-93ab-5289314bcf81",
   "metadata": {},
   "outputs": [],
   "source": []
  },
  {
   "cell_type": "code",
   "execution_count": null,
   "id": "f302d975-075b-45a3-8b8d-34a623c698fe",
   "metadata": {},
   "outputs": [],
   "source": []
  }
 ],
 "metadata": {
  "kernelspec": {
   "display_name": "Python 3 (ipykernel)",
   "language": "python",
   "name": "python3"
  },
  "language_info": {
   "codemirror_mode": {
    "name": "ipython",
    "version": 3
   },
   "file_extension": ".py",
   "mimetype": "text/x-python",
   "name": "python",
   "nbconvert_exporter": "python",
   "pygments_lexer": "ipython3",
   "version": "3.13.3"
  }
 },
 "nbformat": 4,
 "nbformat_minor": 5
}
