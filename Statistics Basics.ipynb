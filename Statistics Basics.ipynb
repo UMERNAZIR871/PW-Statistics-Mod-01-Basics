{
 "cells": [
  {
   "cell_type": "markdown",
   "id": "ee89fd80-3e38-43cf-8c27-60bc7daeeea8",
   "metadata": {},
   "source": [
    "# Statistics Basics"
   ]
  },
  {
   "cell_type": "markdown",
   "id": "33b09299-971e-4cb7-8ccf-2e6206238ef7",
   "metadata": {},
   "source": [
    "#   Theory Questions"
   ]
  },
  {
   "cell_type": "markdown",
   "id": "eae363ae-479a-44f5-aa0f-4fca785593e7",
   "metadata": {},
   "source": [
    "**Q 1.  What is statistics, and why is it important?**"
   ]
  },
  {
   "cell_type": "markdown",
   "id": "a0e0a37e-19cd-415f-a37e-6764d2a461a5",
   "metadata": {},
   "source": [
    "**Ans.** tatistics is the branch of mathematics that deals with the collection, organization, analysis, interpretation, and presentation of data. It helps us understand and draw conclusions from data, whether it's numerical (quantitative) or categorical (qualitative)."
   ]
  },
  {
   "cell_type": "markdown",
   "id": "5cbc7c70-7d2f-4c46-a389-31b3eb684fcd",
   "metadata": {},
   "source": [
    "Statistics is Important: "
   ]
  },
  {
   "cell_type": "markdown",
   "id": "3ec11c9f-da60-4d60-aeda-a55ba93e83dd",
   "metadata": {},
   "source": [
    "1. **Decision-Making:** Statistics provides tools to make informed decisions based on data — whether in business, medicine, government, or daily life.\n",
    "2. **Understanding Trends:** It helps us identify trends and patterns — for example, how sales are growing or how a disease is spreading.\n",
    "3. **Scientific Research:** In scientific studies, statistics is essential for designing experiments, analyzing results, and validating hypotheses.\n",
    "4. **Risk Management:** In finance, insurance, and engineering, statistics helps assess and manage risk.\n",
    "5. **Policy Making:** Governments rely on statistics to shape public policy based on population surveys, economic data, and health metrics.\n",
    "6. **Predictive Power:** Using probability and statistical models, we can predict future outcomes like weather forecasts, election results, or consumer behavior."
   ]
  },
  {
   "cell_type": "markdown",
   "id": "b408338b-27d9-4f5f-94dc-6650bbc8f060",
   "metadata": {},
   "source": [
    "**Q 2. What are the two main types of statistics?**"
   ]
  },
  {
   "cell_type": "markdown",
   "id": "cc1fde67-73af-4852-8e70-cd3357f43333",
   "metadata": {},
   "source": [
    "**Ans.** The two main types of statistics are:"
   ]
  },
  {
   "cell_type": "markdown",
   "id": "2c6350a1-5c6e-412e-9252-99d8046cd0de",
   "metadata": {},
   "source": [
    "1. **Descriptive Statistics:** Descriptive statistics summarize and organize data so it can be easily understood."
   ]
  },
  {
   "cell_type": "markdown",
   "id": "d6c3ef60-dc68-4f06-883a-6d266033512f",
   "metadata": {},
   "source": [
    "**Key features:**\n",
    "- Focuses on what the data shows.\n",
    "- Involves measures such as:\n",
    "    - Mean (average)\n",
    "    - Median (middle value)\n",
    "    - Mode (most frequent value)\n",
    "    - Standard deviation (spread of data)\n",
    "    - Graphs and charts (like bar charts, histograms, pie charts)."
   ]
  },
  {
   "cell_type": "markdown",
   "id": "52f8a2ae-d80a-45dc-ab3e-b5e4c4804061",
   "metadata": {},
   "source": [
    "Example: A teacher calculates the average test score of her class to summarize performance."
   ]
  },
  {
   "cell_type": "markdown",
   "id": "99b9b143-fe3b-4d61-bd97-c731225feaa4",
   "metadata": {},
   "source": [
    "2. **Inferential Statistics:** Inferential statistics use data from a sample to make predictions or generalizations about a larger population.\n",
    "\n",
    "**Key features:**\n",
    "- Focuses on drawing conclusions beyond the data.\n",
    "- Involves:\n",
    "    - Hypothesis testing\n",
    "    - Confidence intervals\n",
    "    - Regression analysis\n",
    "    - Probability models"
   ]
  },
  {
   "cell_type": "markdown",
   "id": "3717244a-cd99-4fa8-877b-e1caaa5a1ec9",
   "metadata": {},
   "source": [
    "Example: A researcher tests a new drug on 100 patients and uses the results to infer its effectiveness on the entire population."
   ]
  },
  {
   "cell_type": "markdown",
   "id": "0cf85aa9-7595-4dbb-88b4-cb86c2ef8b16",
   "metadata": {},
   "source": [
    "**Q 3.  What are descriptive statistics?**"
   ]
  },
  {
   "cell_type": "markdown",
   "id": "2b22a955-9321-4ca6-be77-ddd3800e6131",
   "metadata": {},
   "source": [
    "**Ans.** Descriptive statistics are methods used to summarize, organize, and present data in a meaningful way. They help you understand the main features of a dataset without drawing conclusions beyond the data itself."
   ]
  },
  {
   "cell_type": "markdown",
   "id": "867f9937-fe59-45d6-82a8-0fd46e78c1f0",
   "metadata": {},
   "source": [
    "**Key Features of Descriptive Statistics:**\n",
    "\n",
    "1. They describe the data — not interpret or predict.\n",
    "2. They apply to the actual data collected, not to a larger population.\n",
    "3. They simplify large amounts of information into understandable forms "
   ]
  },
  {
   "cell_type": "markdown",
   "id": "134a04b7-5327-46b1-803d-01994d43a72a",
   "metadata": {},
   "source": [
    "**Types of Descriptive Statistics:**"
   ]
  },
  {
   "cell_type": "markdown",
   "id": "08401a90-018d-439d-a02a-ab7bcfcde51d",
   "metadata": {},
   "source": [
    "1. **Measures of Central Tendency:**"
   ]
  },
  {
   "cell_type": "markdown",
   "id": "56b02ac0-3a7f-445a-91a4-16b9a8cd7a08",
   "metadata": {},
   "source": [
    "These indicate the center or average of a dataset:\n",
    "\n",
    "- Mean – the average value\n",
    "- Median – the middle value\n",
    "- Mode – the most frequent value"
   ]
  },
  {
   "cell_type": "markdown",
   "id": "67627449-7274-4d0a-bfb9-65e5cedbf9d8",
   "metadata": {},
   "source": [
    "2. **Measures of Dispersion (Spread):**"
   ]
  },
  {
   "cell_type": "markdown",
   "id": "60ce3c58-5a0d-4a1f-981b-ba5f9d141085",
   "metadata": {},
   "source": [
    "These show how spread out the data is:\n",
    "\n",
    "- Range – difference between highest and lowest values\n",
    "- Variance – average squared deviation from the mean\n",
    "- Standard Deviation – average distance from the mean"
   ]
  },
  {
   "cell_type": "markdown",
   "id": "36a1526a-1100-47ca-9c2e-c1df528199f8",
   "metadata": {},
   "source": [
    "3. **Measures of Position**"
   ]
  },
  {
   "cell_type": "markdown",
   "id": "12aacaba-fee7-4a04-94ba-0b8107d26867",
   "metadata": {},
   "source": [
    "These locate values within a dataset:\n",
    "\n",
    "- Percentiles – indicate relative standing (e.g., 90th percentile)\n",
    "- Quartiles – divide data into four equal parts"
   ]
  },
  {
   "cell_type": "markdown",
   "id": "eed48ae1-384a-4be7-bb0a-4bee038a4394",
   "metadata": {},
   "source": [
    "4. **Data Visualization Tools**"
   ]
  },
  {
   "cell_type": "markdown",
   "id": "c678f4c0-ade9-4d58-8b6b-9b8da46f0a9b",
   "metadata": {},
   "source": [
    "These help visually interpret data:\n",
    "\n",
    "- Bar charts\n",
    "- Histograms\n",
    "- Pie charts\n",
    "- Box plots\n",
    "- Frequency tables"
   ]
  },
  {
   "cell_type": "markdown",
   "id": "7d433f75-6aca-4990-a2ce-bff5eef59762",
   "metadata": {},
   "source": [
    "**Q 4. What is inferential statistics?** "
   ]
  },
  {
   "cell_type": "markdown",
   "id": "bf2c7bf6-c9c7-48e0-b67d-d25bc07d8b46",
   "metadata": {},
   "source": [
    "**Ans.** Inferential statistics is the branch of statistics that allows us to make predictions, generalizations, or decisions about a larger population based on data collected from a sample."
   ]
  },
  {
   "cell_type": "markdown",
   "id": "66bb49a4-8f92-4e29-9549-f77c9b16844f",
   "metadata": {},
   "source": [
    ">Key Idea: You study a small part (the sample) and use it to draw conclusions about the whole group (the population)."
   ]
  },
  {
   "cell_type": "markdown",
   "id": "a4476249-b0ca-4cdc-a1d9-87aa24788547",
   "metadata": {},
   "source": [
    "**Purpose of Inferential Statistics:**\n",
    "\n",
    "- To make inferences about populations.\n",
    "- To test hypotheses and determine relationships.\n",
    "- To estimate population parameters (like the true average or proportion)."
   ]
  },
  {
   "cell_type": "markdown",
   "id": "e6475214-8f54-45f0-ae16-916025b19044",
   "metadata": {},
   "source": [
    "**Key Techniques:**"
   ]
  },
  {
   "cell_type": "markdown",
   "id": "6a9bcc6b-037f-42e4-813c-418f6b1f390c",
   "metadata": {},
   "source": [
    "1. **Hypothesis Testing**: Tests assumptions or claims about a population (e.g., \"Does this medicine work better than the old one?\").\n",
    "2. **Confidence Intervals**: Gives a range of values within which the true population parameter likely falls (e.g., \"We are 95% confident that the average height is between 165–170 cm\").\n",
    "3. **Regression Analysis**: Predicts the value of one variable based on another (e.g., income based on education level).\n",
    "4. **Chi-square tests and ANOVA**: Determine relationships or differences between groups or categories.\n",
    "5. **Probability** Used to measure the likelihood that an observed result happened by chance."
   ]
  },
  {
   "cell_type": "markdown",
   "id": "74ab3a41-3eb4-43a9-b608-76a4eec51b7f",
   "metadata": {},
   "source": [
    "Example:"
   ]
  },
  {
   "cell_type": "markdown",
   "id": "936dc72a-3cec-415d-bafb-66b5013eaaea",
   "metadata": {},
   "source": [
    "Suppose a researcher surveys 200 people about their favorite soda, and 60% say they prefer brand A."
   ]
  },
  {
   "cell_type": "markdown",
   "id": "03691839-6dc8-4fb6-ac1d-69bc800a7ee5",
   "metadata": {},
   "source": [
    "With inferential statistics, they might say:"
   ]
  },
  {
   "cell_type": "markdown",
   "id": "91dc34a0-f7b5-474a-98f9-2b4a8334aeb9",
   "metadata": {},
   "source": [
    "*\"We estimate that around 60% of all people in the city prefer brand A, with a 5% margin of error.\"*"
   ]
  },
  {
   "cell_type": "markdown",
   "id": "4a2f7e0e-cb48-4deb-b54d-16e1c07e549f",
   "metadata": {},
   "source": [
    "**Q 5. What is sampling in statistics?**"
   ]
  },
  {
   "cell_type": "markdown",
   "id": "7420f0c7-d636-4133-a72e-382ad9d4bbb3",
   "metadata": {},
   "source": [
    "**Ans.** Sampling in statistics is the process of selecting a subset (sample) from a larger group (population) to collect data and make inferences about the whole population."
   ]
  },
  {
   "cell_type": "markdown",
   "id": "08bc40eb-662d-4d40-9fb2-e93b110151b5",
   "metadata": {},
   "source": [
    "**Purpose of Sampling:** "
   ]
  },
  {
   "cell_type": "markdown",
   "id": "a9b5c527-f89d-4fef-9f88-099202a75dae",
   "metadata": {},
   "source": [
    "To gather data from a representative group so you can:\n",
    "\n",
    "1. Estimate population values\n",
    "2. Test hypotheses\n",
    "3. Make predictions"
   ]
  },
  {
   "cell_type": "markdown",
   "id": "3939ffca-a946-4138-9f96-4b49d5ac0ac5",
   "metadata": {},
   "source": [
    "**Types of Sampling:**"
   ]
  },
  {
   "cell_type": "markdown",
   "id": "68f199dc-e6ec-49a3-a13d-e6fecc008f0b",
   "metadata": {},
   "source": [
    "1. **Probability Sampling (random and unbiased):**\n",
    "    - Simple Random Sampling: Everyone has an equal chance of being selected.\n",
    "    - Stratified Sampling: Population is divided into groups (strata), and samples are taken from each.\n",
    "    - Systematic Sampling: Every nth item is chosen.\n",
    "    - Cluster Sampling: Population is divided into clusters, and some clusters are fully surveyed."
   ]
  },
  {
   "cell_type": "markdown",
   "id": "68339c34-eaee-4f70-816d-e66c112fce70",
   "metadata": {},
   "source": [
    "2. **Non-Probability Sampling (not random, may be biased)**\n",
    "    - Convenience Sampling: Easy-to-reach participants are selected.\n",
    "    - Judgmental Sampling: Based on expert judgment.\n",
    "    - Quota Sampling: Ensures certain characteristics are represented.\n",
    "    - Snowball Sampling: Participants refer others (useful for hard-to-reach groups)."
   ]
  },
  {
   "cell_type": "markdown",
   "id": "dc3af711-3aa2-47a0-a012-2eda777db716",
   "metadata": {},
   "source": [
    "**Q 6. What are the different types of sampling methods?**"
   ]
  },
  {
   "cell_type": "markdown",
   "id": "fc85b0af-0d64-43f3-a61c-2d9e55beeffe",
   "metadata": {},
   "source": [
    "**Ans.** In statistics, sampling methods are techniques used to select individuals or items from a larger group (the population) to form a sample. These methods are broadly divided into two categories:"
   ]
  },
  {
   "cell_type": "markdown",
   "id": "f9c98c8e-d504-427a-b3b7-8e07165e9ee0",
   "metadata": {},
   "source": [
    "1. **Probability Sampling Methods:** Every member of the population has a known, non-zero chance of being selected."
   ]
  },
  {
   "cell_type": "markdown",
   "id": "e1e27c5e-9cce-454b-b9a9-303b8e261965",
   "metadata": {},
   "source": [
    "- *Simple Random Sampling*\n",
    "    - Every individual has an equal chance of being chosen.\n",
    "    - Usually done using a random number generator or lottery system.\n",
    "    - 🔹 Example: Drawing 50 names out of a hat from a class of 200.\n",
    "\n",
    "- *Stratified Sampling*\n",
    "    - The population is divided into strata (subgroups) based on a characteristic (e.g., gender, age).\n",
    "    - A random sample is taken from each stratum.\n",
    "    - 🔹 Example: Surveying 100 people by selecting 50 men and 50 women from different age groups.\n",
    "\n",
    "- *Systematic Sampling*\n",
    "    - Select every kth individual from a list after a random starting point.\n",
    "    - 🔹 Example: Every 10th person on a company employee list.\n",
    "\n",
    "- *Cluster Sampling*\n",
    "    - Divide the population into clusters (often geographically), then randomly select entire clusters.\n",
    "    - 🔹 Example: Randomly selecting 5 schools and surveying all students in those schools."
   ]
  },
  {
   "cell_type": "markdown",
   "id": "99852450-e0e9-40c0-ac87-6e5430686469",
   "metadata": {},
   "source": [
    "2. **Non-Probability Sampling Methods:**  Not every member has a known or equal chance of being selected; often quicker and cheaper but more prone to bias."
   ]
  },
  {
   "cell_type": "markdown",
   "id": "4f699ecb-2cf6-4081-bffd-6c23e3659ba9",
   "metadata": {},
   "source": [
    "- **Convenience Sampling:**\n",
    "    - Select individuals who are easy to reach or access.\n",
    "    - 🔹 Example: Surveying people at a mall.\n",
    "\n",
    "- **Judgmental (Purposive) Sampling:**\n",
    "- The researcher selects individuals based on their knowledge or expertise.\n",
    "\n",
    "- 🔹 Example: Interviewing experts in a medical study.\n",
    "\n",
    "- **Quota Sampling:**\n",
    "    - Similar to stratified sampling but non-random; the researcher fills quotas for different groups.\n",
    "    - 🔹 Example: Interviewing 30 men and 30 women from different age groups until quotas are met.\n",
    "\n",
    "- **Snowball Sampling:**\n",
    "    - Existing participants refer others from their network; useful for hard-to-reach populations\n",
    "    - 🔹 Example: Studying people with rare diseases or underground communities.  "
   ]
  },
  {
   "cell_type": "markdown",
   "id": "3435e960-7460-42d4-86c5-f272adc86401",
   "metadata": {},
   "source": [
    "*Summary Table:*\n",
    "\n",
    "| Method Type     | Sampling Method | Key Feature                                     |\n",
    "| --------------- | --------------- | ----------------------------------------------- |\n",
    "| Probability     | Simple Random   | Equal chance for all                            |\n",
    "| Probability     | Stratified      | Sample from each subgroup                       |\n",
    "| Probability     | Systematic      | Every kth element selected                      |\n",
    "| Probability     | Cluster         | Randomly select entire groups                   |\n",
    "| Non-Probability | Convenience     | Based on accessibility                          |\n",
    "| Non-Probability | Judgmental      | Based on researcher judgment                    |\n",
    "| Non-Probability | Quota           | Target specific subgroups without randomization |\n",
    "| Non-Probability | Snowball        | Participants recruit other participants         |\n"
   ]
  },
  {
   "cell_type": "markdown",
   "id": "55f78e31-6936-4dfc-a501-d04d687cd12d",
   "metadata": {},
   "source": [
    "**Q 7.  What is the difference between random and non-random sampling?**"
   ]
  },
  {
   "cell_type": "markdown",
   "id": "e9ac614a-1077-4696-9c6e-49b14fcfd947",
   "metadata": {},
   "source": [
    "**Ans.** The main difference between random and non-random sampling lies in how participants are selected from the population — whether by chance or by choice."
   ]
  },
  {
   "cell_type": "markdown",
   "id": "dca44167-1e23-4325-b83b-82ea2a7590a0",
   "metadata": {},
   "source": [
    "*Random Sampling (also called probability sampling):* In random sampling, every individual in the population has a known and equal chance of being selected. It uses random methods like a lottery or random number generator."
   ]
  },
  {
   "cell_type": "markdown",
   "id": "959ab7d7-bee6-428e-91c4-1d1df6ba83eb",
   "metadata": {},
   "source": [
    "*Key Features:*\n",
    "- Unbiased: Reduces selection bias\n",
    "- Representative: Better reflects the entire population\n",
    "- Statistical inference: Results can be generalized to the population\n",
    "- Examples:\n",
    "    - Simple Random Sampling\n",
    "    - Stratified Sampling\n",
    "    - Systematic Sampling\n",
    "    - Cluster Sampling"
   ]
  },
  {
   "cell_type": "markdown",
   "id": "2578d335-d512-4a8d-890b-719ec3a5343f",
   "metadata": {},
   "source": [
    "*Non-Random Sampling (also called non-probability sampling):* In non-random sampling, not every individual has an equal or known chance of being selected. Selection is based on convenience, judgment, or accessibility, not randomness."
   ]
  },
  {
   "cell_type": "markdown",
   "id": "9ae8a3b9-90f6-4ad7-bca2-3bd65fa0f9ef",
   "metadata": {},
   "source": [
    "*Key Features:*\n",
    "- Biased: Higher risk of sampling bias\n",
    "- Less representative: May not reflect the population accurately\n",
    "- Limited generalization: Results apply mainly to the sample\n",
    "- Examples:\n",
    "    - Convenience Sampling\n",
    "    - Judgmental (Purposive) Sampling\n",
    "    - Quota Sampling\n",
    "    - Snowball Sampling"
   ]
  },
  {
   "cell_type": "markdown",
   "id": "4b08f346-1a94-4ad8-aa0f-b8ccdc944af2",
   "metadata": {},
   "source": [
    "Summary Table:\n",
    "\n",
    "| Feature             | Random Sampling                    | Non-Random Sampling                      |\n",
    "| ------------------- | ---------------------------------- | ---------------------------------------- |\n",
    "| Selection Method    | Based on chance                    | Based on convenience or judgment         |\n",
    "| Chance of Selection | Known and equal                    | Unknown or unequal                       |\n",
    "| Bias                | Low (if done properly)             | High                                     |\n",
    "| Representation      | Likely representative              | May not represent population well        |\n",
    "| Generalizability    | Results can be generalized         | Limited generalization                   |\n",
    "| Examples            | Simple random, stratified, cluster | Convenience, quota, snowball, judgmental |\n"
   ]
  },
  {
   "cell_type": "markdown",
   "id": "f2f30b4d-6734-4729-9f31-5981a3254443",
   "metadata": {},
   "source": [
    "**Q 8. Define and give examples of qualitative and quantitative data**"
   ]
  },
  {
   "cell_type": "markdown",
   "id": "2bc42754-9a47-4a54-bf47-24afda8e65ea",
   "metadata": {},
   "source": [
    "**Ans.** "
   ]
  },
  {
   "cell_type": "markdown",
   "id": "377886be-35ee-4780-b584-0f5c954f83aa",
   "metadata": {},
   "source": [
    "1. *Qualitative Data (also called categorical data)*: Qualitative data describes qualities or characteristics. It is non-numerical and typically represents categories, labels, or attributes."
   ]
  },
  {
   "cell_type": "markdown",
   "id": "394830fc-6377-4913-b70f-dc1ac0db03d2",
   "metadata": {},
   "source": [
    "Examples:\n",
    "- Colors: Red, Blue, Green\n",
    "- Gender: Male, Female, Non-binary\n",
    "- Nationality: Indian, Canadian, Japanese\n",
    "- Customer satisfaction: Happy, Neutral, Unhappy\n",
    "- Types of cuisine: Italian, Chinese, Indian"
   ]
  },
  {
   "cell_type": "markdown",
   "id": "a01dd553-3c23-4aa1-be1e-2a7b2656763c",
   "metadata": {},
   "source": [
    "2. *Quantitative Data*: Quantitative data deals with numbers and represents measurable quantities. It can be counted or measured."
   ]
  },
  {
   "cell_type": "markdown",
   "id": "53eb0c97-ebfa-4af6-acd5-2bee257f1be6",
   "metadata": {},
   "source": [
    "**Types:**\n",
    "- Discrete Data: Countable values (e.g., number of children)\n",
    "- Continuous Data: Measurable and can take any value within a range (e.g., height, weight)"
   ]
  },
  {
   "cell_type": "markdown",
   "id": "6087745b-7588-4f3f-bed3-e404cc946e1f",
   "metadata": {},
   "source": [
    "*Examples:*\n",
    "- Age: 16, 21, 35 years\n",
    "- Height: 172.5 cm\n",
    "- Income: ₹45,000 per month\n",
    "- Temperature: 37.2°C\n",
    "- Test scores: 85%, 92%, 76%"
   ]
  },
  {
   "cell_type": "markdown",
   "id": "72c8983d-826e-4d16-982e-e356beefadf3",
   "metadata": {},
   "source": [
    "**Q 9. What are the different types of data in statistics?**"
   ]
  },
  {
   "cell_type": "markdown",
   "id": "67a70c52-a7b3-49dd-abb5-7b703ba5009d",
   "metadata": {},
   "source": [
    "**Ans.** In statistics, data is classified into different types based on its nature and how it can be measured or categorized. Understanding the types of data is essential because it determines the appropriate statistical methods to use."
   ]
  },
  {
   "cell_type": "markdown",
   "id": "5d1a991f-60d6-46b1-bd40-a3e22fc545c3",
   "metadata": {},
   "source": [
    "**Main Types of Data in Statistics**"
   ]
  },
  {
   "cell_type": "markdown",
   "id": "a8d9cf83-8690-4eee-924a-1597e2a93627",
   "metadata": {},
   "source": [
    "1. *Qualitative Data (Categorical)*: This type of data describes qualities, categories, or labels. It cannot be measured numerically, but it can be grouped or classified."
   ]
  },
  {
   "cell_type": "markdown",
   "id": "73fd98b4-b2b0-4490-88e8-1c60be68ebdd",
   "metadata": {},
   "source": [
    "1. **Nominal Data**\n",
    "    - Categories without any order.\n",
    "    - 🔹 Examples: Gender (Male, Female), Eye color (Blue, Brown), Religion\n",
    "\n",
    "2. **Ordinal Data**\n",
    "    - Categories with a meaningful order, but no fixed difference between values.\n",
    "    - 🔹 Examples: Education level (High school, Bachelor’s, Master’s), Satisfaction (Poor, Fair, Good)\n"
   ]
  },
  {
   "cell_type": "markdown",
   "id": "f69120f2-52d3-459e-9028-52a527dbb61e",
   "metadata": {},
   "source": [
    "2. *Quantitative Data (Numerical):* This type of data is measurable and expressed as numbers. It can be used in mathematical calculations."
   ]
  },
  {
   "cell_type": "markdown",
   "id": "c201d3bc-c8af-4545-9541-e7ca7a31e179",
   "metadata": {},
   "source": [
    "1. **Discrete Data:**\n",
    "    - Countable, with specific, separate values.\n",
    "    - 🔹 Examples: Number of children, Test scores, Number of cars\n",
    "\n",
    "2. **Continuous Data:**\n",
    "    - Measurable and can take any value within a range, often including decimals.\n",
    "    - 🔹 Examples: Height, Weight, Temperature, Time\n"
   ]
  },
  {
   "cell_type": "markdown",
   "id": "48894f89-90b6-4e98-af24-2df6eea5c318",
   "metadata": {},
   "source": [
    "**Q 10.  Explain nominal, ordinal, interval, and ratio levels of measurement.**"
   ]
  },
  {
   "cell_type": "markdown",
   "id": "cf956d37-46f4-4729-a2ee-de91bb28f84f",
   "metadata": {},
   "source": [
    "**Ans.** In statistics, data can be measured at four levels (also called scales of measurement). These levels help determine what kind of analysis or statistical method is appropriate."
   ]
  },
  {
   "cell_type": "markdown",
   "id": "ce4edc35-53d8-4037-99c0-91adc94dd495",
   "metadata": {},
   "source": [
    "1. *Nominal Level:*\n",
    "    - Definition: Data is categorized into distinct groups or names, with no order or ranking.\n",
    "    - Nature: Qualitative\n",
    "    - Mathematical Meaning: Cannot perform arithmetic\n",
    "    - Can calculate: Mode only\n",
    "    - Examples:\n",
    "        - Gender: Male, Female, Other\n",
    "        - Nationality: Indian, American, Japanese\n",
    "        - Blood type: A, B, AB, O\n",
    "        - "
   ]
  },
  {
   "cell_type": "markdown",
   "id": "fa66e43a-74a5-449e-bb57-4feda4db2719",
   "metadata": {},
   "source": [
    "2. *Ordinal Level:*\n",
    "    - Definition: Data is categorized and ranked, but the differences between values are not meaningful or uniform.\n",
    "    - Nature: Qualitative (but ordered)\n",
    "    - Mathematical Meaning: Cannot do meaningful math\n",
    "    - Can calculate: Median, Mode\n",
    "    - 🔹 Examples:\n",
    "        - Customer satisfaction: Poor, Fair, Good, Excellent\n",
    "        - Education level: High school, Bachelor’s, Master’s, PhD\n",
    "        - Class rank: 1st, 2nd, 3rd (without knowing actual scores)"
   ]
  },
  {
   "cell_type": "markdown",
   "id": "8026de20-c720-493a-9c1f-2ab175f05bb2",
   "metadata": {},
   "source": [
    "3. *Interval Level:*\n",
    "    - Definition: Data is numerical, ordered, and the differences between values are meaningful, but there is no true zero.\n",
    "    - Nature: Quantitative\n",
    "    - Mathematical Meaning: Can add and subtract, but ratios are not meaningful\n",
    "    - 🔹 Examples:\n",
    "        - Temperature in Celsius or Fahrenheit (0°C ≠ absence of temperature)\n",
    "        - Dates (e.g., 2000 vs 2020 → 20-year difference is meaningful, but \"twice as late\" isn't)"
   ]
  },
  {
   "cell_type": "markdown",
   "id": "e8d89edd-cbd6-4c22-a7e2-957ad6493653",
   "metadata": {},
   "source": [
    "4. *Ratio Level:*\n",
    "    - Definition: Like interval data, but with a true zero point, so ratios are meaningful.\n",
    "    - Nature: Quantitativ\n",
    "    - Mathematical Meaning: All arithmetic operations are valid\n",
    "    - 🔹 Examples:\n",
    "        - Height, Weight, Age\n",
    "        - Income (₹0 means no money)\n",
    "        - Distance, Time, Speed"
   ]
  },
  {
   "cell_type": "markdown",
   "id": "871be704-cbdd-4097-8781-363bece61417",
   "metadata": {},
   "source": [
    "**Q 11. What is the measure of central tendency?**"
   ]
  },
  {
   "cell_type": "markdown",
   "id": "343f71fb-4c69-4182-b279-ae0c6c5d5694",
   "metadata": {},
   "source": [
    "**Ans.** A measure of central tendency is a statistical value that identifies the center or typical value in a dataset. It shows where the \"middle\" of the data lies and gives a single value that summarizes a set of data."
   ]
  },
  {
   "cell_type": "markdown",
   "id": "987feeef-6e08-4e5b-861a-39e9b52fe026",
   "metadata": {},
   "source": [
    "*The Three Main Measures of Central Tendency:*"
   ]
  },
  {
   "cell_type": "markdown",
   "id": "9418f8a4-9f0f-4689-b1bf-9a00ab5ef6a8",
   "metadata": {},
   "source": [
    "1. **Mean (Arithmetic Average):** \n",
    "    - Definition: The sum of all values divided by the number of values.\n",
    "    - Formula: Mean  =  Sum of all values / Number of values\n",
    "    - Example:\n",
    "        - Data = 10, 20, 30\n",
    "        - Mean = (10 + 20 + 30) ÷ 3 = 20"
   ]
  },
  {
   "cell_type": "markdown",
   "id": "f2a935f4-6f6b-4be5-854a-8f2f446ae499",
   "metadata": {},
   "source": [
    "2. **Median (Middle Value):**\n",
    "    - Definition: The middle number when data is arranged in order.\n",
    "    - If the number of values is odd, the median is the middle value.\n",
    "    - If even, the median is the average of the two middle values.\n",
    "    - Example:\n",
    "        - Data = 5, 7, 10, 12, 15 → Median = 10\n",
    "        - Data = 4, 6, 8, 10 → Median = (6 + 8) ÷ 2 = 7"
   ]
  },
  {
   "cell_type": "markdown",
   "id": "75ec1705-964b-4642-a3ea-a399d13a6f08",
   "metadata": {},
   "source": [
    "3. **Mode (Most Frequent Value):**\n",
    "    - Definition: The value that occurs most often.\n",
    "    - A dataset can have:\n",
    "        - No mode\n",
    "        - One mode (unimodal)\n",
    "        - Two modes (bimodal)\n",
    "        - More than two modes (multimodal)\n",
    "    - Example:\n",
    "        - Data = 2, 3, 3, 4, 5 → Mode = 3\n"
   ]
  },
  {
   "cell_type": "markdown",
   "id": "5cc2fb7d-875d-4d38-998d-13fa34a68091",
   "metadata": {},
   "source": [
    "**Q 12.  Define mean, median, and mode.**"
   ]
  },
  {
   "cell_type": "markdown",
   "id": "d0b2307b-e509-4db4-aa1f-23aedaf65c54",
   "metadata": {},
   "source": [
    "**Ans.** Here are the definitions of mean, median, and mode, the three main measures of central tendency in statistics:"
   ]
  },
  {
   "cell_type": "markdown",
   "id": "99755c14-9ade-4957-b17b-b520c6ece06e",
   "metadata": {},
   "source": [
    "1. *Mean (Arithmetic Average)*: The mean is the sum of all values in a dataset divided by the total number of values."
   ]
  },
  {
   "cell_type": "markdown",
   "id": "95f0f04f-ee18-41ab-8941-a618322e5d3b",
   "metadata": {},
   "source": [
    "Formula:   Mean = Sum of all values / Number of Values"
   ]
  },
  {
   "cell_type": "markdown",
   "id": "5b4f66d7-8a8c-4c31-b912-6580c7181912",
   "metadata": {},
   "source": [
    "Example:"
   ]
  },
  {
   "cell_type": "markdown",
   "id": "2455fc1f-9880-442b-b26d-13c584da4a2c",
   "metadata": {},
   "source": [
    "Data: 5, 10, 15"
   ]
  },
  {
   "cell_type": "markdown",
   "id": "d4c1a459-ffb1-4a0b-9164-78e156e3140d",
   "metadata": {},
   "source": [
    "        Mean = (5 + 10 + 15 ) / 3"
   ]
  },
  {
   "cell_type": "markdown",
   "id": "b073b88f-9ee5-4172-bc11-5008f80ce638",
   "metadata": {},
   "source": [
    "        Mean = 30 / 3 = 10"
   ]
  },
  {
   "cell_type": "markdown",
   "id": "46afc985-148e-42a9-8753-8499340c633a",
   "metadata": {},
   "source": [
    "2. *Median* : The median is the middle value in a dataset when arranged in ascending (or descending) order.\n",
    "    - If the number of values is even, the median is the average of the two middle values."
   ]
  },
  {
   "cell_type": "markdown",
   "id": "4125e887-7618-4f63-9441-7323f645fdfa",
   "metadata": {},
   "source": [
    "- Example 1 (Odd count):\n",
    "    - Data: 3, 5, 7 → Median = 5"
   ]
  },
  {
   "cell_type": "markdown",
   "id": "21965ec5-902d-48b9-9c01-4a128245216b",
   "metadata": {},
   "source": [
    "- Example 2 (Even count):\n",
    "    - Data: 4, 6, 8, 10 →\n",
    "    - Median = (6 + 8) ÷ 2 = 7"
   ]
  },
  {
   "cell_type": "markdown",
   "id": "a1fb3530-f6fd-4c7f-bb8b-f93c0a566a1a",
   "metadata": {},
   "source": [
    "3. *Mode* : The mode is the value that occurs most frequently in a dataset.\n",
    "There can be:\n",
    "    - No mode (if all values are unique)\n",
    "    - One mode (unimodal)\n",
    "    - Two modes (bimodal)\n",
    "    - More than two modes (multimodal)"
   ]
  },
  {
   "cell_type": "markdown",
   "id": "a8af6421-e3ae-4a10-9535-e722602ccfec",
   "metadata": {},
   "source": [
    "- Example:\n",
    "    - Data: 2, 4, 4, 6, 8\n",
    "    - Mode = 4 (since it appears most often)"
   ]
  },
  {
   "cell_type": "markdown",
   "id": "e331575c-fb27-460d-a4ed-eee9a170e049",
   "metadata": {},
   "source": [
    "**Q 13. What is the significance of the measure of central tendency?**"
   ]
  },
  {
   "cell_type": "markdown",
   "id": "be9eb36e-6957-4f0b-841d-b8dd2d8fb88d",
   "metadata": {},
   "source": [
    "**Ans.** *(Significance of the Measure of Central Tendency*: The measure of central tendency is crucial in statistics because it provides a single value that summarizes an entire dataset, giving a clear picture of where the data is centered or concentrated."
   ]
  },
  {
   "cell_type": "markdown",
   "id": "3d1e288c-69cd-447b-9afc-9f0fac8202bb",
   "metadata": {},
   "source": [
    "**Why Is It Important?**"
   ]
  },
  {
   "cell_type": "markdown",
   "id": "4c8d2eb1-963e-4c59-ae27-996a2913789d",
   "metadata": {},
   "source": [
    "1. ✅ Simplifies Large Data Sets\n",
    "    - Reduces a large amount of data to a single representative value\n",
    "    - Makes data easier to understand and interpret\n",
    "\n",
    "2. 📈 Enables Comparison\n",
    "    - Helps compare different groups or time periods\n",
    "    - Example: Comparing average test scores between two schools\n",
    "\n",
    "3. 🧠 Supports Decision-Making\n",
    "    - Used in business, economics, healthcare, education, etc.\n",
    "    - Example: A company checks the average sales to guide marketing efforts\n",
    "\n",
    "4. 📊 Foundation for Further Analysis\n",
    "    - Essential for other statistical concepts like standard deviation, variance, and skewness\n",
    "    - Used in hypothesis testing and regression analysis\n",
    "\n",
    "5. 📚 Describes Typical or Normal Behavior\n",
    "    - Shows what is “typical” in a dataset\n",
    "    - Example: Knowing the median income tells us about a region’s standard of living"
   ]
  },
  {
   "cell_type": "markdown",
   "id": "1a934d7f-3cd7-497a-ba88-4943061f73ca",
   "metadata": {},
   "source": [
    "**Q 14. What is variance, and how is it calculated?**"
   ]
  },
  {
   "cell_type": "markdown",
   "id": "f6796385-c4bd-4493-aea6-2e75b137a93b",
   "metadata": {},
   "source": [
    "**Ans.** Variance is a measure of how spread out or dispersed the values in a dataset are from the mean (average). It tells you how much the data points differ from the mean on average."
   ]
  },
  {
   "cell_type": "markdown",
   "id": "53a876cb-8510-4ca8-b1c7-a91d40be9925",
   "metadata": {},
   "source": [
    "- *Why is Variance Important?*\n",
    "    - It helps understand data variability.\n",
    "    - A high variance means values are widely spread.\n",
    "    - A low variance means values are closer to the mean.\n",
    "    - It's the basis for other measures like standard deviation and plays a key role in statistical inference."
   ]
  },
  {
   "attachments": {
    "58f20156-5a56-44dc-900c-b96df770934d.png": {
     "image/png": "[encoded data removed]"
    }
   },
   "cell_type": "markdown",
   "id": "dd78b655-03ec-4a31-9f24-4249297dd00e",
   "metadata": {},
   "source": [
    "*Formula to Calculate Variance:*\n",
    "\n",
    "![image.png](attachment:58f20156-5a56-44dc-900c-b96df770934d.png)"
   ]
  },
  {
   "cell_type": "markdown",
   "id": "d44208f8-26df-4fe4-9423-877eac51f0c0",
   "metadata": {},
   "source": [
    "**Q 15. What is standard deviation, and why is it important?**"
   ]
  },
  {
   "cell_type": "markdown",
   "id": "aad5e872-66f3-4d3f-b868-680318f33a32",
   "metadata": {},
   "source": [
    "**Ans.** Standard deviation is a statistical measure that shows how much the values in a dataset deviate from the mean (average). It is the square root of the variance, and it tells you the average amount by which data points differ from the mean."
   ]
  },
  {
   "attachments": {
    "41eb0e1f-ddb8-4fc5-b829-78596f0c34e3.png": {
     "image/png": "[encoded data removed]"
    }
   },
   "cell_type": "markdown",
   "id": "cc238bef-c3f1-45d9-aa8a-2b2c86221aaf",
   "metadata": {},
   "source": [
    "![image.png](attachment:41eb0e1f-ddb8-4fc5-b829-78596f0c34e3.png)"
   ]
  },
  {
   "cell_type": "markdown",
   "id": "284762e1-b063-4b9b-bfaf-e146596271a9",
   "metadata": {},
   "source": [
    "*Why Is Standard Deviation Important?*\n",
    "1. Measures Spread of Data\n",
    "    - A small standard deviation means values are close to the mean.\n",
    "    - A large standard deviation means values are spread out over a wider range.\n",
    "\n",
    "2. Helps Understand Consistency\n",
    "    - Useful in comparing consistency across datasets.\n",
    "    - Example: Two machines produce bolts. Machine A has low standard deviation (more consistent), Machine B has high standard deviation (less consistent).\n",
    "\n",
    "3. Used in Probability and Normal Distribution\n",
    "    - In a normal distribution:\n",
    "        - ~68% of data falls within ±1 SD of the mean\n",
    "        - ~95% within ±2 SDs\n",
    "        - ~99.7% within ±3 SDs (the empirical rule)\n",
    "\n",
    "4. Essential in Risk and Quality Control\n",
    "    - In finance, it measures risk or volatility.\n",
    "    - In manufacturing, it monitors process stability."
   ]
  },
  {
   "cell_type": "markdown",
   "id": "28cc1e7a-aaf7-4b63-ba0f-1bbb80de1ee3",
   "metadata": {},
   "source": [
    "**Q 16. Define and explain the term range in statistics.**"
   ]
  },
  {
   "cell_type": "markdown",
   "id": "b8fe6d9a-dd9a-4a20-9173-9b1cc620c06f",
   "metadata": {},
   "source": [
    "**Ans.** In statistics, the range is a measure of dispersion that shows the difference between the highest and lowest values in a dataset."
   ]
  },
  {
   "cell_type": "markdown",
   "id": "3f7b850c-27a6-4ab0-9494-6e9390b1a341",
   "metadata": {},
   "source": [
    "**Formula:**"
   ]
  },
  {
   "cell_type": "markdown",
   "id": "77986b25-4982-4a9a-9851-71f6aaa38269",
   "metadata": {},
   "source": [
    "            Range    =    Maximum Value   −    Minimum Value"
   ]
  },
  {
   "cell_type": "markdown",
   "id": "28e77889-ea41-4dd7-9368-75e3e3834a7c",
   "metadata": {},
   "source": [
    "The range gives a quick sense of how spread out the data is — it tells you the span of values in your dataset."
   ]
  },
  {
   "cell_type": "markdown",
   "id": "9634dbec-1b86-4748-b466-8d5ccfb85d3c",
   "metadata": {},
   "source": [
    "Example:\n",
    "- Data: 5, 8, 12, 15, 20\n",
    "- Maximum = 20\n",
    "- Minimum = 5\n",
    "- Range  =  20  -  5 = 15\n",
    "- So, the range of the data is 15."
   ]
  },
  {
   "cell_type": "markdown",
   "id": "65f8786f-40ee-4340-9979-dd25ef4178a9",
   "metadata": {},
   "source": [
    "**Q 17. What is the difference between variance and standard deviation?**"
   ]
  },
  {
   "cell_type": "markdown",
   "id": "352b24ad-2a0e-48ce-b1dc-13ebcd111d08",
   "metadata": {},
   "source": [
    "**Ans.** Both variance and standard deviation are measures of dispersion that describe how spread out the data is around the mean. However, they differ in how they represent that spread."
   ]
  },
  {
   "cell_type": "markdown",
   "id": "6d2c9cfa-9f70-47a1-afa6-e064d04642b4",
   "metadata": {},
   "source": [
    "Key Differences:\n",
    "| Feature                 | **Variance**                                         | **Standard Deviation**                            |\n",
    "| ----------------------- | ---------------------------------------------------- | ------------------------------------------------- |\n",
    "| **Definition**          | Average of the **squared** differences from the mean | **Square root** of the variance                   |\n",
    "| **Symbol (Population)** | $\\sigma^2$                                           | $\\sigma$                                          |\n",
    "| **Symbol (Sample)**     | $s^2$                                                | $s$                                               |\n",
    "| **Formula**             | $\\frac{1}{n} \\sum (x_i - \\mu)^2$                     | $\\sqrt{ \\frac{1}{n} \\sum (x_i - \\mu)^2 }$         |\n",
    "| **Units**               | **Squared units** (e.g., cm², ₹²)                    | **Same units** as original data (e.g., cm, ₹)     |\n",
    "| **Interpretation**      | Less intuitive (involves squared values)             | More intuitive (directly shows average deviation) |\n",
    "| **Used for**            | Intermediate step in finding SD, mathematical models | Reporting spread in real-world units              |\n"
   ]
  },
  {
   "cell_type": "markdown",
   "id": "986cc474-a98c-4cb3-b169-a14e1632e8ab",
   "metadata": {},
   "source": [
    "**Q 18. What is skewness in a dataset?**"
   ]
  },
  {
   "cell_type": "markdown",
   "id": "1f413f0b-b78e-44c2-aa86-469d9efe5029",
   "metadata": {},
   "source": [
    "**Ans.** Skewness in a dataset is a measure of the asymmetry of the distribution of data values around the mean.\n",
    "\n",
    "> Types of Skewness:\n",
    "\n",
    "- Positive Skewness (Right-skewed):\n",
    "    - The tail on the right side (higher values) is longer or fatter.\n",
    "    - Most values are concentrated on the left.\n",
    "    - Example: Income distribution — many earn low to average, few earn very high.\n",
    "\n",
    "- Negative Skewness (Left-skewed):\n",
    "    - The tail on the left side (lower values) is longer or fatter.\n",
    "    - Most values are concentrated on the right.\n",
    "    - Example: Age at retirement — most retire around 60-65, few much earlier.\n",
    "\n",
    "- Zero Skewness (Symmetrical Distribution):\n",
    "    - The left and right sides of the distribution are mirror images.\n",
    "    - Common example: Normal distribution."
   ]
  },
  {
   "cell_type": "markdown",
   "id": "bcbe85a0-623e-4c72-a085-7d8a2079fac6",
   "metadata": {},
   "source": [
    "Interpretation of Skewness Value:\n",
    "| Skewness Value | Interpretation           |\n",
    "| -------------- | ------------------------ |\n",
    "| 0              | Symmetrical distribution |\n",
    "| > 0            | Positively skewed        |\n",
    "| < 0            | Negatively skewed        |\n"
   ]
  },
  {
   "attachments": {
    "b1166521-adb0-4c57-994c-c836422c9c97.png": {
     "image/png": "[encoded data removed]"
    }
   },
   "cell_type": "markdown",
   "id": "2d86fb2e-6d3b-4589-9528-e282344d0485",
   "metadata": {},
   "source": [
    "Skewness Formula: \n",
    "![image.png](attachment:b1166521-adb0-4c57-994c-c836422c9c97.png)\n"
   ]
  },
  {
   "cell_type": "markdown",
   "id": "70bb2667-cc8a-4b82-96f8-ae24ceec4a5a",
   "metadata": {},
   "source": [
    "**Q 19. What does it mean if a dataset is positively or negatively skewed?**"
   ]
  },
  {
   "cell_type": "markdown",
   "id": "35f2abba-6ee3-4c82-98a8-31a2708ff3a5",
   "metadata": {},
   "source": [
    "**Ans.** If a dataset is positively or negatively skewed, it tells us how the data is distributed, especially how asymmetrical it is around the mean. Here's what each means:\n"
   ]
  },
  {
   "cell_type": "markdown",
   "id": "1ebc293b-a2cd-4e99-862a-1ae728cb2235",
   "metadata": {},
   "source": [
    "**Positively Skewed Distribution (Right Skewed)**"
   ]
  },
  {
   "cell_type": "markdown",
   "id": "99727c6e-e6f0-4e62-93d3-46cd99f2df40",
   "metadata": {},
   "source": [
    "- Definition: The right tail (higher values) is longer or fatter than the left.\n",
    "- Implication: There are a few very large values pulling the mean to the right.\n",
    "- Central Tendency:\n",
    "    - Mean > Median > Mode\n",
    "- Shape:\n",
    "    - Peak is on the left, tail on the right\n",
    "- Example:\n",
    "    - Income: Most people earn around average, but a few earn extremely high salaries."
   ]
  },
  {
   "cell_type": "markdown",
   "id": "9c349336-01cc-4362-adff-93f2e748682d",
   "metadata": {},
   "source": [
    "**Negatively Skewed Distribution (Left Skewed)**"
   ]
  },
  {
   "cell_type": "markdown",
   "id": "f9c7b128-bf25-4823-870f-00effb24e1ae",
   "metadata": {},
   "source": [
    "- Definition: The left tail (lower values) is longer or fatter than the right.\n",
    "- Implication: There are a few very low values pulling the mean to the left.\n",
    "- Central Tendency:\n",
    "    - Mean < Median < Mode\n",
    "- Shape:\n",
    "    - Peak is on the right, tail on the left\n",
    "- Example:\n",
    "    - Age at retirement: Most people retire between 60–65, but a few retire very early (due to early pensions or disability).\n"
   ]
  },
  {
   "cell_type": "markdown",
   "id": "ae14b877-049f-4e40-a9e5-ace9548487ee",
   "metadata": {},
   "source": [
    "**Q 20.  Define and explain kurtosis.**"
   ]
  },
  {
   "cell_type": "markdown",
   "id": "ecdb0337-fedf-41fa-937a-38364ab3b296",
   "metadata": {},
   "source": [
    "**Ans.** Kurtosis is a statistical measure that describes the \"tailedness\" or peakedness of a data distribution — that is, how much of the variance in your data is due to extreme values (outliers)."
   ]
  },
  {
   "cell_type": "markdown",
   "id": "741d8d25-a5c8-4491-90c0-ea990339f726",
   "metadata": {},
   "source": [
    "**Types of Kurtosis:**"
   ]
  },
  {
   "cell_type": "markdown",
   "id": "31277c07-ff93-4459-8947-ef09c2276617",
   "metadata": {},
   "source": [
    "1. Mesokurtic (Kurtosis = 3)\n",
    "    - The benchmark — represents the kurtosis of a normal distribution.\n",
    "    - Tails are neither too heavy nor too light.\n",
    "    - Moderate peak and standard tail.\n",
    "\n",
    "2. Leptokurtic (Kurtosis > 3)\n",
    "    - High peak with heavy tails.\n",
    "    - More outliers than a normal distribution.\n",
    "    - Suggests data is concentrated around the mean, but with extreme values far from it.\n",
    "    - Example: Financial returns (often have outliers).\n",
    "\n",
    "3. Platykurtic (Kurtosis < 3)\n",
    "    - Flat peak with light tails.\n",
    "    - Fewer outliers than a normal distribution.\n",
    "    - More evenly spread data.\n",
    "    - Example: Uniform-like distributions"
   ]
  },
  {
   "cell_type": "markdown",
   "id": "65b6327d-f17a-421e-8beb-2d425cce2670",
   "metadata": {},
   "source": [
    "**Formula for Sample Kurtosis:**"
   ]
  },
  {
   "attachments": {
    "b27bf41a-8d1d-4243-b919-6c6aea7aada9.png": {
     "image/png": "[encoded data removed]"
    }
   },
   "cell_type": "markdown",
   "id": "7082b9e1-84cd-4b1c-9179-ee20ec054e12",
   "metadata": {},
   "source": [
    "![image.png](attachment:b27bf41a-8d1d-4243-b919-6c6aea7aada9.png)"
   ]
  },
  {
   "cell_type": "markdown",
   "id": "98df16a3-5e86-4a90-bc8d-d12edbf4e9f8",
   "metadata": {},
   "source": [
    "**Why Kurtosis Matters:**\n",
    "1. Detects outlier-prone distributions\n",
    "2. Useful in finance, risk analysis, and quality control\n",
    "3. Helps evaluate the shape of the distribution beyond skewness"
   ]
  },
  {
   "cell_type": "markdown",
   "id": "03d1b0d0-7174-49ac-ad08-a9c5a06a6092",
   "metadata": {},
   "source": [
    "**Summary Table:**\n",
    "| Type        | Value             | Tails  | Peak   | Outliers |\n",
    "| ----------- | ----------------- | ------ | ------ | -------- |\n",
    "| Mesokurtic  | = 3 (or 0 excess) | Normal | Normal | Normal   |\n",
    "| Leptokurtic | > 3               | Heavy  | Sharp  | More     |\n",
    "| Platykurtic | < 3               | Light  | Flat   | Fewer    |\n"
   ]
  },
  {
   "cell_type": "markdown",
   "id": "30b4a453-6c21-4bd0-87ec-54fd0e1fdf5e",
   "metadata": {},
   "source": [
    "**Q 21. What is the purpose of covariance?**"
   ]
  },
  {
   "cell_type": "markdown",
   "id": "6c32dd4a-1869-489f-8838-ca046b0e2d9f",
   "metadata": {},
   "source": [
    "**Ans.** Covariance is a statistical measure that shows the direction of the linear relationship between two variables. It helps us understand how two variables change together."
   ]
  },
  {
   "cell_type": "markdown",
   "id": "a9a3ac08-36e3-4b71-b479-175fa417c339",
   "metadata": {},
   "source": [
    "**Main Purposes of Covariance:**"
   ]
  },
  {
   "cell_type": "markdown",
   "id": "f41988e4-c23a-44d3-8da7-2cb832fd50e5",
   "metadata": {},
   "source": [
    "1. Identify the Direction of Relationship:\n",
    "    - Positive covariance: When one variable increases, the other tends to increase.\n",
    "    - Negative covariance: When one variable increases, the other tends to decrease.\n",
    "    - Zero covariance: No consistent relationship.\n",
    "    - 🔁 It does not measure the strength, only the direction.\n",
    "\n",
    "2. Foundation for Correlation:\n",
    "    - Covariance is used to compute the correlation coefficient, which normalizes the relationship between two variables.\n",
    "    - Correlation = Covariance / (Standard deviation of X × Standard deviation of Y)\n",
    "\n",
    "3. Used in Portfolio Theory (Finance)\n",
    "    - Covariance helps in portfolio diversification.\n",
    "    - Combining assets with low or negative covariance can reduce overall risk.\n",
    "\n",
    "4. Understanding Variable Interactions in Data Analysis:\n",
    "    - Used in Principal Component Analysis (PCA) and Multivariate Analysis.\n",
    "    - Covariance matrix shows how all variables relate to one another."
   ]
  },
  {
   "cell_type": "markdown",
   "id": "15c72485-e1a6-4690-b6dd-7fe842cddaf3",
   "metadata": {},
   "source": [
    "**Formula for Sample Covariance:**"
   ]
  },
  {
   "attachments": {
    "46e19991-f720-46f2-a68f-1e4af6b12313.png": {
     "image/png": "[encoded data removed]"
    }
   },
   "cell_type": "markdown",
   "id": "d9a114d2-bc85-48a0-930b-c2afad9a84c4",
   "metadata": {},
   "source": [
    "![image.png](attachment:46e19991-f720-46f2-a68f-1e4af6b12313.png)"
   ]
  },
  {
   "cell_type": "markdown",
   "id": "545f7109-dc3e-4126-8143-88bf48a05e89",
   "metadata": {},
   "source": [
    "**Q 22.  What does correlation measure in statistics?**"
   ]
  },
  {
   "cell_type": "markdown",
   "id": "6b9d082e-817f-462d-a6f5-b6036e181308",
   "metadata": {},
   "source": [
    "**Ans.** Correlation measures the strength and direction of a linear relationship between two variables."
   ]
  },
  {
   "cell_type": "markdown",
   "id": "42fc76d4-a101-4bb2-afa3-4944032a1cce",
   "metadata": {},
   "source": [
    "1. **Direction of Relationship**:\n",
    "    - Positive correlation: As one variable increases, the other also increases.\n",
    "    - Negative correlation: As one variable increases, the other decreases.\n",
    "    - Zero correlation: No linear relationship between the variables.\n",
    "\n",
    "2. **Strength of Relationship**:\n",
    "    - Measured by the correlation coefficient, usually denoted by 𝑟\n",
    "    - Values range from -1 to +1:\n",
    "\n",
    "\\| r Value       | Interpretation             |\n",
    "\\|---------------|----------------------------|\n",
    "\\| **+1**        | Perfect positive correlation |\n",
    "\\| **0**         | No correlation              |\n",
    "\\| **–1**        | Perfect negative correlation |\n",
    "\\| \\~±0.7 to ±1   | Strong correlation          |\n",
    "\\| \\~±0.3 to ±0.7 | Moderate correlation        |\n",
    "\\| \\~0 to ±0.3    | Weak correlation            |\n",
    "\n",
    "3. 🔄 Symmetry:\n",
    "    - Correlation between X and Y is the same as between Y and X."
   ]
  },
  {
   "attachments": {
    "7ea7021c-f385-4359-80ef-b66c4a51ffde.png": {
     "image/png": "[encoded data removed]"
    }
   },
   "cell_type": "markdown",
   "id": "42b43ff9-9fbc-43a7-82d0-1a438497341a",
   "metadata": {},
   "source": [
    "**Formula (Pearson Correlation Coefficient):**\n",
    "\n",
    "![image.png](attachment:7ea7021c-f385-4359-80ef-b66c4a51ffde.png)"
   ]
  },
  {
   "cell_type": "markdown",
   "id": "a9d2b733-935a-43e7-9337-64ecdc753e1c",
   "metadata": {},
   "source": [
    "**Why Correlation Is Important:**\n",
    "- Identifies relationships in data\n",
    "- Helps in prediction (e.g., regression analysis)\n",
    "- Used in finance, medicine, social science, etc.\n",
    "- Foundation for many techniques like linear regression, PCA"
   ]
  },
  {
   "cell_type": "markdown",
   "id": "eb151800-7ba5-4149-be2b-d548fb77ca53",
   "metadata": {},
   "source": [
    "**Q 23. What is the difference between covariance and correlation?**"
   ]
  },
  {
   "cell_type": "markdown",
   "id": "da1feb17-2ac9-4164-9296-830f1724afb1",
   "metadata": {},
   "source": [
    "**Ans.** Difference Between Covariance and Correlation"
   ]
  },
  {
   "cell_type": "markdown",
   "id": "c2732549-eba4-455b-a1d8-3571749443cd",
   "metadata": {},
   "source": [
    "| Feature                  | **Covariance**                                                           | **Correlation**                                                        |\n",
    "| ------------------------ | ------------------------------------------------------------------------ | ---------------------------------------------------------------------- |\n",
    "| **Definition**           | Measures **how two variables change together**                           | Measures **how strongly** two variables are **linearly related**       |\n",
    "| **Value Range**          | From **–∞ to +∞**                                                        | Always between **–1 and +1**                                           |\n",
    "| **Scale**                | **Not standardized** — value depends on the units of data                | **Standardized** — unitless, easier to compare across datasets         |\n",
    "| **Interpretation**       | Only shows **direction** of relationship                                 | Shows **both direction and strength** of the relationship              |\n",
    "| **Units**                | Product of units of the two variables (e.g., cm·kg)                      | **Unitless**                                                           |\n",
    "| **Formula**              | $\\text{Cov}(X, Y) = \\frac{1}{n - 1} \\sum (X_i - \\bar{X})(Y_i - \\bar{Y})$ | $\\text{Corr}(X, Y) = \\frac{\\text{Cov}(X, Y)}{\\sigma_X \\cdot \\sigma_Y}$ |\n",
    "| **Sensitivity to Scale** | Very sensitive — changing units changes covariance                       | Not sensitive — correlation remains the same if units change           |\n"
   ]
  },
  {
   "cell_type": "markdown",
   "id": "0171e10a-4f92-48c9-ace6-61c7d21dab25",
   "metadata": {},
   "source": [
    "**Q 24. What are some real-world applications of statistics?**"
   ]
  },
  {
   "cell_type": "markdown",
   "id": "7b0b1e4d-767f-4cea-95d0-44436bc08006",
   "metadata": {},
   "source": [
    "**Ans.** **Real-World Applications of Statistics**"
   ]
  },
  {
   "cell_type": "markdown",
   "id": "456c7acd-db5b-424e-aecf-e5ae060df987",
   "metadata": {},
   "source": [
    "Statistics is used everywhere — from business and medicine to sports and government. Below are some key real-world applications categorized by field:"
   ]
  },
  {
   "cell_type": "markdown",
   "id": "e9b198c3-4dd3-4d72-aabd-8762de3f346d",
   "metadata": {},
   "source": [
    "1. Healthcare & Medicine:\n",
    "    - Clinical trials: Evaluating effectiveness of new drugs or treatments using hypothesis testing.\n",
    "    - Epidemiology: Studying patterns of disease spread (e.g., COVID-19 infection rates).\n",
    "    - Medical diagnosis: Predicting disease risks using statistical models (like logistic regression)."
   ]
  },
  {
   "cell_type": "markdown",
   "id": "0c50eeb7-35e7-4cbd-87c3-8d78f8a0c72f",
   "metadata": {},
   "source": [
    "2. Business & Economics:\n",
    "    - Market research: Analyzing customer surveys and behavior.\n",
    "    - Quality control: Monitoring product defects using control charts in manufacturing.\n",
    "    - Financial forecasting: Predicting stock prices, revenues, and economic trends."
   ]
  },
  {
   "cell_type": "markdown",
   "id": "7215053f-4bec-486a-9203-b57b16f255d4",
   "metadata": {},
   "source": [
    "3. Education:\n",
    "    - Standardized testing: Analyzing exam scores to measure student performance (mean, standard deviation).\n",
    "    - Educational research: Comparing teaching methods using statistical experiments.\n",
    "    - Ranking systems: Universities and schools are ranked based on various statistics."
   ]
  },
  {
   "cell_type": "markdown",
   "id": "d9a2589a-a0b7-4845-b42a-065c09aade51",
   "metadata": {},
   "source": [
    "4. Government & Policy Making\n",
    "    - Census and population data: Collecting and analyzing demographic information.\n",
    "    - Public policy: Evaluating programs like unemployment benefits, social services.\n",
    "    - Crime analysis: Mapping and predicting crime trends using statistical data."
   ]
  },
  {
   "cell_type": "markdown",
   "id": "c409f7bf-9df4-4845-b584-8351d539b320",
   "metadata": {},
   "source": [
    "5. Sports Analytics\n",
    "    - Player performance: Analyzing batting averages, passing accuracy, etc.\n",
    "    - Team strategies: Predicting game outcomes using historical stats.\n",
    "    - Fantasy leagues: Ranking players based on statistical models."
   ]
  },
  {
   "cell_type": "markdown",
   "id": "5dd79837-a84d-494f-8175-34536b2572d9",
   "metadata": {},
   "source": [
    "6. Environmental Science:\n",
    "    - Weather forecasting: Using time series data and probability models.\n",
    "    - Climate change studies: Long-term trend analysis using global datasets.\n",
    "    - Pollution monitoring: Analyzing air or water quality statistics."
   ]
  },
  {
   "cell_type": "markdown",
   "id": "9d15a423-b5d5-43e3-9095-745f663054bb",
   "metadata": {},
   "source": [
    "7. Psychology & Social Sciences:\n",
    "    - Behavioral research: Testing hypotheses about human behavior.\n",
    "    - Survey analysis: Understanding public opinion or attitudes.\n",
    "    - Experimental design: Structuring experiments to eliminate bias."
   ]
  },
  {
   "cell_type": "markdown",
   "id": "3e341f5a-2ca7-4145-b1fa-2263fdd2ff6d",
   "metadata": {},
   "source": [
    "8. Data Science & AI:\n",
    "    - Machine learning models: Based on statistical principles (regression, classification).\n",
    "    - Predictive analytics: Used in recommendation systems (e.g., Netflix, Amazon).\n",
    "    - Big Data: Statistics is essential for summarizing and modeling large datasets."
   ]
  },
  {
   "cell_type": "markdown",
   "id": "708ead15-b3af-46eb-982c-5c1dd6fb97c0",
   "metadata": {},
   "source": [
    "**Summary:**\n",
    "\n",
    "| Field        | Example Use of Statistics                |\n",
    "| ------------ | ---------------------------------------- |\n",
    "| Healthcare   | Drug trials, diagnosis modeling          |\n",
    "| Business     | Sales forecasting, customer insights     |\n",
    "| Government   | Census, policy evaluation                |\n",
    "| Education    | Exam analysis, effectiveness of methods  |\n",
    "| Sports       | Player and team performance metrics      |\n",
    "| Environment  | Weather prediction, pollution monitoring |\n",
    "| Psychology   | Behavioral studies, surveys              |\n",
    "| Data Science | AI models, prediction algorithms         |\n"
   ]
  },
  {
   "cell_type": "markdown",
   "id": "45ba027c-86c5-4287-b8c6-2ab6e7379d0f",
   "metadata": {},
   "source": [
    "#   Practical Questions"
   ]
  },
  {
   "cell_type": "markdown",
   "id": "1f12568d-66e8-4589-afd4-20a2f40f2b0c",
   "metadata": {},
   "source": [
    "**Q 1. How do you calculate the mean, median, and mode of a dataset?**"
   ]
  },
  {
   "cell_type": "markdown",
   "id": "04c710f5-4def-494a-8617-e734c3cd18ae",
   "metadata": {},
   "source": [
    "**Ans.** To calculate the mean, median, and mode of a dataset, follow these steps:"
   ]
  },
  {
   "cell_type": "markdown",
   "id": "cdd520f5-fd04-45f2-8aad-6019b4d0d882",
   "metadata": {},
   "source": [
    "1. Mean (Average): Definition: The sum of all values divided by the number of values.\n",
    "    - Formula:: Mean   =   Sum of all values / Number of values"
   ]
  },
  {
   "cell_type": "markdown",
   "id": "9ee92538-548d-4400-a3f3-2b28bdfe40f3",
   "metadata": {},
   "source": [
    "Example:\n",
    "- Dataset: 4, 8, 6, 5, 3\n",
    "- Mean = (4 + 8 + 6 + 5 + 3) / 5 = 26 / 5 = 5.2"
   ]
  },
  {
   "cell_type": "markdown",
   "id": "883066de-0bb7-483d-aeca-daec03ca7fc2",
   "metadata": {},
   "source": [
    "2. Median (Middle Value)\n",
    "    - Definition: The middle value when the data is arranged in ascending order.\n",
    "    - Steps:\n",
    "        - Sort the data in ascending order.\n",
    "        - If the number of values (n) is odd, the median is the middle value.\n",
    "        - If even, the median is the average of the two middle values."
   ]
  },
  {
   "cell_type": "markdown",
   "id": "ca3e48d7-9d0d-4696-b686-44b54f9a8a8a",
   "metadata": {},
   "source": [
    "Example:\n",
    "- Dataset: 4, 8, 6, 5, 3\n",
    "- Sorted: 3, 4, 5, 6, 8 → Median = 5 (middle value)"
   ]
  },
  {
   "cell_type": "markdown",
   "id": "5e2e9e16-3fb1-4ff7-92ef-e4bdbfd51c59",
   "metadata": {},
   "source": [
    "Even-numbered example:\n",
    "- Dataset: 4, 8, 6, 5\n",
    "- Sorted: 4, 5, 6, 8 → Median = (5 + 6)/2 = 5.5"
   ]
  },
  {
   "cell_type": "markdown",
   "id": "8813c73c-44c1-457c-81d3-c23bad3a393a",
   "metadata": {},
   "source": [
    "3. Mode (Most Frequent Value): \n",
    "    - Definition: The value that occurs most frequently.\n",
    "    - Example:\n",
    "        - Dataset: 3, 6, 8, 6, 9, 6, 4\n",
    "        - Mode = 6 (appears 3 times)  \n",
    "    - If no number repeats → No mode.\n",
    "    - If multiple numbers repeat the most → Multimodal dataset."
   ]
  },
  {
   "cell_type": "markdown",
   "id": "620ec397-d9a3-49d3-b8dd-25444fda27b8",
   "metadata": {},
   "source": [
    "**Q 2.  Write a Python program to compute the variance and standard deviation of a dataset?**"
   ]
  },
  {
   "cell_type": "markdown",
   "id": "986cbe62-6377-485e-85c0-55f49b8afc31",
   "metadata": {},
   "source": [
    "**Ans.** Here's a simple Python program to compute the variance and standard deviation of a dataset using basic statistics formulas:"
   ]
  },
  {
   "cell_type": "code",
   "execution_count": 1,
   "id": "4a3b46af-32cc-40e2-827a-16356ea38021",
   "metadata": {},
   "outputs": [
    {
     "name": "stdout",
     "output_type": "stream",
     "text": [
      "Mean: 18.0\n",
      "Variance: 24.0\n",
      "Standard Deviation: 4.898979485566356\n"
     ]
    }
   ],
   "source": [
    "# Sample dataset\n",
    "data = [10, 12, 23, 23, 16, 23, 21, 16]\n",
    "\n",
    "# Calculate the mean\n",
    "n = len(data)\n",
    "mean = sum(data) / n\n",
    "\n",
    "# Calculate variance\n",
    "variance = sum((x - mean) ** 2 for x in data) / n\n",
    "\n",
    "# Calculate standard deviation\n",
    "standard_deviation = variance ** 0.5\n",
    "\n",
    "# Display results\n",
    "print(\"Mean:\", mean)\n",
    "print(\"Variance:\", variance)\n",
    "print(\"Standard Deviation:\", standard_deviation)\n"
   ]
  },
  {
   "cell_type": "markdown",
   "id": "789303d6-9359-4806-a1e1-755a041e7087",
   "metadata": {},
   "source": [
    "**Alternative Using Python's statistics Module**"
   ]
  },
  {
   "cell_type": "markdown",
   "id": "737fe977-938d-48d8-8584-4172a2084242",
   "metadata": {},
   "source": [
    "If you want a shorter version using Python’s built-in library:"
   ]
  },
  {
   "cell_type": "code",
   "execution_count": 2,
   "id": "0ca18c8d-73b7-4d09-9e6a-0305ed7e6c53",
   "metadata": {},
   "outputs": [
    {
     "name": "stdout",
     "output_type": "stream",
     "text": [
      "Variance: 27.428571428571427\n",
      "Standard Deviation: 5.237229365663818\n"
     ]
    }
   ],
   "source": [
    "import statistics\n",
    "\n",
    "data = [10, 12, 23, 23, 16, 23, 21, 16]\n",
    "\n",
    "variance = statistics.variance(data)  # Sample variance\n",
    "std_dev = statistics.stdev(data)      # Sample standard deviation\n",
    "\n",
    "print(\"Variance:\", variance)\n",
    "print(\"Standard Deviation:\", std_dev)\n"
   ]
  },
  {
   "cell_type": "markdown",
   "id": "d6426a30-7b3a-47dd-81c5-7bdb09fc21b4",
   "metadata": {},
   "source": [
    "**Q 3. Create a dataset and classify it into nominal, ordinal, interval, and ratio types.**"
   ]
  },
  {
   "cell_type": "markdown",
   "id": "3a764bbb-27cd-434b-b00a-407dea00d58f",
   "metadata": {},
   "source": [
    "**Ans.** Here's a sample dataset with each variable classified into the four levels of measurement: nominal, ordinal, interval, and ratio."
   ]
  },
  {
   "cell_type": "markdown",
   "id": "2f6be640-690b-4b0c-9bdf-25842a55fa6b",
   "metadata": {},
   "source": [
    "Sample Datase: \n",
    "\n",
    "| ID | Gender | Satisfaction Level | Temperature (°C) | Age | Income (USD) |\n",
    "| -- | ------ | ------------------ | ---------------- | --- | ------------ |\n",
    "| 1  | Male   | Satisfied          | 22               | 25  | 30000        |\n",
    "| 2  | Female | Neutral            | 18               | 30  | 45000        |\n",
    "| 3  | Female | Dissatisfied       | 25               | 22  | 27000        |\n",
    "| 4  | Male   | Very Satisfied     | 20               | 28  | 50000        |\n",
    "| 5  | Male   | Satisfied          | 24               | 35  | 60000        |\n"
   ]
  },
  {
   "cell_type": "markdown",
   "id": "e018dab4-ae05-4c1d-b070-0854d07d219a",
   "metadata": {},
   "source": [
    "Classification of Data Types:\n",
    "\n",
    "| Variable               | Example Value            | Data Type    | Reason                                                             |\n",
    "| ---------------------- | ------------------------ | ------------ | ------------------------------------------------------------------ |\n",
    "| **Gender**             | Male/Female              | **Nominal**  | Categories with no inherent order (labels only)                    |\n",
    "| **Satisfaction Level** | Satisfied, Neutral, etc. | **Ordinal**  | Ordered categories but no fixed interval between them              |\n",
    "| **Temperature (°C)**   | 22                       | **Interval** | Numeric, ordered, equal intervals, but no true zero                |\n",
    "| **Age**                | 25                       | **Ratio**    | Numeric, ordered, equal intervals, and has a true zero             |\n",
    "| **Income (USD)**       | 30000                    | **Ratio**    | True zero point and meaningful ratios (e.g., 60000 is twice 30000) |\n"
   ]
  },
  {
   "cell_type": "markdown",
   "id": "33e0cd8e-7200-4630-b9c4-9a71f335df72",
   "metadata": {},
   "source": [
    "**Q 4.  Implement sampling techniques like random sampling and stratified sampling.**"
   ]
  },
  {
   "cell_type": "markdown",
   "id": "8a66d0d3-a168-491a-b7c0-5269ce15ba26",
   "metadata": {},
   "source": [
    "**Ans.** Here's how you can implement sampling techniques like random sampling and stratified sampling using Python and the pandas and sklearn libraries."
   ]
  },
  {
   "cell_type": "markdown",
   "id": "27a12dcb-3eb0-476e-a03e-1ae8c3c8f9de",
   "metadata": {},
   "source": [
    "Step-by-Step Implementation:"
   ]
  },
  {
   "cell_type": "markdown",
   "id": "d5218854-e97e-450d-b37e-d7cc055cc236",
   "metadata": {},
   "source": [
    "1. Setup: Import Libraries:\n",
    "   - import pandas as pd\n",
    "   - import numpy as np\n",
    "   - from sklearn.model_selection import train_test_split\n"
   ]
  },
  {
   "cell_type": "markdown",
   "id": "bc423062-1ffb-4fa3-abed-619e212dcb37",
   "metadata": {},
   "source": [
    "2.  Create Sample Dataset: "
   ]
  },
  {
   "cell_type": "code",
   "execution_count": 5,
   "id": "e5c29dd7-23de-45bc-8c35-511868e706f2",
   "metadata": {
    "scrolled": true
   },
   "outputs": [
    {
     "name": "stdout",
     "output_type": "stream",
     "text": [
      "   ID  Age  Gender  Income\n",
      "0   1   56    Male   73565\n",
      "1   2   46  Female   23748\n",
      "2   3   32  Female   51968\n",
      "3   4   25  Female   52562\n",
      "4   5   38    Male   33545\n"
     ]
    }
   ],
   "source": [
    "import pandas as pd\n",
    "import numpy as np\n",
    "from sklearn.model_selection import train_test_split\n",
    "\n",
    "\n",
    "# Create a dataset with 100 samples\n",
    "np.random.seed(42)\n",
    "\n",
    "data = pd.DataFrame({\n",
    "    'ID': range(1, 101),\n",
    "    'Age': np.random.randint(18, 60, size=100),\n",
    "    'Gender': np.random.choice(['Male', 'Female'], size=100),\n",
    "    'Income': np.random.randint(20000, 80000, size=100)\n",
    "})\n",
    "\n",
    "# View first few rows\n",
    "print(data.head())\n"
   ]
  },
  {
   "cell_type": "markdown",
   "id": "0fd3ae2e-dbd9-4bea-97e7-9305e64c362f",
   "metadata": {},
   "source": [
    "3. Random Sampling:\n",
    "    - Randomly select 20% of the data:"
   ]
  },
  {
   "cell_type": "code",
   "execution_count": 7,
   "id": "050b90d0-2fc1-4dfd-8ff7-30ee9343271d",
   "metadata": {},
   "outputs": [
    {
     "name": "stdout",
     "output_type": "stream",
     "text": [
      "Random Sample:\n",
      "    ID  Age  Gender  Income\n",
      "80  81   18    Male   21734\n",
      "84  85   41  Female   38343\n",
      "33  34   24    Male   58623\n",
      "81  82   42  Female   38227\n",
      "93  94   50    Male   59384\n"
     ]
    }
   ],
   "source": [
    "random_sample = data.sample(frac=0.2, random_state=1)\n",
    "\n",
    "print(\"Random Sample:\")\n",
    "print(random_sample.head())\n"
   ]
  },
  {
   "cell_type": "markdown",
   "id": "1ab79f93-6a28-424d-9ec4-6d756b104598",
   "metadata": {},
   "source": [
    "4. Stratified Sampling: \n",
    "    - Stratify based on the Gender column (to maintain male/female proportion):"
   ]
  },
  {
   "cell_type": "code",
   "execution_count": 8,
   "id": "8535068d-fa77-42df-8072-1a9e8293029e",
   "metadata": {},
   "outputs": [
    {
     "name": "stdout",
     "output_type": "stream",
     "text": [
      "Stratified Sample:\n",
      "Gender\n",
      "Male      11\n",
      "Female     9\n",
      "Name: count, dtype: int64\n"
     ]
    }
   ],
   "source": [
    "# Split data using stratified sampling (e.g., 80/20 split)\n",
    "train, stratified_sample = train_test_split(\n",
    "    data,\n",
    "    test_size=0.2,\n",
    "    stratify=data['Gender'],  # stratifying on gender\n",
    "    random_state=42\n",
    ")\n",
    "\n",
    "print(\"Stratified Sample:\")\n",
    "print(stratified_sample['Gender'].value_counts())\n"
   ]
  },
  {
   "cell_type": "markdown",
   "id": "f4e6282d-d6be-4057-9b2a-218a52836f30",
   "metadata": {},
   "source": [
    "**Q 5. Write a Python function to calculate the range of a dataset>**"
   ]
  },
  {
   "cell_type": "markdown",
   "id": "278c1235-ae88-410d-8dab-5af02b1ab0a1",
   "metadata": {},
   "source": [
    "**Ans.** Here's a simple Python function to calculate the range of a dataset:"
   ]
  },
  {
   "cell_type": "markdown",
   "id": "a73137f0-69a2-4177-9f6a-7e0622670386",
   "metadata": {},
   "source": [
    "Definition: The range is the difference between the maximum and minimum values in a dataset:\n",
    "\n",
    "    Range = Max − Min\n"
   ]
  },
  {
   "cell_type": "code",
   "execution_count": 9,
   "id": "2723b5cf-2656-49e5-9e3a-1678a0668e04",
   "metadata": {},
   "outputs": [
    {
     "name": "stdout",
     "output_type": "stream",
     "text": [
      "Range of the dataset: 33\n"
     ]
    }
   ],
   "source": [
    "def calculate_range(data):\n",
    "    if not data:\n",
    "        return None  # Handle empty list\n",
    "    return max(data) - min(data)\n",
    "\n",
    "# Example usage\n",
    "dataset = [10, 25, 7, 40, 18]\n",
    "range_value = calculate_range(dataset)\n",
    "\n",
    "print(\"Range of the dataset:\", range_value)\n"
   ]
  },
  {
   "cell_type": "markdown",
   "id": "87801ec3-98d1-4106-a307-b2099b8bec77",
   "metadata": {},
   "source": [
    "**Q 6. Create a dataset and plot its histogram to visualize skewness.**"
   ]
  },
  {
   "cell_type": "markdown",
   "id": "e12099ca-754f-4923-8f58-755bfb39e698",
   "metadata": {},
   "source": [
    "**Ans.** Step-by-Step: Visualize Skewness: "
   ]
  },
  {
   "cell_type": "markdown",
   "id": "2f682b80-b03c-4e63-a2ce-c8d8fda9209c",
   "metadata": {},
   "source": [
    "1. Import Libraries"
   ]
  },
  {
   "cell_type": "code",
   "execution_count": null,
   "id": "e4c1b59c-4d13-4c57-a05a-50dc98fe988d",
   "metadata": {},
   "outputs": [],
   "source": [
    "import numpy as np\n",
    "import pandas as pd\n",
    "import matplotlib.pyplot as plt\n",
    "import seaborn as sns\n",
    "from scipy.stats import skew"
   ]
  },
  {
   "cell_type": "markdown",
   "id": "ed1157c7-d46e-4128-9b7e-ea9bcc7ff790",
   "metadata": {},
   "source": [
    "2. Create a Skewed Dataset:\n",
    "    - We'll create a positively skewed dataset (right-skewed):"
   ]
  },
  {
   "cell_type": "code",
   "execution_count": 12,
   "id": "a603415f-0ed8-4b9b-a1d5-e2356d9c7455",
   "metadata": {},
   "outputs": [],
   "source": [
    "# Positively skewed data using exponential distribution\n",
    "np.random.seed(42)\n",
    "data = np.random.exponential(scale=2.0, size=1000)\n",
    "\n",
    "# Convert to DataFrame (optional)\n",
    "df = pd.DataFrame(data, columns=['Value'])\n"
   ]
  },
  {
   "cell_type": "markdown",
   "id": "3d23b3ea-2a1e-4e3f-952d-7635cea336f1",
   "metadata": {},
   "source": [
    "3. Plot Histogram and Show Skewness:"
   ]
  },
  {
   "cell_type": "code",
   "execution_count": 15,
   "id": "36c3e38b-4e6e-4c10-aa00-620611dccaf3",
   "metadata": {},
   "outputs": [
    {
     "data": {
      "image/png": "[encoded data removed]",
      "text/plain": [
       "<Figure size 800x500 with 1 Axes>"
      ]
     },
     "metadata": {},
     "output_type": "display_data"
    }
   ],
   "source": [
    "import numpy as np\n",
    "import pandas as pd\n",
    "import matplotlib.pyplot as plt\n",
    "import seaborn as sns\n",
    "from scipy.stats import skew\n",
    "\n",
    "\n",
    "\n",
    "# Positively skewed data using exponential distribution\n",
    "np.random.seed(42)\n",
    "data = np.random.exponential(scale=2.0, size=1000)\n",
    "\n",
    "# Convert to DataFrame (optional)\n",
    "df = pd.DataFrame(data, columns=['Value'])\n",
    "\n",
    "\n",
    "# Plot histogram using seaborn\n",
    "plt.figure(figsize=(8, 5))\n",
    "sns.histplot(df['Value'], bins=30, kde=True, color='skyblue')\n",
    "plt.title('Histogram to Visualize Skewness')\n",
    "plt.xlabel('Value')\n",
    "plt.ylabel('Frequency')\n",
    "\n",
    "# Calculate skewness\n",
    "skewness = skew(df['Value'])\n",
    "plt.axvline(df['Value'].mean(), color='red', linestyle='--', label=f\"Mean (Skewness = {skewness:.2f})\")\n",
    "plt.legend()\n",
    "plt.grid(True)\n",
    "plt.show()\n"
   ]
  },
  {
   "cell_type": "markdown",
   "id": "a101d6e9-b74a-4d44-aa88-ec0a62208900",
   "metadata": {},
   "source": [
    "4. Interpretation: \n",
    " - If skewness > 0 → Right/Positive Skew (tail on the right)\n",
    " - If skewness < 0 → Left/Negative Skew (tail on the left)\n",
    " - If skewness ≈ 0 → Symmetrical (like normal distribution)"
   ]
  },
  {
   "cell_type": "markdown",
   "id": "8cada6c6-81fe-4865-8b3c-7775ab3d879b",
   "metadata": {},
   "source": [
    "**Q 7. Calculate skewness and kurtosis of a dataset using Python libraries.**"
   ]
  },
  {
   "cell_type": "markdown",
   "id": "9d21e449-4371-45c9-99f3-5dcd404244ee",
   "metadata": {},
   "source": [
    "**Using scipy.stats:**"
   ]
  },
  {
   "cell_type": "code",
   "execution_count": 16,
   "id": "734939f1-d450-482f-83ed-edd7d0f03bc3",
   "metadata": {},
   "outputs": [
    {
     "name": "stdout",
     "output_type": "stream",
     "text": [
      "Skewness: -0.24674479166666746\n",
      "Kurtosis (excess): -1.4865632233796293\n"
     ]
    }
   ],
   "source": [
    "import numpy as np\n",
    "from scipy.stats import skew, kurtosis\n",
    "\n",
    "# Example dataset\n",
    "data = [10, 12, 23, 23, 16, 23, 21, 16, 20, 12]\n",
    "\n",
    "# Calculate skewness\n",
    "data_skewness = skew(data)\n",
    "\n",
    "# Calculate kurtosis\n",
    "data_kurtosis = kurtosis(data)  # By default, gives excess kurtosis (normal dist = 0)\n",
    "\n",
    "print(\"Skewness:\", data_skewness)\n",
    "print(\"Kurtosis (excess):\", data_kurtosis)\n"
   ]
  },
  {
   "cell_type": "markdown",
   "id": "0892b081-7f9a-440b-ac92-7145a0f1235e",
   "metadata": {},
   "source": [
    "**Using pandas**"
   ]
  },
  {
   "cell_type": "code",
   "execution_count": 17,
   "id": "548f4bd1-a89e-4b48-b27e-610976a8a12f",
   "metadata": {},
   "outputs": [
    {
     "name": "stdout",
     "output_type": "stream",
     "text": [
      "Skewness: -0.29260332841890135\n",
      "Kurtosis: -1.6637456984747012\n"
     ]
    }
   ],
   "source": [
    "import pandas as pd\n",
    "\n",
    "# Create a DataFrame\n",
    "df = pd.DataFrame({'values': data})\n",
    "\n",
    "# Pandas skew() and kurt() return population values\n",
    "print(\"Skewness:\", df['values'].skew())\n",
    "print(\"Kurtosis:\", df['values'].kurt())\n"
   ]
  },
  {
   "cell_type": "markdown",
   "id": "a04ffd8d-5ddc-49bd-9efb-fa2b28e91144",
   "metadata": {},
   "source": [
    "**Q 8. Generate a dataset and demonstrate positive and negative skewness.**"
   ]
  },
  {
   "cell_type": "markdown",
   "id": "41387f88-c7b0-4943-8f59-2da201cd9525",
   "metadata": {},
   "source": [
    "**Ans.** "
   ]
  },
  {
   "cell_type": "code",
   "execution_count": 18,
   "id": "08130785-f72c-44c2-b298-f4c1f82f847a",
   "metadata": {},
   "outputs": [
    {
     "data": {
      "image/png": "[encoded data removed]",
      "text/plain": [
       "<Figure size 1400x500 with 2 Axes>"
      ]
     },
     "metadata": {},
     "output_type": "display_data"
    }
   ],
   "source": [
    "#  1. Import Required Libraries\n",
    "\n",
    "import numpy as np\n",
    "import pandas as pd\n",
    "import matplotlib.pyplot as plt\n",
    "import seaborn as sns\n",
    "from scipy.stats import skew\n",
    "\n",
    "\n",
    "#  2. Generate Skewed Datasets\n",
    "\n",
    "np.random.seed(42)\n",
    "\n",
    "# Positively skewed (Right-skewed) using exponential distribution\n",
    "positive_skew = np.random.exponential(scale=2.0, size=1000)\n",
    "\n",
    "# Negatively skewed (Left-skewed) using reverse transformation\n",
    "negative_skew = -np.random.exponential(scale=2.0, size=1000)\n",
    "\n",
    "\n",
    "# 3. Plot Both Distributions\n",
    "\n",
    "# Plot histograms side by side\n",
    "fig, axes = plt.subplots(1, 2, figsize=(14, 5))\n",
    "\n",
    "# Positive skew\n",
    "sns.histplot(positive_skew, bins=30, kde=True, color='skyblue', ax=axes[0])\n",
    "axes[0].set_title(f\"Positive Skew (Skewness = {skew(positive_skew):.2f})\")\n",
    "axes[0].set_xlabel(\"Value\")\n",
    "axes[0].set_ylabel(\"Frequency\")\n",
    "\n",
    "# Negative skew\n",
    "sns.histplot(negative_skew, bins=30, kde=True, color='lightcoral', ax=axes[1])\n",
    "axes[1].set_title(f\"Negative Skew (Skewness = {skew(negative_skew):.2f})\")\n",
    "axes[1].set_xlabel(\"Value\")\n",
    "axes[1].set_ylabel(\"Frequency\")\n",
    "\n",
    "plt.tight_layout()\n",
    "plt.show()\n"
   ]
  },
  {
   "cell_type": "markdown",
   "id": "cbb3bd90-131b-4d5c-ac4c-d2dde3764100",
   "metadata": {},
   "source": [
    "**q 9. Write a Python script to calculate covariance between two datasets.**"
   ]
  },
  {
   "cell_type": "markdown",
   "id": "7d14fd96-c3c8-438b-bfdb-df40fd82d472",
   "metadata": {},
   "source": [
    "**Ans.** \n",
    "1. Python Script (Manual Method)"
   ]
  },
  {
   "cell_type": "code",
   "execution_count": 19,
   "id": "12fbdb39-5eb4-4e1e-b2d4-c7f7168fabf3",
   "metadata": {},
   "outputs": [
    {
     "name": "stdout",
     "output_type": "stream",
     "text": [
      "Covariance: 200.0\n"
     ]
    }
   ],
   "source": [
    "def calculate_covariance(x, y):\n",
    "    if len(x) != len(y):\n",
    "        raise ValueError(\"Datasets must be of equal length\")\n",
    "    \n",
    "    n = len(x)\n",
    "    mean_x = sum(x) / n\n",
    "    mean_y = sum(y) / n\n",
    "\n",
    "    # Covariance calculation\n",
    "    covariance = sum((x[i] - mean_x) * (y[i] - mean_y) for i in range(n)) / n\n",
    "    return covariance\n",
    "\n",
    "# Example usage\n",
    "X = [10, 20, 30, 40, 50]\n",
    "Y = [5, 15, 25, 35, 45]\n",
    "\n",
    "cov = calculate_covariance(X, Y)\n",
    "print(\"Covariance:\", cov)\n"
   ]
  },
  {
   "cell_type": "markdown",
   "id": "469297d8-d69b-4fc8-b6f1-887434ab766d",
   "metadata": {},
   "source": [
    "2. Using numpy (Built-in Function):"
   ]
  },
  {
   "cell_type": "code",
   "execution_count": 20,
   "id": "e32c268e-cf59-41ef-a26a-9713d5812a87",
   "metadata": {},
   "outputs": [
    {
     "name": "stdout",
     "output_type": "stream",
     "text": [
      "Covariance (X, Y): 200.0\n"
     ]
    }
   ],
   "source": [
    "import numpy as np\n",
    "\n",
    "X = [10, 20, 30, 40, 50]\n",
    "Y = [5, 15, 25, 35, 45]\n",
    "\n",
    "# Calculate covariance matrix\n",
    "cov_matrix = np.cov(X, Y, bias=True)  # bias=True for population covariance\n",
    "print(\"Covariance (X, Y):\", cov_matrix[0, 1])\n"
   ]
  },
  {
   "cell_type": "markdown",
   "id": "a85cbac3-7a44-4f7c-8e93-3fbf99da52fb",
   "metadata": {},
   "source": [
    "**Q 10. Write a Python script to calculate the correlation coefficient between two datasets.**"
   ]
  },
  {
   "cell_type": "markdown",
   "id": "35da4493-991d-44fb-937b-a40338f5ed31",
   "metadata": {},
   "source": [
    "**Ans.** \n",
    "1.  Python Script (Manual Calculation):"
   ]
  },
  {
   "cell_type": "code",
   "execution_count": 21,
   "id": "36961f58-9a88-4d07-9b68-a8de5b130a6c",
   "metadata": {},
   "outputs": [
    {
     "name": "stdout",
     "output_type": "stream",
     "text": [
      "Correlation Coefficient: 0.9999999999999999\n"
     ]
    }
   ],
   "source": [
    "def calculate_correlation(x, y):\n",
    "    if len(x) != len(y):\n",
    "        raise ValueError(\"Datasets must be of equal length\")\n",
    "    \n",
    "    n = len(x)\n",
    "    mean_x = sum(x) / n\n",
    "    mean_y = sum(y) / n\n",
    "\n",
    "    # Calculate standard deviations\n",
    "    std_x = (sum((xi - mean_x) ** 2 for xi in x) / n) ** 0.5\n",
    "    std_y = (sum((yi - mean_y) ** 2 for yi in y) / n) ** 0.5\n",
    "\n",
    "    # Calculate covariance\n",
    "    covariance = sum((x[i] - mean_x) * (y[i] - mean_y) for i in range(n)) / n\n",
    "\n",
    "    # Pearson correlation\n",
    "    correlation = covariance / (std_x * std_y)\n",
    "    return correlation\n",
    "\n",
    "# Example usage\n",
    "X = [10, 20, 30, 40, 50]\n",
    "Y = [5, 15, 25, 35, 45]\n",
    "\n",
    "corr = calculate_correlation(X, Y)\n",
    "print(\"Correlation Coefficient:\", corr)\n"
   ]
  },
  {
   "cell_type": "markdown",
   "id": "66fc7107-536f-42f0-b3b7-4450d25e4c22",
   "metadata": {},
   "source": [
    "2. Using numpy (Quick Method):"
   ]
  },
  {
   "cell_type": "code",
   "execution_count": 22,
   "id": "cdb8624b-f1d4-4c4a-b2c4-a973d589b9cb",
   "metadata": {},
   "outputs": [
    {
     "name": "stdout",
     "output_type": "stream",
     "text": [
      "Correlation Coefficient: 1.0\n"
     ]
    }
   ],
   "source": [
    "import numpy as np\n",
    "\n",
    "X = [10, 20, 30, 40, 50]\n",
    "Y = [5, 15, 25, 35, 45]\n",
    "\n",
    "correlation_matrix = np.corrcoef(X, Y)\n",
    "print(\"Correlation Coefficient:\", correlation_matrix[0, 1])\n"
   ]
  },
  {
   "cell_type": "markdown",
   "id": "77273a5f-a784-4386-83cc-caf580333fd3",
   "metadata": {},
   "source": [
    "**Q 11. Create a scatter plot to visualize the relationship between two variables.**"
   ]
  },
  {
   "cell_type": "markdown",
   "id": "cbac975b-2207-446d-a04f-d6ff603aeb67",
   "metadata": {},
   "source": [
    "**Ans.** **Step-by-Step: Scatter Plot**"
   ]
  },
  {
   "cell_type": "code",
   "execution_count": 23,
   "id": "5c443cdd-c95a-45c7-b02d-57ac1259a687",
   "metadata": {},
   "outputs": [
    {
     "data": {
      "image/png": "[encoded data removed]",
      "text/plain": [
       "<Figure size 800x500 with 1 Axes>"
      ]
     },
     "metadata": {},
     "output_type": "display_data"
    }
   ],
   "source": [
    "# 1. Import Required Libraries\n",
    "\n",
    "import matplotlib.pyplot as plt\n",
    "import seaborn as sns\n",
    "\n",
    "# 2. Create Sample Data \n",
    "\n",
    "# Example data\n",
    "X = [10, 20, 30, 40, 50, 60, 70]\n",
    "Y = [15, 25, 35, 45, 55, 65, 80]\n",
    "\n",
    "# 3. Create Scatter Plot\n",
    "\n",
    "plt.figure(figsize=(8, 5))\n",
    "plt.scatter(X, Y, color='blue', marker='o')\n",
    "plt.title(\"Scatter Plot of X vs Y\")\n",
    "plt.xlabel(\"X Values\")\n",
    "plt.ylabel(\"Y Values\")\n",
    "plt.grid(True)\n",
    "plt.show()\n"
   ]
  },
  {
   "cell_type": "code",
   "execution_count": null,
   "id": "69859ff1-8ef9-473e-a273-52b699841ef3",
   "metadata": {},
   "outputs": [],
   "source": [
    "Using Seaborn (Optional, cleaner style):"
   ]
  },
  {
   "cell_type": "code",
   "execution_count": 24,
   "id": "163deaea-4be6-4eaa-968d-cb543494a3d6",
   "metadata": {},
   "outputs": [
    {
     "data": {
      "image/png": "[encoded data removed]",
      "text/plain": [
       "<Figure size 640x480 with 1 Axes>"
      ]
     },
     "metadata": {},
     "output_type": "display_data"
    }
   ],
   "source": [
    "import pandas as pd\n",
    "\n",
    "# Create DataFrame\n",
    "df = pd.DataFrame({'X': X, 'Y': Y})\n",
    "\n",
    "# Plot\n",
    "sns.set(style=\"whitegrid\")\n",
    "sns.scatterplot(data=df, x='X', y='Y', color='darkgreen')\n",
    "plt.title(\"Scatter Plot of X vs Y\")\n",
    "plt.show()\n"
   ]
  },
  {
   "cell_type": "markdown",
   "id": "40c13bb8-c976-4198-80cf-9900ff110f67",
   "metadata": {},
   "source": [
    "**Q 12. Implement and compare simple random sampling and systematic sampling.**"
   ]
  },
  {
   "cell_type": "markdown",
   "id": "1991848d-da4f-4ca2-b434-30d46e7b94fb",
   "metadata": {},
   "source": [
    "**Ans.** Let's implement and compare two sampling techniques in Python:\n",
    " - ✅ Simple Random Sampling\n",
    " - ✅ Systematic Sampling\n",
    "\n",
    "We’ll use pandas and numpy to demonstrate both with a made-up dataset."
   ]
  },
  {
   "cell_type": "markdown",
   "id": "d853e3b0-3dae-4068-83b4-7d4f14334362",
   "metadata": {},
   "source": [
    "**Step-by-Step Implementation**"
   ]
  },
  {
   "cell_type": "code",
   "execution_count": 26,
   "id": "571253df-9a70-41c0-9994-fb598934ccda",
   "metadata": {},
   "outputs": [
    {
     "name": "stdout",
     "output_type": "stream",
     "text": [
      "Simple Random Sample:\n",
      "    ID  Value\n",
      "83  84     36\n",
      "53  54     11\n",
      "70  71     21\n",
      "45  46     24\n",
      "44  45     56\n",
      "39  40     45\n",
      "22  23     51\n",
      "80  81     13\n",
      "10  11     23\n",
      "0    1     16\n",
      "\n",
      "Systematic Sample:\n",
      "    ID  Value\n",
      "8    9     88\n",
      "18  19     34\n",
      "28  29     59\n",
      "38  39     50\n",
      "48  49     51\n",
      "58  59     36\n",
      "68  69     41\n",
      "78  79     22\n",
      "88  89     34\n",
      "98  99     69\n"
     ]
    }
   ],
   "source": [
    "# 1. Import Libraries\n",
    "\n",
    "import pandas as pd\n",
    "import numpy as np\n",
    "\n",
    "\n",
    "# 2. Create a Sample Dataset.\n",
    "\n",
    "# Create a dataset of 100 numbers\n",
    "data = pd.DataFrame({'ID': range(1, 101), 'Value': np.random.randint(10, 100, size=100)})\n",
    "\n",
    "\n",
    "# 3. Simple Random Sampling--->  Each item has an equal chance of being selected.\n",
    "\n",
    "# Randomly select 10 samples\n",
    "random_sample = data.sample(n=10, random_state=42)\n",
    "\n",
    "print(\"Simple Random Sample:\")\n",
    "print(random_sample)\n",
    "\n",
    "# 4. Systematic Sampling--->   Pick every k-th item from the population.\n",
    "\n",
    "# Define step size\n",
    "k = 10  # For example, select every 10th item\n",
    "\n",
    "# Random start between 0 and k-1\n",
    "start = np.random.randint(0, k)\n",
    "\n",
    "# Get indexes at regular intervals\n",
    "systematic_indexes = np.arange(start, len(data), k)\n",
    "systematic_sample = data.iloc[systematic_indexes]\n",
    "\n",
    "print(\"\\nSystematic Sample:\")\n",
    "print(systematic_sample)\n"
   ]
  },
  {
   "cell_type": "markdown",
   "id": "8ed66ba4-8f48-45ef-bd37-e3726f08fdd5",
   "metadata": {},
   "source": [
    "> Visual Comparison (Optional)"
   ]
  },
  {
   "cell_type": "code",
   "execution_count": 27,
   "id": "843896fb-c9ef-43d5-9067-8cb602b57c07",
   "metadata": {},
   "outputs": [
    {
     "data": {
      "image/png": "[encoded data removed]",
      "text/plain": [
       "<Figure size 1000x400 with 1 Axes>"
      ]
     },
     "metadata": {},
     "output_type": "display_data"
    }
   ],
   "source": [
    "import matplotlib.pyplot as plt\n",
    "\n",
    "plt.figure(figsize=(10, 4))\n",
    "plt.plot(data['Value'], label='Full Dataset', color='gray', alpha=0.5)\n",
    "plt.scatter(random_sample.index, random_sample['Value'], label='Random Sample', color='blue')\n",
    "plt.scatter(systematic_sample.index, systematic_sample['Value'], label='Systematic Sample', color='green')\n",
    "plt.title(\"Sampling Comparison\")\n",
    "plt.legend()\n",
    "plt.show()\n"
   ]
  },
  {
   "cell_type": "markdown",
   "id": "a3b1629b-bf5d-41c0-82f0-efbbbfb41b1b",
   "metadata": {},
   "source": [
    "**Q 13. Calculate the mean, median, and mode of grouped data.**"
   ]
  },
  {
   "cell_type": "markdown",
   "id": "294a1631-b6a2-4baf-bcbb-471076eb0817",
   "metadata": {},
   "source": [
    "**Ans.** To calculate the mean, median, and mode of grouped data (i.e., data presented in class intervals with frequencies), you use specific formulas designed for grouped frequency distributions."
   ]
  },
  {
   "cell_type": "markdown",
   "id": "7566439c-2520-4394-9692-8845b5d22af1",
   "metadata": {},
   "source": [
    "**Let's assume a grouped frequency table:**"
   ]
  },
  {
   "cell_type": "markdown",
   "id": "eeac6262-db2b-4a35-9e67-f0dde0db7776",
   "metadata": {},
   "source": [
    "| Class Interval | Frequency (f) |\n",
    "| -------------- | ------------- |\n",
    "| 0 - 10         | 5             |\n",
    "| 10 - 20        | 8             |\n",
    "| 20 - 30        | 15            |\n",
    "| 30 - 40        | 16            |\n",
    "| 40 - 50        | 6             |\n"
   ]
  },
  {
   "cell_type": "markdown",
   "id": "6e230c24-cd7a-4681-84df-42b2c87fafd0",
   "metadata": {},
   "source": [
    "**Python Implementation**"
   ]
  },
  {
   "cell_type": "code",
   "execution_count": 28,
   "id": "004abd84-be63-446d-908a-83a27d2b7288",
   "metadata": {},
   "outputs": [
    {
     "name": "stdout",
     "output_type": "stream",
     "text": [
      "Mean: 27.00\n",
      "Median: 28.00\n",
      "Mode: 30.91\n"
     ]
    }
   ],
   "source": [
    "import pandas as pd\n",
    "\n",
    "# Step 1: Define the class intervals and frequencies\n",
    "classes = [(0,10), (10,20), (20,30), (30,40), (40,50)]\n",
    "frequencies = [5, 8, 15, 16, 6]\n",
    "\n",
    "# Step 2: Create DataFrame\n",
    "df = pd.DataFrame(classes, columns=['Lower', 'Upper'])\n",
    "df['Frequency'] = frequencies\n",
    "\n",
    "# Step 3: Calculate class midpoints\n",
    "df['Midpoint'] = (df['Lower'] + df['Upper']) / 2\n",
    "\n",
    "# ------------------------------\n",
    "# ✅ MEAN of grouped data\n",
    "# ------------------------------\n",
    "df['f*x'] = df['Frequency'] * df['Midpoint']\n",
    "mean = df['f*x'].sum() / df['Frequency'].sum()\n",
    "\n",
    "# ------------------------------\n",
    "# ✅ MEDIAN of grouped data\n",
    "# ------------------------------\n",
    "# Cumulative frequency\n",
    "df['Cumulative_Frequency'] = df['Frequency'].cumsum()\n",
    "\n",
    "# Find median class (n/2)\n",
    "n = df['Frequency'].sum()\n",
    "median_class_index = df[df['Cumulative_Frequency'] >= n/2].index[0]\n",
    "\n",
    "# Extract values for formula\n",
    "L = df.loc[median_class_index, 'Lower']\n",
    "F = df.loc[median_class_index, 'Frequency']\n",
    "CF = df.loc[median_class_index - 1, 'Cumulative_Frequency'] if median_class_index > 0 else 0\n",
    "h = df.loc[median_class_index, 'Upper'] - df.loc[median_class_index, 'Lower']\n",
    "\n",
    "# Median formula\n",
    "median = L + ((n/2 - CF) / F) * h\n",
    "\n",
    "# ------------------------------\n",
    "# ✅ MODE of grouped data\n",
    "# ------------------------------\n",
    "modal_index = df['Frequency'].idxmax()\n",
    "\n",
    "L_mode = df.loc[modal_index, 'Lower']\n",
    "f1 = df.loc[modal_index, 'Frequency']\n",
    "f0 = df.loc[modal_index - 1, 'Frequency'] if modal_index > 0 else 0\n",
    "f2 = df.loc[modal_index + 1, 'Frequency'] if modal_index + 1 < len(df) else 0\n",
    "h_mode = df.loc[modal_index, 'Upper'] - df.loc[modal_index, 'Lower']\n",
    "\n",
    "# Mode formula\n",
    "mode = L_mode + ((f1 - f0) / ((2 * f1) - f0 - f2)) * h_mode\n",
    "\n",
    "# ------------------------------\n",
    "# Output Results\n",
    "# ------------------------------\n",
    "print(f\"Mean: {mean:.2f}\")\n",
    "print(f\"Median: {median:.2f}\")\n",
    "print(f\"Mode: {mode:.2f}\")\n"
   ]
  },
  {
   "cell_type": "markdown",
   "id": "4b16da01-c937-4bc6-bce3-ff6e0171c33d",
   "metadata": {},
   "source": [
    "**Q 14,. Simulate data using Python and calculate its central tendency and dispersion.**"
   ]
  },
  {
   "cell_type": "code",
   "execution_count": null,
   "id": "a21022b8-41e8-4a09-957d-2971381ad81c",
   "metadata": {},
   "outputs": [],
   "source": [
    "**Ans.** Step-by-Step Python Code"
   ]
  },
  {
   "cell_type": "code",
   "execution_count": 29,
   "id": "06438fa9-8394-4650-b320-bfefb179b462",
   "metadata": {},
   "outputs": [
    {
     "name": "stdout",
     "output_type": "stream",
     "text": [
      "Mean: 50.19\n",
      "Median: 50.25\n",
      "Mode: 17.59\n",
      "Range: 70.94\n",
      "Variance: 95.89\n",
      "Standard Deviation: 9.79\n"
     ]
    }
   ],
   "source": [
    "import numpy as np\n",
    "import pandas as pd\n",
    "from scipy import stats\n",
    "\n",
    "# Step 1: Simulate Data (e.g., Normal Distribution)\n",
    "np.random.seed(42)\n",
    "data = np.random.normal(loc=50, scale=10, size=1000)  # mean=50, std=10, n=1000\n",
    "df = pd.DataFrame(data, columns=['Value'])\n",
    "\n",
    "\n",
    "# Step 2: Central Tendency Measures\n",
    "\n",
    "mean = df['Value'].mean()\n",
    "median = df['Value'].median()\n",
    "mode = df['Value'].mode()[0]\n",
    "\n",
    "print(\"Mean:\", round(mean, 2))\n",
    "print(\"Median:\", round(median, 2))\n",
    "print(\"Mode:\", round(mode, 2))\n",
    "\n",
    "# Step 3: Dispersion Measures\n",
    "\n",
    "data_range = df['Value'].max() - df['Value'].min()\n",
    "variance = df['Value'].var()\n",
    "std_dev = df['Value'].std()\n",
    "\n",
    "print(\"Range:\", round(data_range, 2))\n",
    "print(\"Variance:\", round(variance, 2))\n",
    "print(\"Standard Deviation:\", round(std_dev, 2))\n"
   ]
  },
  {
   "cell_type": "markdown",
   "id": "dcaf3680-5a35-4cce-ba33-50c9915d6601",
   "metadata": {},
   "source": [
    "**Q 15. Use NumPy or pandas to summarize a dataset’s descriptive statistics.**"
   ]
  },
  {
   "cell_type": "markdown",
   "id": "3ad90ff2-e710-448a-b3f4-c3b9f135cb8b",
   "metadata": {},
   "source": [
    "**Ans.** Using pandas (Best for tabular data): "
   ]
  },
  {
   "cell_type": "code",
   "execution_count": 31,
   "id": "936d6ae8-11e0-40a9-a597-2b3c54d3518a",
   "metadata": {},
   "outputs": [
    {
     "name": "stdout",
     "output_type": "stream",
     "text": [
      "             Age        Income\n",
      "count  100.00000    100.000000\n",
      "mean    40.88000  50685.095437\n",
      "std     13.99082   9977.228057\n",
      "min     18.00000  30600.887814\n",
      "25%     30.50000  42345.190442\n",
      "50%     41.00000  49913.484040\n",
      "75%     53.25000  57533.486775\n",
      "max     64.00000  79436.634165\n"
     ]
    }
   ],
   "source": [
    "import pandas as pd\n",
    "import numpy as np\n",
    "\n",
    "# Simulate some data\n",
    "np.random.seed(42)\n",
    "data = pd.DataFrame({\n",
    "    'Age': np.random.randint(18, 65, 100),\n",
    "    'Income': np.random.normal(50000, 10000, 100)\n",
    "})\n",
    "\n",
    "# Descriptive statistics summary\n",
    "summary = data.describe()\n",
    "\n",
    "print(summary)\n"
   ]
  },
  {
   "cell_type": "markdown",
   "id": "09e10318-ae79-472b-a30b-6485d7796db3",
   "metadata": {},
   "source": [
    "Using NumPy (Manual approach)"
   ]
  },
  {
   "cell_type": "code",
   "execution_count": 32,
   "id": "b7f010a9-7600-4f44-882f-4d2b84d855ec",
   "metadata": {},
   "outputs": [
    {
     "name": "stdout",
     "output_type": "stream",
     "text": [
      "Mean: 40.88\n",
      "Median: 41.0\n",
      "Std Dev: 13.920689638089057\n",
      "Min: 18\n",
      "Max: 64\n",
      "25th percentile: 30.5\n",
      "75th percentile: 53.25\n"
     ]
    }
   ],
   "source": [
    "# Using numpy on a single column\n",
    "age = data['Age'].values\n",
    "\n",
    "print(\"Mean:\", np.mean(age))\n",
    "print(\"Median:\", np.median(age))\n",
    "print(\"Std Dev:\", np.std(age))\n",
    "print(\"Min:\", np.min(age))\n",
    "print(\"Max:\", np.max(age))\n",
    "print(\"25th percentile:\", np.percentile(age, 25))\n",
    "print(\"75th percentile:\", np.percentile(age, 75))\n"
   ]
  },
  {
   "cell_type": "markdown",
   "id": "320b04f6-67c5-4890-83aa-14a64fe40217",
   "metadata": {},
   "source": [
    "**Q 16. Plot a boxplot to understand the spread and identify outliers.**"
   ]
  },
  {
   "cell_type": "markdown",
   "id": "60656f4e-ca27-4956-a2d2-b0c6dfefbd3d",
   "metadata": {},
   "source": [
    "**Ans.** Step-by-Step: Plot a Boxplot Using Python"
   ]
  },
  {
   "cell_type": "code",
   "execution_count": 33,
   "id": "0a5776ab-341b-4bd6-bc16-33bcfb438588",
   "metadata": {},
   "outputs": [
    {
     "data": {
      "image/png": "[encoded data removed]",
      "text/plain": [
       "<Figure size 800x500 with 1 Axes>"
      ]
     },
     "metadata": {},
     "output_type": "display_data"
    }
   ],
   "source": [
    "# Step 1. Import Required Libraries:\n",
    "\n",
    "import pandas as pd\n",
    "import numpy as np\n",
    "import seaborn as sns\n",
    "import matplotlib.pyplot as plt\n",
    "\n",
    "\n",
    "# Step 2. Create or Simulate a Dataset\n",
    "\n",
    "# Simulate income data with some outliers\n",
    "np.random.seed(42)\n",
    "data = np.random.normal(loc=50000, scale=8000, size=100)\n",
    "outliers = [120000, 130000, 150000]  # Add extreme outliers\n",
    "income = np.concatenate([data, outliers])\n",
    "\n",
    "df = pd.DataFrame({'Income': income})\n",
    "\n",
    "\n",
    "# Step 3. Plot the Boxplot\n",
    "\n",
    "plt.figure(figsize=(8, 5))\n",
    "sns.boxplot(x='Income', data=df, color='skyblue')\n",
    "\n",
    "plt.title(\"Boxplot of Income\")\n",
    "plt.xlabel(\"Income\")\n",
    "plt.grid(True)\n",
    "plt.show()\n"
   ]
  },
  {
   "cell_type": "markdown",
   "id": "621a55be-90bf-49f2-b2ee-35f38840ec17",
   "metadata": {},
   "source": [
    "**Q 17.  Calculate the interquartile range (IQR) of a dataset**"
   ]
  },
  {
   "cell_type": "markdown",
   "id": "2035c432-18e1-4af7-86be-fca3e0c7abbe",
   "metadata": {},
   "source": [
    "**Ans.** "
   ]
  },
  {
   "cell_type": "markdown",
   "id": "1f4b2490-0351-48c6-a7cf-b003625ee95a",
   "metadata": {},
   "source": [
    "1. Using NumPy"
   ]
  },
  {
   "cell_type": "code",
   "execution_count": 34,
   "id": "a04f6a8b-0b93-4610-9b5e-ffea5d0ef4e6",
   "metadata": {},
   "outputs": [
    {
     "name": "stdout",
     "output_type": "stream",
     "text": [
      "Q1 (25th percentile): 12.5\n",
      "Q3 (75th percentile): 28.75\n",
      "Interquartile Range (IQR): 16.25\n"
     ]
    }
   ],
   "source": [
    "import numpy as np\n",
    "\n",
    "# Sample data\n",
    "data = [12, 7, 3, 18, 25, 14, 22, 30, 40, 50]\n",
    "\n",
    "# Calculate Q1 and Q3\n",
    "q1 = np.percentile(data, 25)\n",
    "q3 = np.percentile(data, 75)\n",
    "\n",
    "# Calculate IQR\n",
    "iqr = q3 - q1\n",
    "\n",
    "print(\"Q1 (25th percentile):\", q1)\n",
    "print(\"Q3 (75th percentile):\", q3)\n",
    "print(\"Interquartile Range (IQR):\", iqr)\n"
   ]
  },
  {
   "cell_type": "markdown",
   "id": "1cdfd6ca-78b0-4c3d-9679-184dfdf58168",
   "metadata": {},
   "source": [
    "2. Using pandas"
   ]
  },
  {
   "cell_type": "code",
   "execution_count": 35,
   "id": "f10e8f30-34b1-4a6d-945d-c024238ccb0a",
   "metadata": {},
   "outputs": [
    {
     "name": "stdout",
     "output_type": "stream",
     "text": [
      "IQR using pandas: 16.25\n"
     ]
    }
   ],
   "source": [
    "import pandas as pd\n",
    "\n",
    "df = pd.DataFrame({'values': data})\n",
    "\n",
    "q1 = df['values'].quantile(0.25)\n",
    "q3 = df['values'].quantile(0.75)\n",
    "iqr = q3 - q1\n",
    "\n",
    "print(\"IQR using pandas:\", iqr)\n"
   ]
  },
  {
   "cell_type": "markdown",
   "id": "6078680f-20fd-4e59-9e05-d2bfc0aa0cfc",
   "metadata": {},
   "source": [
    "**Q 18. Implement Z-score normalization and explain its significance.**"
   ]
  },
  {
   "cell_type": "markdown",
   "id": "558bb302-f73e-4f62-a9ab-b0c25d7d7afc",
   "metadata": {},
   "source": [
    "**Ans.** Z-score normalization (also called standardization) transforms data so that:\n",
    "- The mean becomes 0\n",
    "- The standard deviation becomes 1"
   ]
  },
  {
   "cell_type": "markdown",
   "id": "75b2e4c7-ef0d-4548-a8e6-8f0d210b2ae1",
   "metadata": {},
   "source": [
    "     z  =  ( x − μ) / σ\n",
    "\n",
    "- Where:\n",
    "    - 𝑥 = original value\n",
    "    - 𝜇 = mean of the dataset\n",
    "    - 𝜎 = standard deviation\n",
    "\n"
   ]
  },
  {
   "cell_type": "markdown",
   "id": "f857c75e-10f1-4181-89f2-0121f06fb6b2",
   "metadata": {},
   "source": [
    "**Python Implementation**"
   ]
  },
  {
   "cell_type": "markdown",
   "id": "17f3db03-1fdb-44b3-a5e6-90cb2af2cff2",
   "metadata": {},
   "source": [
    "**Method 1: Manual Z-score Calculation**"
   ]
  },
  {
   "cell_type": "code",
   "execution_count": 36,
   "id": "a86c05cb-5b3c-45d1-ad17-c9cef51befa1",
   "metadata": {},
   "outputs": [
    {
     "name": "stdout",
     "output_type": "stream",
     "text": [
      "Original Data: [50 60 70 80 90]\n",
      "Z-scores: [-1.41421356 -0.70710678  0.          0.70710678  1.41421356]\n"
     ]
    }
   ],
   "source": [
    "import numpy as np\n",
    "\n",
    "# Original data\n",
    "data = np.array([50, 60, 70, 80, 90])\n",
    "\n",
    "# Calculate mean and std deviation\n",
    "mean = np.mean(data)\n",
    "std = np.std(data)\n",
    "\n",
    "# Z-score normalization\n",
    "z_scores = (data - mean) / std\n",
    "\n",
    "print(\"Original Data:\", data)\n",
    "print(\"Z-scores:\", z_scores)\n"
   ]
  },
  {
   "cell_type": "markdown",
   "id": "2882ce10-a3e7-41b4-a410-e426fb83621e",
   "metadata": {},
   "source": [
    "**Method 2: Using scikit-learn**"
   ]
  },
  {
   "cell_type": "code",
   "execution_count": 37,
   "id": "3693dca9-4927-492b-b78e-4cad08d19cd1",
   "metadata": {},
   "outputs": [
    {
     "name": "stdout",
     "output_type": "stream",
     "text": [
      "Z-score normalized values:\n",
      " [-1.41421356 -0.70710678  0.          0.70710678  1.41421356]\n"
     ]
    }
   ],
   "source": [
    "from sklearn.preprocessing import StandardScaler\n",
    "\n",
    "# Reshape for sklearn\n",
    "data = data.reshape(-1, 1)\n",
    "\n",
    "# Apply StandardScaler\n",
    "scaler = StandardScaler()\n",
    "z_scaled = scaler.fit_transform(data)\n",
    "\n",
    "print(\"Z-score normalized values:\\n\", z_scaled.flatten())\n"
   ]
  },
  {
   "cell_type": "markdown",
   "id": "1d4de80b-0f3f-4927-a49d-458b9d1269de",
   "metadata": {},
   "source": [
    "**Q 19.  Compare two datasets using their standard deviations.**"
   ]
  },
  {
   "cell_type": "markdown",
   "id": "72d71d62-f59a-44bb-bfff-9ba34342e456",
   "metadata": {},
   "source": [
    "**Ans.** Comparing two datasets using their standard deviations helps you understand which dataset has more variability (spread) around the mean."
   ]
  },
  {
   "cell_type": "markdown",
   "id": "f92c561b-e580-4bea-9b29-0a6adedeaa45",
   "metadata": {},
   "source": [
    "*Why Compare Standard Deviation?:*\n",
    "- A higher standard deviation means the data points are more spread out.\n",
    "- A lower standard deviation means the data points are more clustered around the mean."
   ]
  },
  {
   "cell_type": "markdown",
   "id": "57c88492-5bf0-4326-8be2-abc15f83b09d",
   "metadata": {},
   "source": [
    "*Python Example: Compare Two Datasets*"
   ]
  },
  {
   "cell_type": "code",
   "execution_count": 38,
   "id": "394b5645-edfc-4486-a2d9-7e02782207b9",
   "metadata": {},
   "outputs": [
    {
     "name": "stdout",
     "output_type": "stream",
     "text": [
      "Standard Deviation of Dataset A: 1.03\n",
      "Standard Deviation of Dataset B: 12.21\n",
      "Dataset B has more variability.\n"
     ]
    }
   ],
   "source": [
    "import numpy as np\n",
    "\n",
    "# Dataset A: More consistent values\n",
    "dataset_A = [50, 52, 51, 53, 52, 50, 51]\n",
    "\n",
    "# Dataset B: More variable values\n",
    "dataset_B = [40, 60, 45, 70, 55, 35, 65]\n",
    "\n",
    "# Calculate standard deviations\n",
    "std_A = np.std(dataset_A)\n",
    "std_B = np.std(dataset_B)\n",
    "\n",
    "# Print results\n",
    "print(\"Standard Deviation of Dataset A:\", round(std_A, 2))\n",
    "print(\"Standard Deviation of Dataset B:\", round(std_B, 2))\n",
    "\n",
    "# Comparison\n",
    "if std_A > std_B:\n",
    "    print(\"Dataset A has more variability.\")\n",
    "elif std_B > std_A:\n",
    "    print(\"Dataset B has more variability.\")\n",
    "else:\n",
    "    print(\"Both datasets have the same variability.\")\n"
   ]
  },
  {
   "cell_type": "markdown",
   "id": "b91b2f67-1edd-4032-bb7a-d2eebac917a5",
   "metadata": {},
   "source": [
    "Visual Comparison with Boxplots"
   ]
  },
  {
   "cell_type": "code",
   "execution_count": 39,
   "id": "acbba74a-1a06-46a6-8677-26bccaddc467",
   "metadata": {},
   "outputs": [
    {
     "name": "stderr",
     "output_type": "stream",
     "text": [
      "C:\\Users\\UMER NAZIR\\AppData\\Local\\Temp\\ipykernel_11116\\4026400982.py:5: MatplotlibDeprecationWarning: The 'labels' parameter of boxplot() has been renamed 'tick_labels' since Matplotlib 3.9; support for the old name will be dropped in 3.11.\n",
      "  plt.boxplot(data, labels=['Dataset A', 'Dataset B'])\n"
     ]
    },
    {
     "data": {
      "image/png": "[encoded data removed]",
      "text/plain": [
       "<Figure size 640x480 with 1 Axes>"
      ]
     },
     "metadata": {},
     "output_type": "display_data"
    }
   ],
   "source": [
    "import matplotlib.pyplot as plt\n",
    "\n",
    "data = [dataset_A, dataset_B]\n",
    "\n",
    "plt.boxplot(data, labels=['Dataset A', 'Dataset B'])\n",
    "plt.title(\"Standard Deviation Comparison\")\n",
    "plt.ylabel(\"Values\")\n",
    "plt.grid(True)\n",
    "plt.show()\n"
   ]
  },
  {
   "cell_type": "markdown",
   "id": "2ccf1d09-4d25-4eb3-b098-2010abf8106a",
   "metadata": {},
   "source": [
    "**Q 20. Write a Python program to visualize covariance using a heatmap.**"
   ]
  },
  {
   "cell_type": "markdown",
   "id": "1dfd0a43-5dbe-4162-8ab7-c4e262c49789",
   "metadata": {},
   "source": [
    "**Ans.** Certainly! Here's a complete Python program to calculate and visualize the covariance matrix using a heatmap."
   ]
  },
  {
   "cell_type": "markdown",
   "id": "b8e7ab16-b812-4dbe-b76f-130e4f439d5f",
   "metadata": {},
   "source": [
    "*Goal: Visualize Covariance Matrix as a Heatmap*"
   ]
  },
  {
   "cell_type": "markdown",
   "id": "a3ba0d52-d689-47c0-a143-1cfa092e19ed",
   "metadata": {},
   "source": [
    "**Step-by-Step Code**"
   ]
  },
  {
   "cell_type": "code",
   "execution_count": 40,
   "id": "accc5216-8ee1-4444-b829-b2c97d8dd30d",
   "metadata": {},
   "outputs": [
    {
     "data": {
      "image/png": "[encoded data removed]",
      "text/plain": [
       "<Figure size 800x600 with 2 Axes>"
      ]
     },
     "metadata": {},
     "output_type": "display_data"
    }
   ],
   "source": [
    "import pandas as pd\n",
    "import numpy as np\n",
    "import seaborn as sns\n",
    "import matplotlib.pyplot as plt\n",
    "\n",
    "# Step 1: Simulate a dataset with multiple variables\n",
    "np.random.seed(42)\n",
    "\n",
    "# Create a DataFrame\n",
    "data = pd.DataFrame({\n",
    "    'Height': np.random.normal(170, 10, 100),\n",
    "    'Weight': np.random.normal(70, 15, 100),\n",
    "    'Age': np.random.randint(18, 65, size=100)\n",
    "})\n",
    "\n",
    "# Step 2: Compute the Covariance Matrix\n",
    "cov_matrix = data.cov()\n",
    "\n",
    "# Step 3: Plot Covariance Heatmap\n",
    "plt.figure(figsize=(8, 6))\n",
    "sns.heatmap(cov_matrix, annot=True, cmap='coolwarm', fmt=\".2f\", square=True, linewidths=0.5)\n",
    "\n",
    "plt.title(\"Covariance Matrix Heatmap\")\n",
    "plt.tight_layout()\n",
    "plt.show()\n"
   ]
  },
  {
   "cell_type": "markdown",
   "id": "89977e8c-5250-4a3b-9818-ae90cbf53bb8",
   "metadata": {},
   "source": [
    "**Q 21. Use seaborn to create a correlation matrix for a dataset.**"
   ]
  },
  {
   "cell_type": "markdown",
   "id": "1addd56c-e950-42a5-8e47-0a0c53cbe194",
   "metadata": {},
   "source": [
    "**Ans.** Step-by-Step: Create a Correlation Matrix with Seaborn"
   ]
  },
  {
   "cell_type": "code",
   "execution_count": null,
   "id": "e457f42f-f093-4a0b-8e34-20029664adb9",
   "metadata": {},
   "outputs": [],
   "source": [
    "# Step 1. Import Libraries\n",
    "\n",
    "import pandas as pd\n",
    "import numpy as np\n",
    "import seaborn as sns\n",
    "import matplotlib.pyplot as plt\n",
    "\n",
    "# Step 2. Create or Load Dataset"
   ]
  },
  {
   "cell_type": "code",
   "execution_count": 41,
   "id": "730aab2b-8220-459b-955e-296b0788daa7",
   "metadata": {},
   "outputs": [
    {
     "data": {
      "image/png": "[encoded data removed]",
      "text/plain": [
       "<Figure size 800x600 with 2 Axes>"
      ]
     },
     "metadata": {},
     "output_type": "display_data"
    }
   ],
   "source": [
    "# Simulate sample data\n",
    "np.random.seed(42)\n",
    "data = pd.DataFrame({\n",
    "    'Height': np.random.normal(170, 10, 100),\n",
    "    'Weight': np.random.normal(70, 15, 100),\n",
    "    'Age': np.random.randint(18, 65, 100)\n",
    "})\n",
    "\n",
    "# Stwep 3. Compute Correlation Matrix\n",
    "\n",
    "correlation_matrix = data.corr()\n",
    "\n",
    "# Step 4. Plot the Correlation Matrix as a Heatmap\n",
    "\n",
    "plt.figure(figsize=(8, 6))\n",
    "sns.heatmap(correlation_matrix, annot=True, cmap='coolwarm', fmt=\".2f\", square=True, linewidths=0.5)\n",
    "\n",
    "plt.title(\"Correlation Matrix Heatmap\")\n",
    "plt.tight_layout()\n",
    "plt.show()\n"
   ]
  },
  {
   "cell_type": "markdown",
   "id": "1208ab31-aab8-436b-8ee2-444a02a48ff6",
   "metadata": {},
   "source": [
    "**Q 22.  Generate a dataset and implement both variance and standard deviation computations.**"
   ]
  },
  {
   "cell_type": "markdown",
   "id": "dc3635dc-d92d-4e0f-84c0-35dd4c15d066",
   "metadata": {},
   "source": [
    "**Ans.** Step-by-Step: Variance & Standard Deviation:"
   ]
  },
  {
   "cell_type": "code",
   "execution_count": 43,
   "id": "63248ff7-aa81-48aa-908f-be80461b13c1",
   "metadata": {},
   "outputs": [
    {
     "name": "stdout",
     "output_type": "stream",
     "text": [
      "Dataset: [61 24 81 70 30 92 96 84 84 97]\n",
      "\n",
      "Manual Calculation:\n",
      "Mean: 71.9\n",
      "Variance: 616.29\n",
      "Standard Deviation: 24.83\n"
     ]
    }
   ],
   "source": [
    "# Step 1. Import Libraries\n",
    "\n",
    "import numpy as np\n",
    "import pandas as pd\n",
    "\n",
    "# Step 2. Generate a Sample Dataset\n",
    "\n",
    "# Generate 10 random integers between 10 and 100\n",
    "np.random.seed(42)\n",
    "data = np.random.randint(10, 100, size=10)\n",
    "\n",
    "print(\"Dataset:\", data)\n",
    "\n",
    "# Strep . Manual Calculation (Population)\n",
    "\n",
    "# Mean\n",
    "mean = np.mean(data)\n",
    "\n",
    "# Variance (Population)\n",
    "variance = np.sum((data - mean)**2) / len(data)\n",
    "\n",
    "# Standard Deviation (Population)\n",
    "std_dev = np.sqrt(variance)\n",
    "\n",
    "print(\"\\nManual Calculation:\")\n",
    "print(\"Mean:\", round(mean, 2))\n",
    "print(\"Variance:\", round(variance, 2))\n",
    "print(\"Standard Deviation:\", round(std_dev, 2))\n"
   ]
  },
  {
   "cell_type": "markdown",
   "id": "3fd1b90b-cbcc-48fa-a865-0e52297008a4",
   "metadata": {},
   "source": [
    "4. Using NumPy / pandas (Built-in)"
   ]
  },
  {
   "cell_type": "code",
   "execution_count": 44,
   "id": "92cbbd67-b48c-47d3-a723-68355c7378de",
   "metadata": {},
   "outputs": [
    {
     "name": "stdout",
     "output_type": "stream",
     "text": [
      "\n",
      "Using NumPy:\n",
      "Variance (Population): 616.29\n",
      "Standard Deviation (Population): 24.83\n",
      "\n",
      "Using pandas:\n",
      "Variance (Sample): 684.77\n",
      "Standard Deviation (Sample): 26.17\n"
     ]
    }
   ],
   "source": [
    "# Variance and Standard Deviation using NumPy\n",
    "print(\"\\nUsing NumPy:\")\n",
    "print(\"Variance (Population):\", round(np.var(data), 2))\n",
    "print(\"Standard Deviation (Population):\", round(np.std(data), 2))\n",
    "\n",
    "# Convert to DataFrame for pandas\n",
    "df = pd.DataFrame({'values': data})\n",
    "\n",
    "print(\"\\nUsing pandas:\")\n",
    "print(\"Variance (Sample):\", round(df['values'].var(), 2))\n",
    "print(\"Standard Deviation (Sample):\", round(df['values'].std(), 2))\n"
   ]
  },
  {
   "cell_type": "markdown",
   "id": "528a6680-6d37-4776-98fb-092f31b90636",
   "metadata": {},
   "source": [
    "**Q 23. Visualize skewness and kurtosis using Python libraries like matplotlib or seaborn.**"
   ]
  },
  {
   "cell_type": "markdown",
   "id": "c567f8ed-e071-44be-9993-c0bab3576078",
   "metadata": {},
   "source": [
    "**Ans.** Step-by-Step: Visualize Skewness & Kurtosis:"
   ]
  },
  {
   "cell_type": "code",
   "execution_count": 45,
   "id": "da7d8730-a406-48ea-a133-778ae24e4862",
   "metadata": {},
   "outputs": [
    {
     "data": {
      "image/png": "[encoded data removed]",
      "text/plain": [
       "<Figure size 1000x500 with 1 Axes>"
      ]
     },
     "metadata": {},
     "output_type": "display_data"
    }
   ],
   "source": [
    "# Step  1. Import Required Libraries:\n",
    "\n",
    "import numpy as np\n",
    "import pandas as pd\n",
    "import seaborn as sns\n",
    "import matplotlib.pyplot as plt\n",
    "from scipy.stats import skew, kurtosis\n",
    "\n",
    "\n",
    "# Step 2. Simulate a Dataset ---> We'll use an exponential distribution to create positive skewness and high kurtosis:\n",
    "\n",
    "# Generate skewed data\n",
    "np.random.seed(42)\n",
    "data = np.random.exponential(scale=2.0, size=1000)\n",
    "\n",
    "# Convert to DataFrame\n",
    "df = pd.DataFrame({'Value': data})\n",
    "\n",
    "\n",
    "# Step 3. Plot Histogram with KDE: \n",
    "\n",
    "plt.figure(figsize=(10, 5))\n",
    "sns.histplot(df['Value'], bins=30, kde=True, color='skyblue')\n",
    "plt.axvline(df['Value'].mean(), color='red', linestyle='--', label=f\"Mean: {df['Value'].mean():.2f}\")\n",
    "\n",
    "# Calculate skewness and kurtosis\n",
    "data_skew = skew(df['Value'])\n",
    "data_kurt = kurtosis(df['Value'])  # excess kurtosis\n",
    "\n",
    "plt.title(f\"Skewness: {data_skew:.2f} | Kurtosis: {data_kurt:.2f}\")\n",
    "plt.xlabel(\"Value\")\n",
    "plt.ylabel(\"Frequency\")\n",
    "plt.legend()\n",
    "plt.grid(True)\n",
    "plt.show()\n"
   ]
  },
  {
   "cell_type": "markdown",
   "id": "83fb208e-531b-491f-aed9-66366b557e34",
   "metadata": {},
   "source": [
    "**Q 24. Implement the Pearson and Spearman correlation coefficients for a dataset.**"
   ]
  },
  {
   "cell_type": "markdown",
   "id": "cbe26117-1888-4cbd-874a-22ce2dcfe3af",
   "metadata": {},
   "source": [
    "**Ans.** Here's how to implement both the Pearson correlation coefficient and the Spearman rank correlation coefficient in Python using a sample dataset."
   ]
  },
  {
   "cell_type": "markdown",
   "id": "af3c9949-69a4-4cc1-8097-3721b4617254",
   "metadata": {},
   "source": [
    "**Key Differences:**\n",
    "\n",
    "| Correlation Type | Measures                            | Use Case                                |\n",
    "| ---------------- | ----------------------------------- | --------------------------------------- |\n",
    "| **Pearson**      | Linear relationship                 | Quantitative, normally distributed data |\n",
    "| **Spearman**     | Monotonic relationship (rank-based) | Ordinal data, or non-normal             |\n"
   ]
  },
  {
   "cell_type": "markdown",
   "id": "caff7f71-1ae5-454e-921e-17223a1d2d72",
   "metadata": {},
   "source": [
    "**Python Implementation**"
   ]
  },
  {
   "cell_type": "code",
   "execution_count": 46,
   "id": "0b34bd29-71cc-4d9c-80b9-30a6e01c132f",
   "metadata": {},
   "outputs": [
    {
     "name": "stdout",
     "output_type": "stream",
     "text": [
      "Pearson Correlation Coefficient: -0.032\n",
      "Pearson p-value: 0.895\n",
      "\n",
      "Spearman Correlation Coefficient: -0.122\n",
      "Spearman p-value: 0.608\n"
     ]
    }
   ],
   "source": [
    "# Step 1: Import Libraries\n",
    "\n",
    "import pandas as pd\n",
    "import numpy as np\n",
    "from scipy.stats import pearsonr, spearmanr\n",
    "\n",
    "\n",
    "# vStep 2: Create Sample Dataset\n",
    "\n",
    "# Simulated dataset\n",
    "np.random.seed(42)\n",
    "df = pd.DataFrame({\n",
    "    'X': np.random.randint(10, 100, 20),\n",
    "    'Y': np.random.randint(10, 100, 20)\n",
    "})\n",
    "\n",
    "\n",
    "# Step 3: Pearson Correlation\n",
    "\n",
    "# Pearson correlation\n",
    "pearson_corr, p_val_pearson = pearsonr(df['X'], df['Y'])\n",
    "print(\"Pearson Correlation Coefficient:\", round(pearson_corr, 3))\n",
    "print(\"Pearson p-value:\", round(p_val_pearson, 3))\n",
    "\n",
    "# Step 4: Spearman Correlation\n",
    "\n",
    "# Spearman correlation\n",
    "spearman_corr, p_val_spearman = spearmanr(df['X'], df['Y'])\n",
    "print(\"\\nSpearman Correlation Coefficient:\", round(spearman_corr, 3))\n",
    "print(\"Spearman p-value:\", round(p_val_spearman, 3))\n",
    "\n"
   ]
  },
  {
   "cell_type": "markdown",
   "id": "d15496b1-93dd-4717-8077-2730b3fbe1bc",
   "metadata": {},
   "source": [
    "**Visualize the Relationship**"
   ]
  },
  {
   "cell_type": "code",
   "execution_count": 47,
   "id": "feeafce5-c1a5-466b-a505-7c4dddd56047",
   "metadata": {},
   "outputs": [
    {
     "data": {
      "image/png": "[encoded data removed]",
      "text/plain": [
       "<Figure size 640x480 with 1 Axes>"
      ]
     },
     "metadata": {},
     "output_type": "display_data"
    }
   ],
   "source": [
    "import seaborn as sns\n",
    "import matplotlib.pyplot as plt\n",
    "\n",
    "sns.scatterplot(data=df, x='X', y='Y')\n",
    "plt.title(\"Scatter Plot of X vs Y\")\n",
    "plt.grid(True)\n",
    "plt.show()\n"
   ]
  }
 ],
 "metadata": {
  "kernelspec": {
   "display_name": "Python 3 (ipykernel)",
   "language": "python",
   "name": "python3"
  },
  "language_info": {
   "codemirror_mode": {
    "name": "ipython",
    "version": 3
   },
   "file_extension": ".py",
   "mimetype": "text/x-python",
   "name": "python",
   "nbconvert_exporter": "python",
   "pygments_lexer": "ipython3",
   "version": "3.13.3"
  }
 },
 "nbformat": 4,
 "nbformat_minor": 5
}
